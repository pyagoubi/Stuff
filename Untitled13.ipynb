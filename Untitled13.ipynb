{
  "nbformat": 4,
  "nbformat_minor": 0,
  "metadata": {
    "colab": {
      "provenance": [],
      "machine_shape": "hm",
      "gpuType": "V100",
      "authorship_tag": "ABX9TyMZ5vhCZQg/tZo92KhSSCj0",
      "include_colab_link": true
    },
    "kernelspec": {
      "name": "python3",
      "display_name": "Python 3"
    },
    "language_info": {
      "name": "python"
    },
    "accelerator": "GPU",
    "gpuClass": "standard"
  },
  "cells": [
    {
      "cell_type": "markdown",
      "metadata": {
        "id": "view-in-github",
        "colab_type": "text"
      },
      "source": [
        "<a href=\"https://colab.research.google.com/github/pyagoubi/Stuff/blob/main/Untitled13.ipynb\" target=\"_parent\"><img src=\"https://colab.research.google.com/assets/colab-badge.svg\" alt=\"Open In Colab\"/></a>"
      ]
    },
    {
      "cell_type": "code",
      "execution_count": 1,
      "metadata": {
        "colab": {
          "base_uri": "https://localhost:8080/"
        },
        "id": "5fLfxPOfE4DL",
        "outputId": "17c2322a-70a3-45e2-8fbe-c70a3f91185c"
      },
      "outputs": [
        {
          "output_type": "stream",
          "name": "stdout",
          "text": [
            "Drive already mounted at /content/drive; to attempt to forcibly remount, call drive.mount(\"/content/drive\", force_remount=True).\n"
          ]
        }
      ],
      "source": [
        "#Mounting Google Drive\n",
        "from google.colab import drive\n",
        "drive.mount('/content/drive')\n"
      ]
    },
    {
      "cell_type": "code",
      "source": [
        "%%capture\n",
        "!pip install bt"
      ],
      "metadata": {
        "id": "SkB6VukkwtQ5"
      },
      "execution_count": 2,
      "outputs": []
    },
    {
      "cell_type": "code",
      "source": [
        "%matplotlib inline\n",
        "import torch\n",
        "import torch.nn as nn\n",
        "import torch.optim as optim\n",
        "from torch.utils import data\n",
        "from torch.utils.data import dataloader\n",
        "#import bt as bt\n",
        "import os, sys, itertools, urllib, io\n",
        "import datetime as dt\n",
        "import pandas as pd\n",
        "import pandas_datareader as dr\n",
        "import numpy as np\n",
        "import matplotlib.pyplot as plt\n",
        "import seaborn as sns\n",
        "\n",
        "from sklearn.preprocessing import MinMaxScaler, StandardScaler\n",
        "from torch.utils.data import Dataset"
      ],
      "metadata": {
        "id": "oSKi_kqqwtKb"
      },
      "execution_count": null,
      "outputs": []
    },
    {
      "cell_type": "code",
      "source": [
        "tech_daily_raw = pd.read_csv('/content/drive/MyDrive/stock predict/technical/1D_technical.csv')\n",
        "#features = ['open', 'high', 'low', 'close', 'rsi', 'adx', 'cci', 'ema', 'stoch', 'trend_macd', 'momentum_stoch', 'volatility_atr']\n",
        "cols = ['rsi', 'adx', 'cci', 'ema', 'stoch', 'close']\n",
        "features = ['rsi', 'adx', 'cci', 'ema', 'stoch', 'close']\n",
        "tech_daily = tech_daily_raw[cols].copy()\n",
        "\n",
        "# init deterministic seed\n",
        "seed_value = 1234\n",
        "np.random.seed(seed_value) # set numpy seed\n",
        "torch.manual_seed(seed_value); # set pytorch seed CPU\n",
        "\n",
        "# set cpu or gpu enabled device\n",
        "device = torch.device('cuda' if torch.cuda.is_available() else 'cpu').type\n",
        "\n",
        "# init deterministic GPU seed\n",
        "torch.cuda.manual_seed(seed_value)\n",
        "\n",
        "# log type of device enabled\n",
        "now = dt.datetime.utcnow().strftime(\"%Y%m%d-%H:%M:%S\")\n",
        "print('[LOG {}] notebook with \\'{}\\' computation enabled'.format(str(now), str(device)))\n",
        "\n",
        "\n",
        "\n"
      ],
      "metadata": {
        "id": "A2x5ZKh-yCSd"
      },
      "execution_count": null,
      "outputs": []
    },
    {
      "cell_type": "code",
      "source": [
        "tech_daily['return'] = np.log(tech_daily['close']) - np.log(tech_daily['close'].shift(1))\n",
        "\n",
        "# #features = features + ['return']\n",
        "# #features = ['return']\n",
        "\n",
        "# tech_daily = tech_daily[features]"
      ],
      "metadata": {
        "id": "DaVKZxUTWhzG"
      },
      "execution_count": null,
      "outputs": []
    },
    {
      "cell_type": "code",
      "source": [
        "#scaler = MinMaxScaler()\n",
        "tech_daily_scaled = pd.DataFrame(columns = tech_daily.columns)\n",
        "\n",
        "scaler = StandardScaler()\n",
        "#tech_daily_scaled[features] = pd.DataFrame(scaler.fit_transform(tech_daily), columns = features)\n",
        "\n",
        "tech_daily_scaled[features] = scaler.fit_transform(tech_daily[features])\n",
        "tech_daily_scaled['return'] = tech_daily['return']"
      ],
      "metadata": {
        "id": "nsxKS_orrnTP"
      },
      "execution_count": null,
      "outputs": []
    },
    {
      "cell_type": "code",
      "source": [
        "tech_daily_scaled = tech_daily_scaled[1:]"
      ],
      "metadata": {
        "id": "A4B1THsbK_Te"
      },
      "execution_count": null,
      "outputs": []
    },
    {
      "cell_type": "markdown",
      "source": [],
      "metadata": {
        "id": "WAjIX-FyouuI"
      }
    },
    {
      "cell_type": "code",
      "source": [
        "split_fraction = 0.8\n",
        "split_row = int(tech_daily.shape[0] * split_fraction)\n",
        "\n",
        "#tech_daily_scaled = tech_daily_scaled[1:]\n",
        "\n",
        "train_stock_data_return = tech_daily_scaled.iloc[:split_row]\n",
        "valid_stock_data_return = tech_daily_scaled.iloc[split_row:]"
      ],
      "metadata": {
        "id": "uFDj_0uKWhmK"
      },
      "execution_count": null,
      "outputs": []
    },
    {
      "cell_type": "code",
      "source": [
        "time_steps = 20 # number of predictor timesteps\n",
        "horizon = 1 # number of timesteps to be predicted\n",
        "sequence_length = time_steps + horizon # determine sequence length"
      ],
      "metadata": {
        "id": "3zH0TwSZWhjD"
      },
      "execution_count": null,
      "outputs": []
    },
    {
      "cell_type": "code",
      "source": [
        "import numpy as np\n",
        "import torch\n",
        "\n",
        "def create_sequences(df, seq_length):\n",
        "    df = df.values  # Convert DataFrame to numpy array\n",
        "    \n",
        "    n = df.shape[0]\n",
        "    xs = np.zeros((n - seq_length, seq_length, df.shape[1]))\n",
        "    ys = np.zeros((n - seq_length, 1))\n",
        "    \n",
        "    for i in range(n - seq_length):\n",
        "        xs[i] = df[i:(i+seq_length)]\n",
        "        ys[i] = df[i+seq_length, -1]  # predict the 'return' column one step ahead\n",
        "    \n",
        "    # Convert to PyTorch tensors\n",
        "    X = torch.from_numpy(xs)\n",
        "    y = torch.from_numpy(ys)\n",
        "    \n",
        "    return X, y"
      ],
      "metadata": {
        "id": "dv-fNAKdqSZn"
      },
      "execution_count": null,
      "outputs": []
    },
    {
      "cell_type": "code",
      "source": [
        "train, train_target = create_sequences(train_stock_data_return, sequence_length)\n",
        "valid, valid_target = create_sequences(valid_stock_data_return, sequence_length)\n",
        "\n",
        "full_set, full_target = create_sequences(tech_daily_scaled, sequence_length)"
      ],
      "metadata": {
        "id": "_RRAcBi7qSVh"
      },
      "execution_count": null,
      "outputs": []
    },
    {
      "cell_type": "code",
      "source": [
        "from torch.utils.data import Dataset\n",
        "\n",
        "class SequenceDataset(Dataset):\n",
        "    def __init__(self, sequences, targets):\n",
        "        self.sequences = sequences\n",
        "        self.targets = targets\n",
        "\n",
        "    def __len__(self):\n",
        "        return len(self.targets)\n",
        "\n",
        "    def __getitem__(self, idx):\n",
        "        return self.sequences[idx], self.targets[idx]"
      ],
      "metadata": {
        "id": "4E35iVolqSPS"
      },
      "execution_count": null,
      "outputs": []
    },
    {
      "cell_type": "code",
      "source": [
        "import torch\n",
        "import torch.nn as nn\n",
        "\n",
        "class MultivariateLSTM(nn.Module):\n",
        "    def __init__(self, input_size, hidden_size, num_layers, output_size):\n",
        "        super(MultivariateLSTM, self).__init__()\n",
        "        \n",
        "        self.hidden_size = hidden_size\n",
        "        self.num_layers = num_layers\n",
        "        \n",
        "        self.lstm = nn.LSTM(input_size, hidden_size, num_layers, batch_first=True)\n",
        "        \n",
        "        self.fc1 = nn.Linear(hidden_size, 10)\n",
        "        self.fc2 = nn.Linear(10, 1)\n",
        "        #self.fc3 = nn.Linear(10, output_size)\n",
        "\n",
        "    def forward(self, x):\n",
        "        h0 = torch.zeros(self.num_layers, x.size(0), self.hidden_size).to(x.device)\n",
        "        c0 = torch.zeros(self.num_layers, x.size(0), self.hidden_size).to(x.device)\n",
        "        \n",
        "        out, _ = self.lstm(x, (h0, c0))\n",
        "        \n",
        "        out = self.fc1(out[:, -1, :])\n",
        "        out = self.fc2(out)\n",
        "        #out = self.fc3(out)\n",
        "        \n",
        "        return out"
      ],
      "metadata": {
        "id": "JUFx6BgPqSME"
      },
      "execution_count": null,
      "outputs": []
    },
    {
      "cell_type": "code",
      "source": [
        "class RMSELoss(nn.Module):\n",
        "    def __init__(self):\n",
        "        super().__init__()\n",
        "        self.mse = nn.MSELoss()\n",
        "        \n",
        "    def forward(self,yhat,y):\n",
        "        return torch.sqrt(self.mse(yhat,y))"
      ],
      "metadata": {
        "id": "LRQv4e525jNJ"
      },
      "execution_count": null,
      "outputs": []
    },
    {
      "cell_type": "code",
      "source": [
        "from torch.utils.data import DataLoader\n",
        "import copy\n",
        "\n",
        "def train_model(model, train, train_target, valid, valid_target, learning_rate, num_epochs):\n",
        "    device = torch.device('cuda' if torch.cuda.is_available() else 'cpu')\n",
        "    model = model.to(device)\n",
        "\n",
        "    #criterion = nn.MSELoss()\n",
        "    criterion = RMSELoss()\n",
        "    optimizer = torch.optim.Adam(model.parameters(), lr=learning_rate)\n",
        "\n",
        "    train_dataset = SequenceDataset(train, train_target)\n",
        "    val_dataset = SequenceDataset(valid, valid_target)\n",
        "\n",
        "    train_loader = DataLoader(train_dataset, batch_size=32, shuffle=True)\n",
        "    val_loader = DataLoader(val_dataset, batch_size=32, shuffle=False)\n",
        "\n",
        "    best_model_wts = copy.deepcopy(model.state_dict())\n",
        "    best_loss = float('inf')\n",
        "\n",
        "    train_losses = []\n",
        "    val_losses = []\n",
        "\n",
        "    best_predictions = []\n",
        "    for epoch in range(num_epochs):\n",
        "        model.train()\n",
        "        train_epoch_losses = []\n",
        "        for sequences, targets in train_loader:\n",
        "            sequences = sequences.float().to(device)  # Convert to float\n",
        "            targets = targets.float().to(device)  # Convert to float\n",
        "\n",
        "\n",
        "            # Forward pass\n",
        "            outputs = model(sequences)\n",
        "            loss = criterion(outputs, targets)\n",
        "\n",
        "            # Backward pass and optimization\n",
        "            optimizer.zero_grad()\n",
        "            loss.backward()\n",
        "            optimizer.step()\n",
        "\n",
        "            train_epoch_losses.append(loss.item())\n",
        "\n",
        "        model.eval()\n",
        "        val_epoch_losses = []\n",
        "        with torch.no_grad():\n",
        "            for sequences, targets in val_loader:\n",
        "                sequences = sequences.float().to(device)  # Convert to float\n",
        "                targets = targets.float().to(device)  # Convert to float\n",
        "\n",
        "\n",
        "                outputs = model(sequences)\n",
        "                loss = criterion(outputs, targets)\n",
        "                val_epoch_losses.append(loss.item())\n",
        "     \n",
        "        train_loss = np.mean(train_epoch_losses)\n",
        "        val_loss = np.mean(val_epoch_losses)\n",
        "        \n",
        "        train_losses.append(train_loss)\n",
        "        val_losses.append(val_loss)\n",
        "             \n",
        "        print(f'Epoch {epoch+1}/{num_epochs}, '\n",
        "              f'Train Loss: {train_loss:.4f}, '\n",
        "              f'Validation Loss: {val_loss:.4f}')\n",
        "\n",
        "\n",
        "        if val_loss < best_loss:\n",
        "            best_loss = val_loss\n",
        "            best_model_wts = copy.deepcopy(model.state_dict())\n",
        "            torch.save(model.state_dict(), 'best_model.pth')  # Save the model\n",
        "            best_epoch = epoch\n",
        "\n",
        "\n",
        "    # load best model weights\n",
        "    model.load_state_dict(best_model_wts)\n",
        "\n",
        "    print(f'Best Loss {best_loss}, Epoch = {best_epoch}')\n",
        "    \n",
        "    # Plot the train loss and validation loss per epoch\n",
        "    plt.figure(figsize=(12, 8))\n",
        "    plt.plot(train_losses, label='Train Loss')\n",
        "    plt.plot(val_losses, label='Validation Loss')\n",
        "    plt.title('Loss per epoch')\n",
        "    plt.xlabel('Epochs')\n",
        "    plt.ylabel('Loss')\n",
        "    plt.legend()\n",
        "    plt.show()\n",
        "\n",
        "\n",
        "    # generate predictions based on the best model\n",
        "    train_predictions = []\n",
        "    valid_predictions = []\n",
        "    with torch.no_grad():\n",
        "        for sequences, _ in train_loader:\n",
        "            sequences = sequences.float().to(device)\n",
        "            outputs = model(sequences)\n",
        "            train_predictions.extend(outputs.cpu().numpy().flatten().tolist())\n",
        "\n",
        "        for sequences, _ in val_loader:\n",
        "            sequences = sequences.float().to(device)\n",
        "            outputs = model(sequences)\n",
        "            valid_predictions.extend(outputs.cpu().numpy().flatten().tolist())\n",
        "\n",
        "    return model\n",
        "\n",
        "# Use the function:\n",
        "num_features = train.shape[-1]  # X is your input data\n",
        "model = MultivariateLSTM(input_size=num_features, hidden_size=40, num_layers=2, output_size=1)\n",
        "model = train_model(model, train, train_target, valid, valid_target, learning_rate=0.001, num_epochs=100)\n"
      ],
      "metadata": {
        "id": "2gANCFXjqSJA"
      },
      "execution_count": null,
      "outputs": []
    },
    {
      "cell_type": "code",
      "source": [
        "\n",
        "def create_predictions(df, model):\n",
        "\n",
        "  dataset = SequenceDataset(df, full_target)\n",
        "  data_loader = DataLoader(dataset, batch_size=32, shuffle=True)\n",
        "  model.eval()\n",
        "\n",
        "  predictions = []\n",
        "  with torch.no_grad():\n",
        "      for sequences, _ in data_loader:\n",
        "          sequences = sequences.float().to(device)\n",
        "          outputs = model(sequences)\n",
        "          predictions.extend(outputs.cpu().numpy().flatten().tolist())\n",
        "\n",
        "  return predictions"
      ],
      "metadata": {
        "id": "iJQq_bLW86CK"
      },
      "execution_count": null,
      "outputs": []
    },
    {
      "cell_type": "code",
      "source": [
        "predictions = create_predictions(full_set, model)"
      ],
      "metadata": {
        "id": "AzW1I67488Ty"
      },
      "execution_count": null,
      "outputs": []
    },
    {
      "cell_type": "code",
      "source": [
        "len(predictions)"
      ],
      "metadata": {
        "id": "w5u1c7_rDfZA"
      },
      "execution_count": null,
      "outputs": []
    },
    {
      "cell_type": "code",
      "source": [
        "predictions = [0]*sequence_length + predictions"
      ],
      "metadata": {
        "id": "5iOHAZjND7WK"
      },
      "execution_count": null,
      "outputs": []
    },
    {
      "cell_type": "code",
      "source": [
        "len(predictions)"
      ],
      "metadata": {
        "id": "RV70bsx5j-Yb"
      },
      "execution_count": null,
      "outputs": []
    },
    {
      "cell_type": "code",
      "source": [
        "len(tech_daily)"
      ],
      "metadata": {
        "id": "OPAgfgNCkqnI"
      },
      "execution_count": null,
      "outputs": []
    },
    {
      "cell_type": "code",
      "source": [
        "tech_daily = tech_daily[1:]"
      ],
      "metadata": {
        "id": "EITpgEvqpxzf"
      },
      "execution_count": null,
      "outputs": []
    },
    {
      "cell_type": "code",
      "source": [
        "tech_daily['return predictions'] = predictions"
      ],
      "metadata": {
        "id": "TiShA7UHkuWL"
      },
      "execution_count": null,
      "outputs": []
    },
    {
      "cell_type": "code",
      "source": [
        "def calculate_prices(df):\n",
        "    prices = [df['close'].iloc[0]]\n",
        "    for ret in df['return predictions'].iloc[1:]:\n",
        "        prices.append(prices[-1] * (1 + ret))\n",
        "    return prices\n",
        "\n",
        "tech_daily['price prediction'] = calculate_prices(tech_daily)"
      ],
      "metadata": {
        "id": "ohVwRUp9p4s2"
      },
      "execution_count": null,
      "outputs": []
    },
    {
      "cell_type": "code",
      "source": [
        "tech_daily['close'].iloc[0]"
      ],
      "metadata": {
        "id": "6h5oND-9re-Y"
      },
      "execution_count": null,
      "outputs": []
    },
    {
      "cell_type": "code",
      "source": [
        "plotting_df = tech_daily[len(tech_daily)-len(tech_daily):]"
      ],
      "metadata": {
        "id": "ZfFUwazDmNHh"
      },
      "execution_count": null,
      "outputs": []
    },
    {
      "cell_type": "code",
      "source": [
        "plt.figure(figsize=(20, 8))\n",
        "plt.plot(plotting_df['close'], label='Real closing price')\n",
        "plt.plot(plotting_df['price prediction'], label='Predictions')\n",
        "plt.title('Real vs Predictions')\n",
        "plt.xlabel('Time')\n",
        "plt.ylabel('Price')\n",
        "plt.legend()\n",
        "plt.show()"
      ],
      "metadata": {
        "id": "QehraCuwlp0Y"
      },
      "execution_count": null,
      "outputs": []
    },
    {
      "cell_type": "code",
      "source": [],
      "metadata": {
        "id": "l-t526s5qHLx"
      },
      "execution_count": null,
      "outputs": []
    }
  ]
}