{
  "nbformat": 4,
  "nbformat_minor": 0,
  "metadata": {
    "colab": {
      "provenance": [],
      "authorship_tag": "ABX9TyM3BcOTOLkeS7V9dJT29aqb",
      "include_colab_link": true
    },
    "kernelspec": {
      "name": "python3",
      "display_name": "Python 3"
    },
    "language_info": {
      "name": "python"
    }
  },
  "cells": [
    {
      "cell_type": "markdown",
      "metadata": {
        "id": "view-in-github",
        "colab_type": "text"
      },
      "source": [
        "<a href=\"https://colab.research.google.com/github/pyagoubi/Stuff/blob/main/Weedsmart.ipynb\" target=\"_parent\"><img src=\"https://colab.research.google.com/assets/colab-badge.svg\" alt=\"Open In Colab\"/></a>"
      ]
    },
    {
      "cell_type": "code",
      "execution_count": 1,
      "metadata": {
        "colab": {
          "base_uri": "https://localhost:8080/"
        },
        "id": "-Zc9zem0nVpp",
        "outputId": "aead899a-111c-40d8-f9da-c7fd7efb86f4"
      },
      "outputs": [
        {
          "output_type": "stream",
          "name": "stdout",
          "text": [
            "Mounted at /content/drive\n"
          ]
        }
      ],
      "source": [
        "#Mounting Google Drive\n",
        "from google.colab import drive\n",
        "drive.mount('/content/drive')"
      ]
    },
    {
      "cell_type": "code",
      "source": [
        "import pandas as pd\n",
        "from matplotlib import pyplot as plt\n",
        "import seaborn as sns\n",
        "import numpy as np\n",
        "import math"
      ],
      "metadata": {
        "id": "HX_AQuClnXgv"
      },
      "execution_count": 2,
      "outputs": []
    },
    {
      "cell_type": "code",
      "source": [
        "data = pd.read_excel('/content/drive/MyDrive/upwork3/WeedSmart_v6.xlsx')\n",
        "\n",
        "df_clean = pd.read_excel('/content/drive/MyDrive/upwork3/WeedSmart_clean.xlsx')\n",
        "\n",
        "df_clean =df_clean.replace('Commercial rep (e.g. chemical, machinery)', 'Commercial Rep')\n",
        "df_clean =df_clean.replace('Farm owner', 'Farmer')\n",
        "df_clean =df_clean.replace('Farm employee', 'Farmer')"
      ],
      "metadata": {
        "id": "4ZjbFt3T-mU8"
      },
      "execution_count": 3,
      "outputs": []
    },
    {
      "cell_type": "code",
      "source": [
        "def plots( df_clean, col_sum , occ_all, title, gb = 'Occupation'):\n",
        "\n",
        "  \n",
        "\n",
        "  summary_count = pd.DataFrame(df_clean[col_sum].groupby(gb).count().sum(), columns = ['Number of entries'])\n",
        "  sum_table = summary_count.copy()\n",
        "  sum_table['Percentage']=pd.DataFrame(summary_count['Number of entries']/occ_all).applymap('{:.1%}'.format)\n",
        "  sum_df=pd.DataFrame(summary_count['Number of entries']/occ_all)\n",
        "\n",
        "\n",
        "  display(sum_table)\n",
        "\n",
        "  print('\\n\\n\\n')\n",
        "  fig, ax = plt.subplots(1,1, figsize = (10,5))\n",
        "  plt.title(title)\n",
        "  ax.bar(sum_df.index,sum_df['Number of entries']*100, align = 'center', width = 0.6)\n",
        "  ax.set_xticks(ax.get_xticks(), ax.get_xticklabels(), rotation=40, ha='right')\n",
        "  ax.bar_label(ax.containers[0], label_type='edge', fmt='%.f%%')\n",
        "  ax.set_ylim(0, 110)\n",
        "  plt.show()\n",
        "\n",
        "  print('\\n\\n\\n')\n",
        "  print('\\n\\n\\n')\n",
        "\n",
        "  r = math.ceil(len(col_sum)/2)\n",
        "  cols = col_sum[1:]\n",
        "  fig, ax = plt.subplots(r,2, figsize=(10,r*4))\n",
        "  #fig.suptitle('Herbicide resistance testing',fontsize=16)\n",
        "  row=0\n",
        "  col=[0,1]*r\n",
        "  for i, column in enumerate(cols):\n",
        "      plot_fig = pd.DataFrame(df_clean.loc[:, [gb, column]].groupby(gb)[column].count())\n",
        "      if (i!=0)&(i%2==0):\n",
        "          row+=1\n",
        "      axs = ax[row,col[i]]\n",
        "      axs.bar(plot_fig.index,plot_fig[column]/occ_all*100)\n",
        "      axs.set_xticks(axs.get_xticks(), axs.get_xticklabels(), rotation=40, ha='right')\n",
        "      axs.set_title(column )\n",
        "      axs.bar_label(axs.containers[0], label_type='edge', fmt='%.0f%%')\n",
        "      axs.set_ylim(0, 110)\n",
        "  fig.tight_layout()"
      ],
      "metadata": {
        "id": "vBCwVSfy_BtW"
      },
      "execution_count": 4,
      "outputs": []
    },
    {
      "cell_type": "markdown",
      "source": [
        "# Location"
      ],
      "metadata": {
        "id": "fY23MXtRrtkA"
      }
    },
    {
      "cell_type": "code",
      "source": [
        "loc_col = [ 'Location','Occupation']\n",
        "loc_summary = pd.DataFrame(df_clean[['Location', 'Occupation']].groupby('Location').count()).rename(columns = {'Occupation':'Percentage'})\n",
        "loc_summary['Number of entries'] = loc_summary['Percentage']\n",
        "#pd.DataFrame(loc_summary['Number of entries']/loc_summary['Number of entries'].sum()).applymap('{:.1%}'.format)\n",
        "loc_summary['Percentage']=  pd.DataFrame(loc_summary['Percentage']/175).applymap('{:.1%}'.format)\n",
        "loc_summary"
      ],
      "metadata": {
        "id": "YbsWEJbErwDW",
        "colab": {
          "base_uri": "https://localhost:8080/",
          "height": 488
        },
        "outputId": "5cabf82a-4908-410d-b2e6-1b9f7b4eb753"
      },
      "execution_count": null,
      "outputs": [
        {
          "output_type": "execute_result",
          "data": {
            "text/plain": [
              "                                 Percentage  Number of entries\n",
              "Location                                                      \n",
              "NSW Central                            7.4%                 13\n",
              "NSW NE/ QLD SE                        10.9%                 19\n",
              "NSW NW/ QLD SW                         2.9%                  5\n",
              "NSW/ VIC Slopes                       13.7%                 24\n",
              "QLD Central/ Northern                  1.7%                  3\n",
              "SA Mid North/ Lower Yorke Eyre        19.4%                 34\n",
              "SA VIC Mallee                          5.1%                  9\n",
              "SA/ VIC Bordertown. Wimmera           10.3%                 18\n",
              "VIC High Rainfall                      5.1%                  9\n",
              "WA Central                            14.3%                 25\n",
              "WA Eastern                             0.6%                  1\n",
              "WA Mallee/ Sandplain (Esperance)       2.9%                  5\n",
              "WA Northern (inc Ord)                  2.3%                  4"
            ],
            "text/html": [
              "\n",
              "  <div id=\"df-82c206ea-2ef3-4798-8a86-a4af04e01800\">\n",
              "    <div class=\"colab-df-container\">\n",
              "      <div>\n",
              "<style scoped>\n",
              "    .dataframe tbody tr th:only-of-type {\n",
              "        vertical-align: middle;\n",
              "    }\n",
              "\n",
              "    .dataframe tbody tr th {\n",
              "        vertical-align: top;\n",
              "    }\n",
              "\n",
              "    .dataframe thead th {\n",
              "        text-align: right;\n",
              "    }\n",
              "</style>\n",
              "<table border=\"1\" class=\"dataframe\">\n",
              "  <thead>\n",
              "    <tr style=\"text-align: right;\">\n",
              "      <th></th>\n",
              "      <th>Percentage</th>\n",
              "      <th>Number of entries</th>\n",
              "    </tr>\n",
              "    <tr>\n",
              "      <th>Location</th>\n",
              "      <th></th>\n",
              "      <th></th>\n",
              "    </tr>\n",
              "  </thead>\n",
              "  <tbody>\n",
              "    <tr>\n",
              "      <th>NSW Central</th>\n",
              "      <td>7.4%</td>\n",
              "      <td>13</td>\n",
              "    </tr>\n",
              "    <tr>\n",
              "      <th>NSW NE/ QLD SE</th>\n",
              "      <td>10.9%</td>\n",
              "      <td>19</td>\n",
              "    </tr>\n",
              "    <tr>\n",
              "      <th>NSW NW/ QLD SW</th>\n",
              "      <td>2.9%</td>\n",
              "      <td>5</td>\n",
              "    </tr>\n",
              "    <tr>\n",
              "      <th>NSW/ VIC Slopes</th>\n",
              "      <td>13.7%</td>\n",
              "      <td>24</td>\n",
              "    </tr>\n",
              "    <tr>\n",
              "      <th>QLD Central/ Northern</th>\n",
              "      <td>1.7%</td>\n",
              "      <td>3</td>\n",
              "    </tr>\n",
              "    <tr>\n",
              "      <th>SA Mid North/ Lower Yorke Eyre</th>\n",
              "      <td>19.4%</td>\n",
              "      <td>34</td>\n",
              "    </tr>\n",
              "    <tr>\n",
              "      <th>SA VIC Mallee</th>\n",
              "      <td>5.1%</td>\n",
              "      <td>9</td>\n",
              "    </tr>\n",
              "    <tr>\n",
              "      <th>SA/ VIC Bordertown. Wimmera</th>\n",
              "      <td>10.3%</td>\n",
              "      <td>18</td>\n",
              "    </tr>\n",
              "    <tr>\n",
              "      <th>VIC High Rainfall</th>\n",
              "      <td>5.1%</td>\n",
              "      <td>9</td>\n",
              "    </tr>\n",
              "    <tr>\n",
              "      <th>WA Central</th>\n",
              "      <td>14.3%</td>\n",
              "      <td>25</td>\n",
              "    </tr>\n",
              "    <tr>\n",
              "      <th>WA Eastern</th>\n",
              "      <td>0.6%</td>\n",
              "      <td>1</td>\n",
              "    </tr>\n",
              "    <tr>\n",
              "      <th>WA Mallee/ Sandplain (Esperance)</th>\n",
              "      <td>2.9%</td>\n",
              "      <td>5</td>\n",
              "    </tr>\n",
              "    <tr>\n",
              "      <th>WA Northern (inc Ord)</th>\n",
              "      <td>2.3%</td>\n",
              "      <td>4</td>\n",
              "    </tr>\n",
              "  </tbody>\n",
              "</table>\n",
              "</div>\n",
              "      <button class=\"colab-df-convert\" onclick=\"convertToInteractive('df-82c206ea-2ef3-4798-8a86-a4af04e01800')\"\n",
              "              title=\"Convert this dataframe to an interactive table.\"\n",
              "              style=\"display:none;\">\n",
              "        \n",
              "  <svg xmlns=\"http://www.w3.org/2000/svg\" height=\"24px\"viewBox=\"0 0 24 24\"\n",
              "       width=\"24px\">\n",
              "    <path d=\"M0 0h24v24H0V0z\" fill=\"none\"/>\n",
              "    <path d=\"M18.56 5.44l.94 2.06.94-2.06 2.06-.94-2.06-.94-.94-2.06-.94 2.06-2.06.94zm-11 1L8.5 8.5l.94-2.06 2.06-.94-2.06-.94L8.5 2.5l-.94 2.06-2.06.94zm10 10l.94 2.06.94-2.06 2.06-.94-2.06-.94-.94-2.06-.94 2.06-2.06.94z\"/><path d=\"M17.41 7.96l-1.37-1.37c-.4-.4-.92-.59-1.43-.59-.52 0-1.04.2-1.43.59L10.3 9.45l-7.72 7.72c-.78.78-.78 2.05 0 2.83L4 21.41c.39.39.9.59 1.41.59.51 0 1.02-.2 1.41-.59l7.78-7.78 2.81-2.81c.8-.78.8-2.07 0-2.86zM5.41 20L4 18.59l7.72-7.72 1.47 1.35L5.41 20z\"/>\n",
              "  </svg>\n",
              "      </button>\n",
              "      \n",
              "  <style>\n",
              "    .colab-df-container {\n",
              "      display:flex;\n",
              "      flex-wrap:wrap;\n",
              "      gap: 12px;\n",
              "    }\n",
              "\n",
              "    .colab-df-convert {\n",
              "      background-color: #E8F0FE;\n",
              "      border: none;\n",
              "      border-radius: 50%;\n",
              "      cursor: pointer;\n",
              "      display: none;\n",
              "      fill: #1967D2;\n",
              "      height: 32px;\n",
              "      padding: 0 0 0 0;\n",
              "      width: 32px;\n",
              "    }\n",
              "\n",
              "    .colab-df-convert:hover {\n",
              "      background-color: #E2EBFA;\n",
              "      box-shadow: 0px 1px 2px rgba(60, 64, 67, 0.3), 0px 1px 3px 1px rgba(60, 64, 67, 0.15);\n",
              "      fill: #174EA6;\n",
              "    }\n",
              "\n",
              "    [theme=dark] .colab-df-convert {\n",
              "      background-color: #3B4455;\n",
              "      fill: #D2E3FC;\n",
              "    }\n",
              "\n",
              "    [theme=dark] .colab-df-convert:hover {\n",
              "      background-color: #434B5C;\n",
              "      box-shadow: 0px 1px 3px 1px rgba(0, 0, 0, 0.15);\n",
              "      filter: drop-shadow(0px 1px 2px rgba(0, 0, 0, 0.3));\n",
              "      fill: #FFFFFF;\n",
              "    }\n",
              "  </style>\n",
              "\n",
              "      <script>\n",
              "        const buttonEl =\n",
              "          document.querySelector('#df-82c206ea-2ef3-4798-8a86-a4af04e01800 button.colab-df-convert');\n",
              "        buttonEl.style.display =\n",
              "          google.colab.kernel.accessAllowed ? 'block' : 'none';\n",
              "\n",
              "        async function convertToInteractive(key) {\n",
              "          const element = document.querySelector('#df-82c206ea-2ef3-4798-8a86-a4af04e01800');\n",
              "          const dataTable =\n",
              "            await google.colab.kernel.invokeFunction('convertToInteractive',\n",
              "                                                     [key], {});\n",
              "          if (!dataTable) return;\n",
              "\n",
              "          const docLinkHtml = 'Like what you see? Visit the ' +\n",
              "            '<a target=\"_blank\" href=https://colab.research.google.com/notebooks/data_table.ipynb>data table notebook</a>'\n",
              "            + ' to learn more about interactive tables.';\n",
              "          element.innerHTML = '';\n",
              "          dataTable['output_type'] = 'display_data';\n",
              "          await google.colab.output.renderOutput(dataTable, element);\n",
              "          const docLink = document.createElement('div');\n",
              "          docLink.innerHTML = docLinkHtml;\n",
              "          element.appendChild(docLink);\n",
              "        }\n",
              "      </script>\n",
              "    </div>\n",
              "  </div>\n",
              "  "
            ]
          },
          "metadata": {},
          "execution_count": 114
        }
      ]
    },
    {
      "cell_type": "code",
      "source": [
        "pd.DataFrame(loc_summary['Number of entries']/loc_summary['Number of entries'].sum()).applymap('{:.1%}'.format)"
      ],
      "metadata": {
        "colab": {
          "base_uri": "https://localhost:8080/",
          "height": 488
        },
        "id": "w9b11sxArKVF",
        "outputId": "20258edf-03d9-4a2f-c5b4-5c6ade03d820"
      },
      "execution_count": null,
      "outputs": [
        {
          "output_type": "execute_result",
          "data": {
            "text/plain": [
              "                                 Number of entries\n",
              "Location                                          \n",
              "NSW Central                                   7.7%\n",
              "NSW NE/ QLD SE                               11.2%\n",
              "NSW NW/ QLD SW                                3.0%\n",
              "NSW/ VIC Slopes                              14.2%\n",
              "QLD Central/ Northern                         1.8%\n",
              "SA Mid North/ Lower Yorke Eyre               20.1%\n",
              "SA VIC Mallee                                 5.3%\n",
              "SA/ VIC Bordertown. Wimmera                  10.7%\n",
              "VIC High Rainfall                             5.3%\n",
              "WA Central                                   14.8%\n",
              "WA Eastern                                    0.6%\n",
              "WA Mallee/ Sandplain (Esperance)              3.0%\n",
              "WA Northern (inc Ord)                         2.4%"
            ],
            "text/html": [
              "\n",
              "  <div id=\"df-7941fa2d-2a73-4d55-b07c-8b43140e6e5f\">\n",
              "    <div class=\"colab-df-container\">\n",
              "      <div>\n",
              "<style scoped>\n",
              "    .dataframe tbody tr th:only-of-type {\n",
              "        vertical-align: middle;\n",
              "    }\n",
              "\n",
              "    .dataframe tbody tr th {\n",
              "        vertical-align: top;\n",
              "    }\n",
              "\n",
              "    .dataframe thead th {\n",
              "        text-align: right;\n",
              "    }\n",
              "</style>\n",
              "<table border=\"1\" class=\"dataframe\">\n",
              "  <thead>\n",
              "    <tr style=\"text-align: right;\">\n",
              "      <th></th>\n",
              "      <th>Number of entries</th>\n",
              "    </tr>\n",
              "    <tr>\n",
              "      <th>Location</th>\n",
              "      <th></th>\n",
              "    </tr>\n",
              "  </thead>\n",
              "  <tbody>\n",
              "    <tr>\n",
              "      <th>NSW Central</th>\n",
              "      <td>7.7%</td>\n",
              "    </tr>\n",
              "    <tr>\n",
              "      <th>NSW NE/ QLD SE</th>\n",
              "      <td>11.2%</td>\n",
              "    </tr>\n",
              "    <tr>\n",
              "      <th>NSW NW/ QLD SW</th>\n",
              "      <td>3.0%</td>\n",
              "    </tr>\n",
              "    <tr>\n",
              "      <th>NSW/ VIC Slopes</th>\n",
              "      <td>14.2%</td>\n",
              "    </tr>\n",
              "    <tr>\n",
              "      <th>QLD Central/ Northern</th>\n",
              "      <td>1.8%</td>\n",
              "    </tr>\n",
              "    <tr>\n",
              "      <th>SA Mid North/ Lower Yorke Eyre</th>\n",
              "      <td>20.1%</td>\n",
              "    </tr>\n",
              "    <tr>\n",
              "      <th>SA VIC Mallee</th>\n",
              "      <td>5.3%</td>\n",
              "    </tr>\n",
              "    <tr>\n",
              "      <th>SA/ VIC Bordertown. Wimmera</th>\n",
              "      <td>10.7%</td>\n",
              "    </tr>\n",
              "    <tr>\n",
              "      <th>VIC High Rainfall</th>\n",
              "      <td>5.3%</td>\n",
              "    </tr>\n",
              "    <tr>\n",
              "      <th>WA Central</th>\n",
              "      <td>14.8%</td>\n",
              "    </tr>\n",
              "    <tr>\n",
              "      <th>WA Eastern</th>\n",
              "      <td>0.6%</td>\n",
              "    </tr>\n",
              "    <tr>\n",
              "      <th>WA Mallee/ Sandplain (Esperance)</th>\n",
              "      <td>3.0%</td>\n",
              "    </tr>\n",
              "    <tr>\n",
              "      <th>WA Northern (inc Ord)</th>\n",
              "      <td>2.4%</td>\n",
              "    </tr>\n",
              "  </tbody>\n",
              "</table>\n",
              "</div>\n",
              "      <button class=\"colab-df-convert\" onclick=\"convertToInteractive('df-7941fa2d-2a73-4d55-b07c-8b43140e6e5f')\"\n",
              "              title=\"Convert this dataframe to an interactive table.\"\n",
              "              style=\"display:none;\">\n",
              "        \n",
              "  <svg xmlns=\"http://www.w3.org/2000/svg\" height=\"24px\"viewBox=\"0 0 24 24\"\n",
              "       width=\"24px\">\n",
              "    <path d=\"M0 0h24v24H0V0z\" fill=\"none\"/>\n",
              "    <path d=\"M18.56 5.44l.94 2.06.94-2.06 2.06-.94-2.06-.94-.94-2.06-.94 2.06-2.06.94zm-11 1L8.5 8.5l.94-2.06 2.06-.94-2.06-.94L8.5 2.5l-.94 2.06-2.06.94zm10 10l.94 2.06.94-2.06 2.06-.94-2.06-.94-.94-2.06-.94 2.06-2.06.94z\"/><path d=\"M17.41 7.96l-1.37-1.37c-.4-.4-.92-.59-1.43-.59-.52 0-1.04.2-1.43.59L10.3 9.45l-7.72 7.72c-.78.78-.78 2.05 0 2.83L4 21.41c.39.39.9.59 1.41.59.51 0 1.02-.2 1.41-.59l7.78-7.78 2.81-2.81c.8-.78.8-2.07 0-2.86zM5.41 20L4 18.59l7.72-7.72 1.47 1.35L5.41 20z\"/>\n",
              "  </svg>\n",
              "      </button>\n",
              "      \n",
              "  <style>\n",
              "    .colab-df-container {\n",
              "      display:flex;\n",
              "      flex-wrap:wrap;\n",
              "      gap: 12px;\n",
              "    }\n",
              "\n",
              "    .colab-df-convert {\n",
              "      background-color: #E8F0FE;\n",
              "      border: none;\n",
              "      border-radius: 50%;\n",
              "      cursor: pointer;\n",
              "      display: none;\n",
              "      fill: #1967D2;\n",
              "      height: 32px;\n",
              "      padding: 0 0 0 0;\n",
              "      width: 32px;\n",
              "    }\n",
              "\n",
              "    .colab-df-convert:hover {\n",
              "      background-color: #E2EBFA;\n",
              "      box-shadow: 0px 1px 2px rgba(60, 64, 67, 0.3), 0px 1px 3px 1px rgba(60, 64, 67, 0.15);\n",
              "      fill: #174EA6;\n",
              "    }\n",
              "\n",
              "    [theme=dark] .colab-df-convert {\n",
              "      background-color: #3B4455;\n",
              "      fill: #D2E3FC;\n",
              "    }\n",
              "\n",
              "    [theme=dark] .colab-df-convert:hover {\n",
              "      background-color: #434B5C;\n",
              "      box-shadow: 0px 1px 3px 1px rgba(0, 0, 0, 0.15);\n",
              "      filter: drop-shadow(0px 1px 2px rgba(0, 0, 0, 0.3));\n",
              "      fill: #FFFFFF;\n",
              "    }\n",
              "  </style>\n",
              "\n",
              "      <script>\n",
              "        const buttonEl =\n",
              "          document.querySelector('#df-7941fa2d-2a73-4d55-b07c-8b43140e6e5f button.colab-df-convert');\n",
              "        buttonEl.style.display =\n",
              "          google.colab.kernel.accessAllowed ? 'block' : 'none';\n",
              "\n",
              "        async function convertToInteractive(key) {\n",
              "          const element = document.querySelector('#df-7941fa2d-2a73-4d55-b07c-8b43140e6e5f');\n",
              "          const dataTable =\n",
              "            await google.colab.kernel.invokeFunction('convertToInteractive',\n",
              "                                                     [key], {});\n",
              "          if (!dataTable) return;\n",
              "\n",
              "          const docLinkHtml = 'Like what you see? Visit the ' +\n",
              "            '<a target=\"_blank\" href=https://colab.research.google.com/notebooks/data_table.ipynb>data table notebook</a>'\n",
              "            + ' to learn more about interactive tables.';\n",
              "          element.innerHTML = '';\n",
              "          dataTable['output_type'] = 'display_data';\n",
              "          await google.colab.output.renderOutput(dataTable, element);\n",
              "          const docLink = document.createElement('div');\n",
              "          docLink.innerHTML = docLinkHtml;\n",
              "          element.appendChild(docLink);\n",
              "        }\n",
              "      </script>\n",
              "    </div>\n",
              "  </div>\n",
              "  "
            ]
          },
          "metadata": {},
          "execution_count": 115
        }
      ]
    },
    {
      "cell_type": "code",
      "source": [
        "fig, ax = plt.subplots(1,1, figsize = (10,5))\n",
        "#plt.title('Location')\n",
        "ax.bar(loc_summary.index,loc_summary['Number of entries']/175*100)\n",
        "ax.set_xticks(ax.get_xticks(), ax.get_xticklabels(), rotation=40, ha='right')\n",
        "ax.bar_label(ax.containers[0], label_type='edge', fmt='%.0f%%')\n",
        "ax.set_ylim(0, 100)\n",
        "#ax.set_ylabel('%')\n",
        "plt.show()"
      ],
      "metadata": {
        "colab": {
          "base_uri": "https://localhost:8080/",
          "height": 431
        },
        "id": "qQUoXe3gD2Gx",
        "outputId": "aa3b438c-13ec-4979-cdac-15240c421614"
      },
      "execution_count": null,
      "outputs": [
        {
          "output_type": "display_data",
          "data": {
            "text/plain": [
              "<Figure size 720x360 with 1 Axes>"
            ],
            "image/png": "[encoded data removed]"
          },
          "metadata": {
            "needs_background": "light"
          }
        }
      ]
    },
    {
      "cell_type": "code",
      "source": [
        "df_clean[loc_col].value_counts().unstack().plot(kind='bar', stacked=True, figsize=(10,10))"
      ],
      "metadata": {
        "id": "DQHPLlquCJR3",
        "colab": {
          "base_uri": "https://localhost:8080/",
          "height": 784
        },
        "outputId": "ecf34432-d71e-441b-cf66-15f5733e3f89"
      },
      "execution_count": null,
      "outputs": [
        {
          "output_type": "execute_result",
          "data": {
            "text/plain": [
              "<Axes: xlabel='Location'>"
            ]
          },
          "metadata": {},
          "execution_count": 117
        },
        {
          "output_type": "display_data",
          "data": {
            "text/plain": [
              "<Figure size 720x720 with 1 Axes>"
            ],
            "image/png": "[encoded data removed]"
          },
          "metadata": {
            "needs_background": "light"
          }
        }
      ]
    },
    {
      "cell_type": "code",
      "source": [
        "loc= df_clean[loc_col].value_counts().unstack().fillna(0)"
      ],
      "metadata": {
        "id": "TMDDBlGgAjk3"
      },
      "execution_count": null,
      "outputs": []
    },
    {
      "cell_type": "code",
      "source": [
        "loc=loc.reset_index()\n",
        "loc.columns"
      ],
      "metadata": {
        "colab": {
          "base_uri": "https://localhost:8080/"
        },
        "id": "WpcTyO5hAjid",
        "outputId": "05b2fa97-77e7-49df-d333-e3314fa10a88"
      },
      "execution_count": null,
      "outputs": [
        {
          "output_type": "execute_result",
          "data": {
            "text/plain": [
              "Index(['Location', 'Academic', 'Agronomist', 'Commercial Rep', 'Farmer',\n",
              "       'Other (please specify)'],\n",
              "      dtype='object', name='Occupation')"
            ]
          },
          "metadata": {},
          "execution_count": 119
        }
      ]
    },
    {
      "cell_type": "code",
      "source": [
        "cols = loc.columns[1:]\n",
        "fig, ax = plt.subplots(3,2, figsize=(10,20))\n",
        "#fig.suptitle('Herbicide resistance testing',fontsize=16)\n",
        "row=0\n",
        "col=[0,1]*3\n",
        "for i, column in enumerate(cols):\n",
        "    plot_fig = pd.DataFrame(loc.loc[:, ['Location', column]].groupby('Location')[column].sum())\n",
        "    if (i!=0)&(i%2==0):\n",
        "        row+=1\n",
        "    axs = ax[row,col[i]]\n",
        "    axs.bar(plot_fig.index,plot_fig[column]/175*100)\n",
        "    axs.set_xticks(axs.get_xticks(), axs.get_xticklabels(), rotation=40, ha='right')\n",
        "    axs.set_title(column )\n",
        "    axs.bar_label(axs.containers[0], label_type='edge', fmt='%.0f%%')\n",
        "    axs.set_ylim(0, 60)\n",
        "fig.tight_layout()"
      ],
      "metadata": {
        "colab": {
          "base_uri": "https://localhost:8080/",
          "height": 1000
        },
        "id": "QxeW1K0dAjf0",
        "outputId": "b56621d7-6af1-4c66-8128-6df294562c89"
      },
      "execution_count": null,
      "outputs": [
        {
          "output_type": "display_data",
          "data": {
            "text/plain": [
              "<Figure size 720x1440 with 6 Axes>"
            ],
            "image/png": "[encoded data removed]"
          },
          "metadata": {
            "needs_background": "light"
          }
        }
      ]
    },
    {
      "cell_type": "code",
      "source": [],
      "metadata": {
        "id": "eVwbBq29AjdQ"
      },
      "execution_count": null,
      "outputs": []
    },
    {
      "cell_type": "code",
      "source": [],
      "metadata": {
        "id": "7oVtMevtAjam"
      },
      "execution_count": null,
      "outputs": []
    },
    {
      "cell_type": "markdown",
      "source": [
        "# Occupation"
      ],
      "metadata": {
        "id": "xqjNNChp_cNp"
      }
    },
    {
      "cell_type": "code",
      "source": [
        "pd.DataFrame(df_clean['Occupation'].value_counts()/df_clean['Occupation'].value_counts().sum()).applymap('{:.1%}'.format)"
      ],
      "metadata": {
        "colab": {
          "base_uri": "https://localhost:8080/",
          "height": 206
        },
        "id": "g3znaqUK_eHM",
        "outputId": "451b56aa-6d31-4605-c3e1-256c59f9e7ee"
      },
      "execution_count": null,
      "outputs": [
        {
          "output_type": "execute_result",
          "data": {
            "text/plain": [
              "                       Occupation\n",
              "Farmer                      39.9%\n",
              "Agronomist                  26.4%\n",
              "Commercial Rep              15.0%\n",
              "Other (please specify)      11.9%\n",
              "Academic                     6.7%"
            ],
            "text/html": [
              "\n",
              "  <div id=\"df-940840e2-82c1-4aea-b199-2ad2a98b7d50\">\n",
              "    <div class=\"colab-df-container\">\n",
              "      <div>\n",
              "<style scoped>\n",
              "    .dataframe tbody tr th:only-of-type {\n",
              "        vertical-align: middle;\n",
              "    }\n",
              "\n",
              "    .dataframe tbody tr th {\n",
              "        vertical-align: top;\n",
              "    }\n",
              "\n",
              "    .dataframe thead th {\n",
              "        text-align: right;\n",
              "    }\n",
              "</style>\n",
              "<table border=\"1\" class=\"dataframe\">\n",
              "  <thead>\n",
              "    <tr style=\"text-align: right;\">\n",
              "      <th></th>\n",
              "      <th>Occupation</th>\n",
              "    </tr>\n",
              "  </thead>\n",
              "  <tbody>\n",
              "    <tr>\n",
              "      <th>Farmer</th>\n",
              "      <td>39.9%</td>\n",
              "    </tr>\n",
              "    <tr>\n",
              "      <th>Agronomist</th>\n",
              "      <td>26.4%</td>\n",
              "    </tr>\n",
              "    <tr>\n",
              "      <th>Commercial Rep</th>\n",
              "      <td>15.0%</td>\n",
              "    </tr>\n",
              "    <tr>\n",
              "      <th>Other (please specify)</th>\n",
              "      <td>11.9%</td>\n",
              "    </tr>\n",
              "    <tr>\n",
              "      <th>Academic</th>\n",
              "      <td>6.7%</td>\n",
              "    </tr>\n",
              "  </tbody>\n",
              "</table>\n",
              "</div>\n",
              "      <button class=\"colab-df-convert\" onclick=\"convertToInteractive('df-940840e2-82c1-4aea-b199-2ad2a98b7d50')\"\n",
              "              title=\"Convert this dataframe to an interactive table.\"\n",
              "              style=\"display:none;\">\n",
              "        \n",
              "  <svg xmlns=\"http://www.w3.org/2000/svg\" height=\"24px\"viewBox=\"0 0 24 24\"\n",
              "       width=\"24px\">\n",
              "    <path d=\"M0 0h24v24H0V0z\" fill=\"none\"/>\n",
              "    <path d=\"M18.56 5.44l.94 2.06.94-2.06 2.06-.94-2.06-.94-.94-2.06-.94 2.06-2.06.94zm-11 1L8.5 8.5l.94-2.06 2.06-.94-2.06-.94L8.5 2.5l-.94 2.06-2.06.94zm10 10l.94 2.06.94-2.06 2.06-.94-2.06-.94-.94-2.06-.94 2.06-2.06.94z\"/><path d=\"M17.41 7.96l-1.37-1.37c-.4-.4-.92-.59-1.43-.59-.52 0-1.04.2-1.43.59L10.3 9.45l-7.72 7.72c-.78.78-.78 2.05 0 2.83L4 21.41c.39.39.9.59 1.41.59.51 0 1.02-.2 1.41-.59l7.78-7.78 2.81-2.81c.8-.78.8-2.07 0-2.86zM5.41 20L4 18.59l7.72-7.72 1.47 1.35L5.41 20z\"/>\n",
              "  </svg>\n",
              "      </button>\n",
              "      \n",
              "  <style>\n",
              "    .colab-df-container {\n",
              "      display:flex;\n",
              "      flex-wrap:wrap;\n",
              "      gap: 12px;\n",
              "    }\n",
              "\n",
              "    .colab-df-convert {\n",
              "      background-color: #E8F0FE;\n",
              "      border: none;\n",
              "      border-radius: 50%;\n",
              "      cursor: pointer;\n",
              "      display: none;\n",
              "      fill: #1967D2;\n",
              "      height: 32px;\n",
              "      padding: 0 0 0 0;\n",
              "      width: 32px;\n",
              "    }\n",
              "\n",
              "    .colab-df-convert:hover {\n",
              "      background-color: #E2EBFA;\n",
              "      box-shadow: 0px 1px 2px rgba(60, 64, 67, 0.3), 0px 1px 3px 1px rgba(60, 64, 67, 0.15);\n",
              "      fill: #174EA6;\n",
              "    }\n",
              "\n",
              "    [theme=dark] .colab-df-convert {\n",
              "      background-color: #3B4455;\n",
              "      fill: #D2E3FC;\n",
              "    }\n",
              "\n",
              "    [theme=dark] .colab-df-convert:hover {\n",
              "      background-color: #434B5C;\n",
              "      box-shadow: 0px 1px 3px 1px rgba(0, 0, 0, 0.15);\n",
              "      filter: drop-shadow(0px 1px 2px rgba(0, 0, 0, 0.3));\n",
              "      fill: #FFFFFF;\n",
              "    }\n",
              "  </style>\n",
              "\n",
              "      <script>\n",
              "        const buttonEl =\n",
              "          document.querySelector('#df-940840e2-82c1-4aea-b199-2ad2a98b7d50 button.colab-df-convert');\n",
              "        buttonEl.style.display =\n",
              "          google.colab.kernel.accessAllowed ? 'block' : 'none';\n",
              "\n",
              "        async function convertToInteractive(key) {\n",
              "          const element = document.querySelector('#df-940840e2-82c1-4aea-b199-2ad2a98b7d50');\n",
              "          const dataTable =\n",
              "            await google.colab.kernel.invokeFunction('convertToInteractive',\n",
              "                                                     [key], {});\n",
              "          if (!dataTable) return;\n",
              "\n",
              "          const docLinkHtml = 'Like what you see? Visit the ' +\n",
              "            '<a target=\"_blank\" href=https://colab.research.google.com/notebooks/data_table.ipynb>data table notebook</a>'\n",
              "            + ' to learn more about interactive tables.';\n",
              "          element.innerHTML = '';\n",
              "          dataTable['output_type'] = 'display_data';\n",
              "          await google.colab.output.renderOutput(dataTable, element);\n",
              "          const docLink = document.createElement('div');\n",
              "          docLink.innerHTML = docLinkHtml;\n",
              "          element.appendChild(docLink);\n",
              "        }\n",
              "      </script>\n",
              "    </div>\n",
              "  </div>\n",
              "  "
            ]
          },
          "metadata": {},
          "execution_count": 121
        }
      ]
    },
    {
      "cell_type": "code",
      "source": [
        "occ= pd.DataFrame(df_clean['Occupation'].value_counts()).rename(columns={'Occupation':'Number of entries'})\n",
        "\n"
      ],
      "metadata": {
        "id": "fjm-vk7G_4tK"
      },
      "execution_count": null,
      "outputs": []
    },
    {
      "cell_type": "code",
      "source": [
        "occ = occ.reset_index()\n",
        "occ =occ.sort_values('index')"
      ],
      "metadata": {
        "id": "8Ku1WlQ-GVeK"
      },
      "execution_count": null,
      "outputs": []
    },
    {
      "cell_type": "code",
      "source": [
        "occ_all =df_clean['Occupation'].count()"
      ],
      "metadata": {
        "id": "yEFTcTc-A_Ft"
      },
      "execution_count": null,
      "outputs": []
    },
    {
      "cell_type": "code",
      "source": [
        "occ"
      ],
      "metadata": {
        "colab": {
          "base_uri": "https://localhost:8080/",
          "height": 206
        },
        "id": "wllirgnbGjLG",
        "outputId": "a52366dd-e63d-4f53-fdef-eb2612527af1"
      },
      "execution_count": null,
      "outputs": [
        {
          "output_type": "execute_result",
          "data": {
            "text/plain": [
              "                    index  Number of entries\n",
              "4                Academic                 13\n",
              "1              Agronomist                 51\n",
              "2          Commercial Rep                 29\n",
              "0                  Farmer                 77\n",
              "3  Other (please specify)                 23"
            ],
            "text/html": [
              "\n",
              "  <div id=\"df-536355bc-ff8e-4902-ac20-f8ec56a90d81\">\n",
              "    <div class=\"colab-df-container\">\n",
              "      <div>\n",
              "<style scoped>\n",
              "    .dataframe tbody tr th:only-of-type {\n",
              "        vertical-align: middle;\n",
              "    }\n",
              "\n",
              "    .dataframe tbody tr th {\n",
              "        vertical-align: top;\n",
              "    }\n",
              "\n",
              "    .dataframe thead th {\n",
              "        text-align: right;\n",
              "    }\n",
              "</style>\n",
              "<table border=\"1\" class=\"dataframe\">\n",
              "  <thead>\n",
              "    <tr style=\"text-align: right;\">\n",
              "      <th></th>\n",
              "      <th>index</th>\n",
              "      <th>Number of entries</th>\n",
              "    </tr>\n",
              "  </thead>\n",
              "  <tbody>\n",
              "    <tr>\n",
              "      <th>4</th>\n",
              "      <td>Academic</td>\n",
              "      <td>13</td>\n",
              "    </tr>\n",
              "    <tr>\n",
              "      <th>1</th>\n",
              "      <td>Agronomist</td>\n",
              "      <td>51</td>\n",
              "    </tr>\n",
              "    <tr>\n",
              "      <th>2</th>\n",
              "      <td>Commercial Rep</td>\n",
              "      <td>29</td>\n",
              "    </tr>\n",
              "    <tr>\n",
              "      <th>0</th>\n",
              "      <td>Farmer</td>\n",
              "      <td>77</td>\n",
              "    </tr>\n",
              "    <tr>\n",
              "      <th>3</th>\n",
              "      <td>Other (please specify)</td>\n",
              "      <td>23</td>\n",
              "    </tr>\n",
              "  </tbody>\n",
              "</table>\n",
              "</div>\n",
              "      <button class=\"colab-df-convert\" onclick=\"convertToInteractive('df-536355bc-ff8e-4902-ac20-f8ec56a90d81')\"\n",
              "              title=\"Convert this dataframe to an interactive table.\"\n",
              "              style=\"display:none;\">\n",
              "        \n",
              "  <svg xmlns=\"http://www.w3.org/2000/svg\" height=\"24px\"viewBox=\"0 0 24 24\"\n",
              "       width=\"24px\">\n",
              "    <path d=\"M0 0h24v24H0V0z\" fill=\"none\"/>\n",
              "    <path d=\"M18.56 5.44l.94 2.06.94-2.06 2.06-.94-2.06-.94-.94-2.06-.94 2.06-2.06.94zm-11 1L8.5 8.5l.94-2.06 2.06-.94-2.06-.94L8.5 2.5l-.94 2.06-2.06.94zm10 10l.94 2.06.94-2.06 2.06-.94-2.06-.94-.94-2.06-.94 2.06-2.06.94z\"/><path d=\"M17.41 7.96l-1.37-1.37c-.4-.4-.92-.59-1.43-.59-.52 0-1.04.2-1.43.59L10.3 9.45l-7.72 7.72c-.78.78-.78 2.05 0 2.83L4 21.41c.39.39.9.59 1.41.59.51 0 1.02-.2 1.41-.59l7.78-7.78 2.81-2.81c.8-.78.8-2.07 0-2.86zM5.41 20L4 18.59l7.72-7.72 1.47 1.35L5.41 20z\"/>\n",
              "  </svg>\n",
              "      </button>\n",
              "      \n",
              "  <style>\n",
              "    .colab-df-container {\n",
              "      display:flex;\n",
              "      flex-wrap:wrap;\n",
              "      gap: 12px;\n",
              "    }\n",
              "\n",
              "    .colab-df-convert {\n",
              "      background-color: #E8F0FE;\n",
              "      border: none;\n",
              "      border-radius: 50%;\n",
              "      cursor: pointer;\n",
              "      display: none;\n",
              "      fill: #1967D2;\n",
              "      height: 32px;\n",
              "      padding: 0 0 0 0;\n",
              "      width: 32px;\n",
              "    }\n",
              "\n",
              "    .colab-df-convert:hover {\n",
              "      background-color: #E2EBFA;\n",
              "      box-shadow: 0px 1px 2px rgba(60, 64, 67, 0.3), 0px 1px 3px 1px rgba(60, 64, 67, 0.15);\n",
              "      fill: #174EA6;\n",
              "    }\n",
              "\n",
              "    [theme=dark] .colab-df-convert {\n",
              "      background-color: #3B4455;\n",
              "      fill: #D2E3FC;\n",
              "    }\n",
              "\n",
              "    [theme=dark] .colab-df-convert:hover {\n",
              "      background-color: #434B5C;\n",
              "      box-shadow: 0px 1px 3px 1px rgba(0, 0, 0, 0.15);\n",
              "      filter: drop-shadow(0px 1px 2px rgba(0, 0, 0, 0.3));\n",
              "      fill: #FFFFFF;\n",
              "    }\n",
              "  </style>\n",
              "\n",
              "      <script>\n",
              "        const buttonEl =\n",
              "          document.querySelector('#df-536355bc-ff8e-4902-ac20-f8ec56a90d81 button.colab-df-convert');\n",
              "        buttonEl.style.display =\n",
              "          google.colab.kernel.accessAllowed ? 'block' : 'none';\n",
              "\n",
              "        async function convertToInteractive(key) {\n",
              "          const element = document.querySelector('#df-536355bc-ff8e-4902-ac20-f8ec56a90d81');\n",
              "          const dataTable =\n",
              "            await google.colab.kernel.invokeFunction('convertToInteractive',\n",
              "                                                     [key], {});\n",
              "          if (!dataTable) return;\n",
              "\n",
              "          const docLinkHtml = 'Like what you see? Visit the ' +\n",
              "            '<a target=\"_blank\" href=https://colab.research.google.com/notebooks/data_table.ipynb>data table notebook</a>'\n",
              "            + ' to learn more about interactive tables.';\n",
              "          element.innerHTML = '';\n",
              "          dataTable['output_type'] = 'display_data';\n",
              "          await google.colab.output.renderOutput(dataTable, element);\n",
              "          const docLink = document.createElement('div');\n",
              "          docLink.innerHTML = docLinkHtml;\n",
              "          element.appendChild(docLink);\n",
              "        }\n",
              "      </script>\n",
              "    </div>\n",
              "  </div>\n",
              "  "
            ]
          },
          "metadata": {},
          "execution_count": 125
        }
      ]
    },
    {
      "cell_type": "code",
      "source": [
        "\n",
        "\n",
        "fig, ax = plt.subplots(1,1)\n",
        "#plt.title('Herbicide resistance testing')\n",
        "ax.bar(occ['index'],occ['Number of entries']/occ['Number of entries'].sum()*100)\n",
        "ax.set_xticks(ax.get_xticks(), ax.get_xticklabels(), rotation=40, ha='right')\n",
        "ax.bar_label(ax.containers[0], label_type='edge', fmt='%.0f%%')\n",
        "ax.set_ylim(0, 100)\n",
        "plt.show()"
      ],
      "metadata": {
        "colab": {
          "base_uri": "https://localhost:8080/",
          "height": 338
        },
        "id": "j6DBLXy9ADoL",
        "outputId": "90234159-aafe-42e2-97e9-2a2faae65c91"
      },
      "execution_count": null,
      "outputs": [
        {
          "output_type": "display_data",
          "data": {
            "text/plain": [
              "<Figure size 432x288 with 1 Axes>"
            ],
            "image/png": "[encoded data removed]"
          },
          "metadata": {
            "needs_background": "light"
          }
        }
      ]
    },
    {
      "cell_type": "markdown",
      "source": [
        "# Crops"
      ],
      "metadata": {
        "id": "636xBztryR08"
      }
    },
    {
      "cell_type": "markdown",
      "source": [
        "## Data"
      ],
      "metadata": {
        "id": "OUrEItuQtQzj"
      }
    },
    {
      "cell_type": "code",
      "source": [
        "crop_cols = ['Occupation', \n",
        "             'Green Manured',\n",
        "             'Brown Manured','Wheat','Barley',\n",
        "             'Canola','Oats','Lentils','Chickpeas',\n",
        "             'Lupins','Peas','Faba beans','Mung beans',\n",
        "             'Vetch','Oaten hay','Cotton','Sorghum','Millet',\n",
        "             'Sheep','Cattle','Crops: Other']\n",
        "\n",
        "col_sum = crop_cols\n",
        "occ_all =73\n",
        "\n"
      ],
      "metadata": {
        "id": "QSmPKiTiFQvZ"
      },
      "execution_count": null,
      "outputs": []
    },
    {
      "cell_type": "markdown",
      "source": [
        "# Area"
      ],
      "metadata": {
        "id": "zxvQz9LTyWHP"
      }
    },
    {
      "cell_type": "code",
      "source": [
        "df_clean =df_clean.rename(columns = {'On average, how much area (in hectares) does your farm business crop each year?': 'Area'})\n",
        "df_clean['Area'].fillna(0, inplace = True)"
      ],
      "metadata": {
        "id": "I2bUfQRfuses"
      },
      "execution_count": null,
      "outputs": []
    },
    {
      "cell_type": "code",
      "source": [
        "pd.DataFrame(df_clean[df_clean['Area']>0].groupby('Occupation')['Area'].mean()).round(decimals =2)"
      ],
      "metadata": {
        "colab": {
          "base_uri": "https://localhost:8080/",
          "height": 112
        },
        "id": "64f9rARYYG-J",
        "outputId": "1fa80030-e1e4-4243-9460-b99fd0311e77"
      },
      "execution_count": null,
      "outputs": [
        {
          "output_type": "execute_result",
          "data": {
            "text/plain": [
              "               Area\n",
              "Occupation         \n",
              "Farmer     2,160.70"
            ],
            "text/html": [
              "\n",
              "  <div id=\"df-8de0cd3e-16ce-4e4d-921c-c0a0e8a6477f\">\n",
              "    <div class=\"colab-df-container\">\n",
              "      <div>\n",
              "<style scoped>\n",
              "    .dataframe tbody tr th:only-of-type {\n",
              "        vertical-align: middle;\n",
              "    }\n",
              "\n",
              "    .dataframe tbody tr th {\n",
              "        vertical-align: top;\n",
              "    }\n",
              "\n",
              "    .dataframe thead th {\n",
              "        text-align: right;\n",
              "    }\n",
              "</style>\n",
              "<table border=\"1\" class=\"dataframe\">\n",
              "  <thead>\n",
              "    <tr style=\"text-align: right;\">\n",
              "      <th></th>\n",
              "      <th>Area</th>\n",
              "    </tr>\n",
              "    <tr>\n",
              "      <th>Occupation</th>\n",
              "      <th></th>\n",
              "    </tr>\n",
              "  </thead>\n",
              "  <tbody>\n",
              "    <tr>\n",
              "      <th>Farmer</th>\n",
              "      <td>2,160.70</td>\n",
              "    </tr>\n",
              "  </tbody>\n",
              "</table>\n",
              "</div>\n",
              "      <button class=\"colab-df-convert\" onclick=\"convertToInteractive('df-8de0cd3e-16ce-4e4d-921c-c0a0e8a6477f')\"\n",
              "              title=\"Convert this dataframe to an interactive table.\"\n",
              "              style=\"display:none;\">\n",
              "        \n",
              "  <svg xmlns=\"http://www.w3.org/2000/svg\" height=\"24px\"viewBox=\"0 0 24 24\"\n",
              "       width=\"24px\">\n",
              "    <path d=\"M0 0h24v24H0V0z\" fill=\"none\"/>\n",
              "    <path d=\"M18.56 5.44l.94 2.06.94-2.06 2.06-.94-2.06-.94-.94-2.06-.94 2.06-2.06.94zm-11 1L8.5 8.5l.94-2.06 2.06-.94-2.06-.94L8.5 2.5l-.94 2.06-2.06.94zm10 10l.94 2.06.94-2.06 2.06-.94-2.06-.94-.94-2.06-.94 2.06-2.06.94z\"/><path d=\"M17.41 7.96l-1.37-1.37c-.4-.4-.92-.59-1.43-.59-.52 0-1.04.2-1.43.59L10.3 9.45l-7.72 7.72c-.78.78-.78 2.05 0 2.83L4 21.41c.39.39.9.59 1.41.59.51 0 1.02-.2 1.41-.59l7.78-7.78 2.81-2.81c.8-.78.8-2.07 0-2.86zM5.41 20L4 18.59l7.72-7.72 1.47 1.35L5.41 20z\"/>\n",
              "  </svg>\n",
              "      </button>\n",
              "      \n",
              "  <style>\n",
              "    .colab-df-container {\n",
              "      display:flex;\n",
              "      flex-wrap:wrap;\n",
              "      gap: 12px;\n",
              "    }\n",
              "\n",
              "    .colab-df-convert {\n",
              "      background-color: #E8F0FE;\n",
              "      border: none;\n",
              "      border-radius: 50%;\n",
              "      cursor: pointer;\n",
              "      display: none;\n",
              "      fill: #1967D2;\n",
              "      height: 32px;\n",
              "      padding: 0 0 0 0;\n",
              "      width: 32px;\n",
              "    }\n",
              "\n",
              "    .colab-df-convert:hover {\n",
              "      background-color: #E2EBFA;\n",
              "      box-shadow: 0px 1px 2px rgba(60, 64, 67, 0.3), 0px 1px 3px 1px rgba(60, 64, 67, 0.15);\n",
              "      fill: #174EA6;\n",
              "    }\n",
              "\n",
              "    [theme=dark] .colab-df-convert {\n",
              "      background-color: #3B4455;\n",
              "      fill: #D2E3FC;\n",
              "    }\n",
              "\n",
              "    [theme=dark] .colab-df-convert:hover {\n",
              "      background-color: #434B5C;\n",
              "      box-shadow: 0px 1px 3px 1px rgba(0, 0, 0, 0.15);\n",
              "      filter: drop-shadow(0px 1px 2px rgba(0, 0, 0, 0.3));\n",
              "      fill: #FFFFFF;\n",
              "    }\n",
              "  </style>\n",
              "\n",
              "      <script>\n",
              "        const buttonEl =\n",
              "          document.querySelector('#df-8de0cd3e-16ce-4e4d-921c-c0a0e8a6477f button.colab-df-convert');\n",
              "        buttonEl.style.display =\n",
              "          google.colab.kernel.accessAllowed ? 'block' : 'none';\n",
              "\n",
              "        async function convertToInteractive(key) {\n",
              "          const element = document.querySelector('#df-8de0cd3e-16ce-4e4d-921c-c0a0e8a6477f');\n",
              "          const dataTable =\n",
              "            await google.colab.kernel.invokeFunction('convertToInteractive',\n",
              "                                                     [key], {});\n",
              "          if (!dataTable) return;\n",
              "\n",
              "          const docLinkHtml = 'Like what you see? Visit the ' +\n",
              "            '<a target=\"_blank\" href=https://colab.research.google.com/notebooks/data_table.ipynb>data table notebook</a>'\n",
              "            + ' to learn more about interactive tables.';\n",
              "          element.innerHTML = '';\n",
              "          dataTable['output_type'] = 'display_data';\n",
              "          await google.colab.output.renderOutput(dataTable, element);\n",
              "          const docLink = document.createElement('div');\n",
              "          docLink.innerHTML = docLinkHtml;\n",
              "          element.appendChild(docLink);\n",
              "        }\n",
              "      </script>\n",
              "    </div>\n",
              "  </div>\n",
              "  "
            ]
          },
          "metadata": {},
          "execution_count": 147
        }
      ]
    },
    {
      "cell_type": "code",
      "source": [
        "area_df = pd.DataFrame(data[data['Area']>0].groupby('Occupation')['Area'].mean())\n",
        "area_df\n",
        "plt.bar(area_df.index, area_df['Area'])\n",
        "plt.title('Mean Area')\n",
        "plt.show()"
      ],
      "metadata": {
        "colab": {
          "base_uri": "https://localhost:8080/",
          "height": 281
        },
        "id": "xtSE1XO0wI0_",
        "outputId": "3183454d-aa33-46d8-dcaf-f7f6f279d127"
      },
      "execution_count": null,
      "outputs": [
        {
          "output_type": "display_data",
          "data": {
            "text/plain": [
              "<Figure size 432x288 with 1 Axes>"
            ],
            "image/png": "[encoded data removed]"
          },
          "metadata": {
            "needs_background": "light"
          }
        }
      ]
    },
    {
      "cell_type": "code",
      "source": [
        "plt.title('Distribution of farmed area')\n",
        "plt.hist(data.loc[data['Area']>0, 'Area'], bins =50)\n",
        "plt.show()"
      ],
      "metadata": {
        "colab": {
          "base_uri": "https://localhost:8080/",
          "height": 281
        },
        "id": "IVNsuXgwxS_m",
        "outputId": "6dbf3aac-3147-4d34-e599-5bb753dc8d52"
      },
      "execution_count": null,
      "outputs": [
        {
          "output_type": "display_data",
          "data": {
            "text/plain": [
              "<Figure size 432x288 with 1 Axes>"
            ],
            "image/png": "[encoded data removed]"
          },
          "metadata": {
            "needs_background": "light"
          }
        }
      ]
    },
    {
      "cell_type": "markdown",
      "source": [
        "# Rotate Crops"
      ],
      "metadata": {
        "id": "zVBb_LvFyYLI"
      }
    },
    {
      "cell_type": "code",
      "source": [
        "rc_cols = ['Occupation', \n",
        "             'Single Break','Double Break','Fallow phase','Pasture phase','RC: Not practiced','RC: Other']\n",
        "\n",
        "\n",
        "col_sum = rc_cols\n",
        "\n",
        "occ_all =101\n",
        "\n"
      ],
      "metadata": {
        "id": "nJ7erA7ZIb2h"
      },
      "execution_count": null,
      "outputs": []
    },
    {
      "cell_type": "markdown",
      "source": [
        "# Increase crop competition on"
      ],
      "metadata": {
        "id": "2A_rDIgZ32O9"
      }
    },
    {
      "cell_type": "code",
      "source": [
        "df_clean = df_clean.rename(columns = {'Sow early to increase crop competitiveness with weeds': 'Sow early', \n",
        "                          'Consider the competitive ability of varieties when selecting varieties':'Consider the competitive ability' })\n",
        "\n",
        "\n",
        "inc_cols = ['Occupation', 'Narrow row spacing (25 cm or less)','Paired rows','Higher sowing rate to increase crop competition with weeds','East-west sowing','Sow early',\n",
        "'Consider the competitive ability',\n",
        "'Incr.: Not practiced','Increase Comp: Other ']\n",
        "\n",
        "col_sum = inc_cols\n",
        "\n",
        "occ_all =101\n",
        "\n"
      ],
      "metadata": {
        "id": "gBsGIjSO36Br"
      },
      "execution_count": null,
      "outputs": []
    },
    {
      "cell_type": "markdown",
      "source": [
        "# Soil Amelioration"
      ],
      "metadata": {
        "id": "uWji_rD07yn5"
      }
    },
    {
      "cell_type": "code",
      "source": [
        "soil_cols = ['Occupation', \n",
        "             'Deep ripping to 40 cm',\n",
        "           'Deep ripping to 60 cm','Delving',\n",
        "           'Rotary spading','Mouldboard plough',\n",
        "           'Plozza plough','Incorporating lime',\n",
        "           'Incorporating clay','Applying gypsum for sodicity',\n",
        "           'Not practiced','Soil: Other ']\n",
        "\n",
        "\n",
        "col_sum = soil_cols\n",
        "\n",
        "\n",
        "occ_all =97\n",
        "\n"
      ],
      "metadata": {
        "id": "M2ibyX7kMMT0"
      },
      "execution_count": null,
      "outputs": []
    },
    {
      "cell_type": "markdown",
      "source": [
        "# Mix and rotate herbicides"
      ],
      "metadata": {
        "id": "ybHcLdkx-y-o"
      }
    },
    {
      "cell_type": "code",
      "source": [
        "\n",
        "\n",
        "df_mix=df_clean[['Occupation', 'Mix and rotate herbicides(%)']]\n",
        "df_mix = df_mix.fillna(0)\n",
        "df_mix['Mix and rotate herbicides(%)'] = df_mix['Mix and rotate herbicides(%)'] *100\n",
        "\n",
        "pd.options.display.float_format = '{:0.2%}'.format\n",
        "df_mix.groupby('Occupation').mean()"
      ],
      "metadata": {
        "colab": {
          "base_uri": "https://localhost:8080/",
          "height": 238
        },
        "id": "bGX5HLlJ_FT_",
        "outputId": "65cefb50-4b55-4099-8018-9f0613b52473"
      },
      "execution_count": null,
      "outputs": [
        {
          "output_type": "execute_result",
          "data": {
            "text/plain": [
              "                        Mix and rotate herbicides(%)\n",
              "Occupation                                          \n",
              "Academic                                       0.00%\n",
              "Agronomist                                  4039.22%\n",
              "Commercial Rep                                 0.00%\n",
              "Farmer                                      4363.64%\n",
              "Other (please specify)                         0.00%"
            ],
            "text/html": [
              "\n",
              "  <div id=\"df-2a8c7194-50cb-4808-afd0-49432b248f1e\">\n",
              "    <div class=\"colab-df-container\">\n",
              "      <div>\n",
              "<style scoped>\n",
              "    .dataframe tbody tr th:only-of-type {\n",
              "        vertical-align: middle;\n",
              "    }\n",
              "\n",
              "    .dataframe tbody tr th {\n",
              "        vertical-align: top;\n",
              "    }\n",
              "\n",
              "    .dataframe thead th {\n",
              "        text-align: right;\n",
              "    }\n",
              "</style>\n",
              "<table border=\"1\" class=\"dataframe\">\n",
              "  <thead>\n",
              "    <tr style=\"text-align: right;\">\n",
              "      <th></th>\n",
              "      <th>Mix and rotate herbicides(%)</th>\n",
              "    </tr>\n",
              "    <tr>\n",
              "      <th>Occupation</th>\n",
              "      <th></th>\n",
              "    </tr>\n",
              "  </thead>\n",
              "  <tbody>\n",
              "    <tr>\n",
              "      <th>Academic</th>\n",
              "      <td>0.00%</td>\n",
              "    </tr>\n",
              "    <tr>\n",
              "      <th>Agronomist</th>\n",
              "      <td>4039.22%</td>\n",
              "    </tr>\n",
              "    <tr>\n",
              "      <th>Commercial Rep</th>\n",
              "      <td>0.00%</td>\n",
              "    </tr>\n",
              "    <tr>\n",
              "      <th>Farmer</th>\n",
              "      <td>4363.64%</td>\n",
              "    </tr>\n",
              "    <tr>\n",
              "      <th>Other (please specify)</th>\n",
              "      <td>0.00%</td>\n",
              "    </tr>\n",
              "  </tbody>\n",
              "</table>\n",
              "</div>\n",
              "      <button class=\"colab-df-convert\" onclick=\"convertToInteractive('df-2a8c7194-50cb-4808-afd0-49432b248f1e')\"\n",
              "              title=\"Convert this dataframe to an interactive table.\"\n",
              "              style=\"display:none;\">\n",
              "        \n",
              "  <svg xmlns=\"http://www.w3.org/2000/svg\" height=\"24px\"viewBox=\"0 0 24 24\"\n",
              "       width=\"24px\">\n",
              "    <path d=\"M0 0h24v24H0V0z\" fill=\"none\"/>\n",
              "    <path d=\"M18.56 5.44l.94 2.06.94-2.06 2.06-.94-2.06-.94-.94-2.06-.94 2.06-2.06.94zm-11 1L8.5 8.5l.94-2.06 2.06-.94-2.06-.94L8.5 2.5l-.94 2.06-2.06.94zm10 10l.94 2.06.94-2.06 2.06-.94-2.06-.94-.94-2.06-.94 2.06-2.06.94z\"/><path d=\"M17.41 7.96l-1.37-1.37c-.4-.4-.92-.59-1.43-.59-.52 0-1.04.2-1.43.59L10.3 9.45l-7.72 7.72c-.78.78-.78 2.05 0 2.83L4 21.41c.39.39.9.59 1.41.59.51 0 1.02-.2 1.41-.59l7.78-7.78 2.81-2.81c.8-.78.8-2.07 0-2.86zM5.41 20L4 18.59l7.72-7.72 1.47 1.35L5.41 20z\"/>\n",
              "  </svg>\n",
              "      </button>\n",
              "      \n",
              "  <style>\n",
              "    .colab-df-container {\n",
              "      display:flex;\n",
              "      flex-wrap:wrap;\n",
              "      gap: 12px;\n",
              "    }\n",
              "\n",
              "    .colab-df-convert {\n",
              "      background-color: #E8F0FE;\n",
              "      border: none;\n",
              "      border-radius: 50%;\n",
              "      cursor: pointer;\n",
              "      display: none;\n",
              "      fill: #1967D2;\n",
              "      height: 32px;\n",
              "      padding: 0 0 0 0;\n",
              "      width: 32px;\n",
              "    }\n",
              "\n",
              "    .colab-df-convert:hover {\n",
              "      background-color: #E2EBFA;\n",
              "      box-shadow: 0px 1px 2px rgba(60, 64, 67, 0.3), 0px 1px 3px 1px rgba(60, 64, 67, 0.15);\n",
              "      fill: #174EA6;\n",
              "    }\n",
              "\n",
              "    [theme=dark] .colab-df-convert {\n",
              "      background-color: #3B4455;\n",
              "      fill: #D2E3FC;\n",
              "    }\n",
              "\n",
              "    [theme=dark] .colab-df-convert:hover {\n",
              "      background-color: #434B5C;\n",
              "      box-shadow: 0px 1px 3px 1px rgba(0, 0, 0, 0.15);\n",
              "      filter: drop-shadow(0px 1px 2px rgba(0, 0, 0, 0.3));\n",
              "      fill: #FFFFFF;\n",
              "    }\n",
              "  </style>\n",
              "\n",
              "      <script>\n",
              "        const buttonEl =\n",
              "          document.querySelector('#df-2a8c7194-50cb-4808-afd0-49432b248f1e button.colab-df-convert');\n",
              "        buttonEl.style.display =\n",
              "          google.colab.kernel.accessAllowed ? 'block' : 'none';\n",
              "\n",
              "        async function convertToInteractive(key) {\n",
              "          const element = document.querySelector('#df-2a8c7194-50cb-4808-afd0-49432b248f1e');\n",
              "          const dataTable =\n",
              "            await google.colab.kernel.invokeFunction('convertToInteractive',\n",
              "                                                     [key], {});\n",
              "          if (!dataTable) return;\n",
              "\n",
              "          const docLinkHtml = 'Like what you see? Visit the ' +\n",
              "            '<a target=\"_blank\" href=https://colab.research.google.com/notebooks/data_table.ipynb>data table notebook</a>'\n",
              "            + ' to learn more about interactive tables.';\n",
              "          element.innerHTML = '';\n",
              "          dataTable['output_type'] = 'display_data';\n",
              "          await google.colab.output.renderOutput(dataTable, element);\n",
              "          const docLink = document.createElement('div');\n",
              "          docLink.innerHTML = docLinkHtml;\n",
              "          element.appendChild(docLink);\n",
              "        }\n",
              "      </script>\n",
              "    </div>\n",
              "  </div>\n",
              "  "
            ]
          },
          "metadata": {},
          "execution_count": 160
        }
      ]
    },
    {
      "cell_type": "code",
      "source": [
        "plt.title('Distribution of Mix and rotate herbicides(%)')\n",
        "plt.hist(df_mix.loc[df_mix['Mix and rotate herbicides(%)']>0, 'Mix and rotate herbicides(%)'], bins =6)\n",
        "plt.show()"
      ],
      "metadata": {
        "colab": {
          "base_uri": "https://localhost:8080/",
          "height": 281
        },
        "id": "gCN_PjkD_FRd",
        "outputId": "85394621-8748-42b5-d584-f3c425bf802b"
      },
      "execution_count": null,
      "outputs": [
        {
          "output_type": "display_data",
          "data": {
            "text/plain": [
              "<Figure size 432x288 with 1 Axes>"
            ],
            "image/png": "[encoded data removed]"
          },
          "metadata": {
            "needs_background": "light"
          }
        }
      ]
    },
    {
      "cell_type": "markdown",
      "source": [
        "# Double knock to preserve glyphosate"
      ],
      "metadata": {
        "id": "N5RPTkx--o95"
      }
    },
    {
      "cell_type": "code",
      "source": [
        "df_clean = df_clean.rename(columns = {'Double paraquat: paraquat followed by paraquat': 'Double paraquat: P. followed by P.', \n",
        "                          'Double paraquat: paraquat followed by paraquat + group 14 (group G)':'Double paraquat: P. followed by P+G14',\n",
        "                          'Double knock: herbicide x 2, e.g. glyphosate followed by paraquat':'Double knock: hericide x 2' })\n",
        "\n",
        "\n",
        "\n",
        "\n",
        "\n",
        "dknock_col = ['Occupation', \n",
        "              'Double paraquat: P. followed by P.','Double paraquat: P. followed by P+G14',\n",
        "              'Double knock: hericide x 2',\n",
        "              'Double knock: herbicide + cultivation',\n",
        "                'Double knock: herbicide + grazing','Double: Not practiced','Double: Other']\n",
        "\n",
        "col_sum = dknock_col\n",
        "\n",
        "occ_all =101\n",
        "\n"
      ],
      "metadata": {
        "id": "MWZY2iw1Odlb"
      },
      "execution_count": null,
      "outputs": []
    },
    {
      "cell_type": "code",
      "source": [],
      "metadata": {
        "id": "md-8oi6dOdij"
      },
      "execution_count": null,
      "outputs": []
    },
    {
      "cell_type": "markdown",
      "source": [
        "# Stop weed seed set"
      ],
      "metadata": {
        "id": "6GOSeQo7Za4z"
      }
    },
    {
      "cell_type": "code",
      "source": [
        "stop_col = ['Occupation','Crop top canola, pulses, wheat or feed barley',\n",
        "            'Cut hay or silage','Brown manure or long fallow',\n",
        "            'Spraytop pasture','Windrow (swath)',\n",
        "            'Optical spot spraying',\n",
        "            'Not practiced','Stop weed seed set  Other']\n",
        "\n",
        "col_sum = stop_col\n",
        "\n",
        "\n",
        "occ_all =101\n",
        "\n",
        "\n",
        "\n",
        "\n"
      ],
      "metadata": {
        "id": "MZAlmbwPkSAx"
      },
      "execution_count": null,
      "outputs": []
    },
    {
      "cell_type": "markdown",
      "source": [
        "# Herbicide resistance testing "
      ],
      "metadata": {
        "id": "Opli_itub5U-"
      }
    },
    {
      "cell_type": "code",
      "source": [
        "htest_cols = ['Occupation', 'Quick-test (during the season)',\n",
        "'Seed testing (at the end of the season)',\n",
        "'Not practiced','Herbicide resistance testing Other']\n",
        "\n",
        "\n",
        "#col_sum = htest_cols\n",
        "\n",
        "\n",
        "\n",
        "plots(df_clean = df_clean, col_sum = htest_cols, occ_all =98, title ='Herbicide resistance testing' )"
      ],
      "metadata": {
        "colab": {
          "base_uri": "https://localhost:8080/",
          "height": 1000
        },
        "id": "HDMO95gq-sHo",
        "outputId": "131d1fae-f687-4279-9c4f-5be62d2438d8"
      },
      "execution_count": null,
      "outputs": [
        {
          "output_type": "display_data",
          "data": {
            "text/plain": [
              "                                         Number of entries Percentage\n",
              "Quick-test (during the season)                          23      23.5%\n",
              "Seed testing (at the end of the season)                 54      55.1%\n",
              "Not practiced                                           15      15.3%\n",
              "Herbicide resistance testing Other                       2       2.0%"
            ],
            "text/html": [
              "\n",
              "  <div id=\"df-a7af4347-1c22-4ab4-835c-79f5ab267613\">\n",
              "    <div class=\"colab-df-container\">\n",
              "      <div>\n",
              "<style scoped>\n",
              "    .dataframe tbody tr th:only-of-type {\n",
              "        vertical-align: middle;\n",
              "    }\n",
              "\n",
              "    .dataframe tbody tr th {\n",
              "        vertical-align: top;\n",
              "    }\n",
              "\n",
              "    .dataframe thead th {\n",
              "        text-align: right;\n",
              "    }\n",
              "</style>\n",
              "<table border=\"1\" class=\"dataframe\">\n",
              "  <thead>\n",
              "    <tr style=\"text-align: right;\">\n",
              "      <th></th>\n",
              "      <th>Number of entries</th>\n",
              "      <th>Percentage</th>\n",
              "    </tr>\n",
              "  </thead>\n",
              "  <tbody>\n",
              "    <tr>\n",
              "      <th>Quick-test (during the season)</th>\n",
              "      <td>23</td>\n",
              "      <td>23.5%</td>\n",
              "    </tr>\n",
              "    <tr>\n",
              "      <th>Seed testing (at the end of the season)</th>\n",
              "      <td>54</td>\n",
              "      <td>55.1%</td>\n",
              "    </tr>\n",
              "    <tr>\n",
              "      <th>Not practiced</th>\n",
              "      <td>15</td>\n",
              "      <td>15.3%</td>\n",
              "    </tr>\n",
              "    <tr>\n",
              "      <th>Herbicide resistance testing Other</th>\n",
              "      <td>2</td>\n",
              "      <td>2.0%</td>\n",
              "    </tr>\n",
              "  </tbody>\n",
              "</table>\n",
              "</div>\n",
              "      <button class=\"colab-df-convert\" onclick=\"convertToInteractive('df-a7af4347-1c22-4ab4-835c-79f5ab267613')\"\n",
              "              title=\"Convert this dataframe to an interactive table.\"\n",
              "              style=\"display:none;\">\n",
              "        \n",
              "  <svg xmlns=\"http://www.w3.org/2000/svg\" height=\"24px\"viewBox=\"0 0 24 24\"\n",
              "       width=\"24px\">\n",
              "    <path d=\"M0 0h24v24H0V0z\" fill=\"none\"/>\n",
              "    <path d=\"M18.56 5.44l.94 2.06.94-2.06 2.06-.94-2.06-.94-.94-2.06-.94 2.06-2.06.94zm-11 1L8.5 8.5l.94-2.06 2.06-.94-2.06-.94L8.5 2.5l-.94 2.06-2.06.94zm10 10l.94 2.06.94-2.06 2.06-.94-2.06-.94-.94-2.06-.94 2.06-2.06.94z\"/><path d=\"M17.41 7.96l-1.37-1.37c-.4-.4-.92-.59-1.43-.59-.52 0-1.04.2-1.43.59L10.3 9.45l-7.72 7.72c-.78.78-.78 2.05 0 2.83L4 21.41c.39.39.9.59 1.41.59.51 0 1.02-.2 1.41-.59l7.78-7.78 2.81-2.81c.8-.78.8-2.07 0-2.86zM5.41 20L4 18.59l7.72-7.72 1.47 1.35L5.41 20z\"/>\n",
              "  </svg>\n",
              "      </button>\n",
              "      \n",
              "  <style>\n",
              "    .colab-df-container {\n",
              "      display:flex;\n",
              "      flex-wrap:wrap;\n",
              "      gap: 12px;\n",
              "    }\n",
              "\n",
              "    .colab-df-convert {\n",
              "      background-color: #E8F0FE;\n",
              "      border: none;\n",
              "      border-radius: 50%;\n",
              "      cursor: pointer;\n",
              "      display: none;\n",
              "      fill: #1967D2;\n",
              "      height: 32px;\n",
              "      padding: 0 0 0 0;\n",
              "      width: 32px;\n",
              "    }\n",
              "\n",
              "    .colab-df-convert:hover {\n",
              "      background-color: #E2EBFA;\n",
              "      box-shadow: 0px 1px 2px rgba(60, 64, 67, 0.3), 0px 1px 3px 1px rgba(60, 64, 67, 0.15);\n",
              "      fill: #174EA6;\n",
              "    }\n",
              "\n",
              "    [theme=dark] .colab-df-convert {\n",
              "      background-color: #3B4455;\n",
              "      fill: #D2E3FC;\n",
              "    }\n",
              "\n",
              "    [theme=dark] .colab-df-convert:hover {\n",
              "      background-color: #434B5C;\n",
              "      box-shadow: 0px 1px 3px 1px rgba(0, 0, 0, 0.15);\n",
              "      filter: drop-shadow(0px 1px 2px rgba(0, 0, 0, 0.3));\n",
              "      fill: #FFFFFF;\n",
              "    }\n",
              "  </style>\n",
              "\n",
              "      <script>\n",
              "        const buttonEl =\n",
              "          document.querySelector('#df-a7af4347-1c22-4ab4-835c-79f5ab267613 button.colab-df-convert');\n",
              "        buttonEl.style.display =\n",
              "          google.colab.kernel.accessAllowed ? 'block' : 'none';\n",
              "\n",
              "        async function convertToInteractive(key) {\n",
              "          const element = document.querySelector('#df-a7af4347-1c22-4ab4-835c-79f5ab267613');\n",
              "          const dataTable =\n",
              "            await google.colab.kernel.invokeFunction('convertToInteractive',\n",
              "                                                     [key], {});\n",
              "          if (!dataTable) return;\n",
              "\n",
              "          const docLinkHtml = 'Like what you see? Visit the ' +\n",
              "            '<a target=\"_blank\" href=https://colab.research.google.com/notebooks/data_table.ipynb>data table notebook</a>'\n",
              "            + ' to learn more about interactive tables.';\n",
              "          element.innerHTML = '';\n",
              "          dataTable['output_type'] = 'display_data';\n",
              "          await google.colab.output.renderOutput(dataTable, element);\n",
              "          const docLink = document.createElement('div');\n",
              "          docLink.innerHTML = docLinkHtml;\n",
              "          element.appendChild(docLink);\n",
              "        }\n",
              "      </script>\n",
              "    </div>\n",
              "  </div>\n",
              "  "
            ]
          },
          "metadata": {}
        },
        {
          "output_type": "stream",
          "name": "stdout",
          "text": [
            "\n",
            "\n",
            "\n",
            "\n"
          ]
        },
        {
          "output_type": "display_data",
          "data": {
            "text/plain": [
              "<Figure size 720x360 with 1 Axes>"
            ],
            "image/png": "[encoded data removed]"
          },
          "metadata": {
            "needs_background": "light"
          }
        },
        {
          "output_type": "stream",
          "name": "stdout",
          "text": [
            "\n",
            "\n",
            "\n",
            "\n",
            "\n",
            "\n",
            "\n",
            "\n"
          ]
        },
        {
          "output_type": "display_data",
          "data": {
            "text/plain": [
              "<Figure size 720x864 with 6 Axes>"
            ],
            "image/png": "[encoded data removed]"
          },
          "metadata": {
            "needs_background": "light"
          }
        }
      ]
    },
    {
      "cell_type": "markdown",
      "source": [
        "# Implement harvest weed seed control"
      ],
      "metadata": {
        "id": "Iie-gFuFd0vk"
      }
    },
    {
      "cell_type": "code",
      "source": [
        "wsc_cols = ['Occupation', 'Narrow windrow burning',\n",
        "              'Chaff cart','Bale direct',\n",
        "              'Weed seed impact mill',\n",
        "              'Chaff tramlining (on wheel tracks)',\n",
        "              'Chaff lining (in centre of harvester)',\n",
        "              'Implement harvest weed seed control Not practiced',\n",
        "              'Implement harvest weed seed control  Other ',]\n",
        "\n",
        "\n",
        "plots(df_clean = df_clean, col_sum = wsc_cols, occ_all =99, title ='Implement harvest weed seed control' )"
      ],
      "metadata": {
        "id": "ueNfZqN8ctYm"
      },
      "execution_count": null,
      "outputs": []
    },
    {
      "cell_type": "markdown",
      "source": [
        "# Engagement with Weedsmart"
      ],
      "metadata": {
        "id": "36vxKHhq37zJ"
      }
    },
    {
      "cell_type": "code",
      "source": [
        "eng = ['Occupation','Email newsletter',\n",
        " ' Website',\n",
        " 'Facebook',\n",
        " ' Twitter',\n",
        " 'Podcasts',\n",
        " 'Webinars',\n",
        " 'Online courses',\n",
        " 'Face-to-face workshops',\n",
        " 'Field days',\n",
        " 'WeedSmart Week',\n",
        " 'Conferences']\n",
        "\n",
        "\n",
        "plots(df_clean = df_clean, col_sum = eng, occ_all =141, title ='Engagement with Weedsmart' )\n",
        "\n",
        "\n"
      ],
      "metadata": {
        "id": "xUdbXAu8nPYm"
      },
      "execution_count": null,
      "outputs": []
    },
    {
      "cell_type": "markdown",
      "source": [
        "# Relevance of Information"
      ],
      "metadata": {
        "id": "7lHSswEQ_6jm"
      }
    },
    {
      "cell_type": "code",
      "source": [
        "fig, ax = plt.subplots(1,1, figsize=(5,5))\n",
        "\n",
        "cols = ['Relevant', 'Useful', 'Timely']\n",
        "\n",
        "\n",
        "\n",
        "\n",
        "ax.bar(cols,np.round(df_clean[cols].mean(), decimals =1))\n",
        "ax.set_xticks(ax.get_xticks(), ax.get_xticklabels(), rotation=40, ha='right')\n",
        "#axs.set_title(column )\n",
        "ax.bar_label(ax.containers[0], label_type='edge')\n",
        "ax.set_ylim(0, 12)"
      ],
      "metadata": {
        "colab": {
          "base_uri": "https://localhost:8080/",
          "height": 366
        },
        "id": "nGPLf5qnaZAm",
        "outputId": "cb5dc84e-b1e1-4df2-a88a-952a7c83d9d8"
      },
      "execution_count": 5,
      "outputs": [
        {
          "output_type": "execute_result",
          "data": {
            "text/plain": [
              "(0.0, 12.0)"
            ]
          },
          "metadata": {},
          "execution_count": 5
        },
        {
          "output_type": "display_data",
          "data": {
            "text/plain": [
              "<Figure size 360x360 with 1 Axes>"
            ],
            "image/png": "[encoded data removed]"
          },
          "metadata": {
            "needs_background": "light"
          }
        }
      ]
    },
    {
      "cell_type": "code",
      "source": [
        "df_clean[cols].mean()"
      ],
      "metadata": {
        "colab": {
          "base_uri": "https://localhost:8080/"
        },
        "id": "3lqwNWSGb10C",
        "outputId": "7dd5eadf-ec08-4860-c223-cdb79b0c6be5"
      },
      "execution_count": null,
      "outputs": [
        {
          "output_type": "execute_result",
          "data": {
            "text/plain": [
              "Relevant   8.39\n",
              "Useful     8.29\n",
              "Timely     8.11\n",
              "dtype: float64"
            ]
          },
          "metadata": {},
          "execution_count": 58
        }
      ]
    },
    {
      "cell_type": "code",
      "source": [
        "\n",
        "cols = ['Relevant', 'Useful', 'Timely']\n",
        "fig, ax = plt.subplots(2,2, figsize=(10,10))\n",
        "fig.suptitle('Relevance of Information',fontsize=16)\n",
        "row=0\n",
        "col=[0,1]*2\n",
        "for i, column in enumerate(cols):\n",
        "    plot_fig = pd.DataFrame(df_clean.loc[:, ['Occupation', column]].groupby('Occupation')[column].mean())\n",
        "    if (i!=0)&(i%2==0):\n",
        "        row+=1\n",
        "    axs = ax[row,col[i]]\n",
        "    axs.bar(plot_fig.index,np.round(plot_fig[column], decimals =1))\n",
        "    axs.set_xticks(axs.get_xticks(), axs.get_xticklabels(), rotation=40, ha='right')\n",
        "    axs.set_title(column )\n",
        "    axs.bar_label(axs.containers[0], label_type='edge')\n",
        "    axs.set_ylim(0, 12)\n",
        "fig.tight_layout(pad = 5)"
      ],
      "metadata": {
        "id": "WPwFkV0D_3DJ",
        "colab": {
          "base_uri": "https://localhost:8080/",
          "height": 686
        },
        "outputId": "9a03ce8c-adfe-4960-dff3-04b8ac7c7b6e"
      },
      "execution_count": 6,
      "outputs": [
        {
          "output_type": "display_data",
          "data": {
            "text/plain": [
              "<Figure size 720x720 with 4 Axes>"
            ],
            "image/png": "[encoded data removed]"
          },
          "metadata": {
            "needs_background": "light"
          }
        }
      ]
    },
    {
      "cell_type": "markdown",
      "source": [
        "# Gained from Weedsmart"
      ],
      "metadata": {
        "id": "-5L4BESWAae7"
      }
    },
    {
      "cell_type": "code",
      "source": [
        "df_clean = df_clean.rename(columns={'What have you gained from engaging with WeedSmart? Select all that apply.  Other (please specify)':'Gained: Other'})\n",
        "\n",
        "\n",
        "\n",
        "gain = ['Occupation', ' Practical crop management strategies',\n",
        " 'Data behind integrated weed management strategies.',\n",
        " 'Information about on-farm practices',\n",
        " 'Improved decision making',\n",
        " 'Updated Information',\n",
        " 'Network with industry professionals',\n",
        " 'Information on weed biology and identification.',\n",
        " 'No benefit',\n",
        " 'Gained: Other']\n",
        "\n",
        "\n",
        "plots(df_clean = df_clean, col_sum = gain, occ_all =139, title ='Gained from Weedsmart' )"
      ],
      "metadata": {
        "id": "BJp4PmjGqVPb"
      },
      "execution_count": null,
      "outputs": []
    },
    {
      "cell_type": "markdown",
      "source": [
        "# How likely is it that you would recommend WeedSmart to a friend or colleague?"
      ],
      "metadata": {
        "id": "N_VIdDwppQo0"
      }
    },
    {
      "cell_type": "code",
      "source": [
        "df_clean['Would recommend'].fillna(0, inplace = True)\n",
        "\n",
        "rec_df = pd.DataFrame(df_clean[df_clean['Would recommend']>0].groupby('Occupation')['Would recommend'].mean())\n",
        "#rec_df['Would recommend'].str.rstrip(\"%\").astype(float)/100\n",
        "display(rec_df)\n",
        "print('\\n\\n\\n')\n",
        "\n",
        "# plt.bar(rec_df.index, rec_df['Would recommend'])\n",
        "# plt.title('Mean Recommendation Score')\n",
        "# plt.xticks(rotation=40, ha = 'right')\n",
        "# plt.show()\n",
        "\n",
        "fig, ax = plt.subplots(1,1, figsize=(5,5))\n",
        "\n",
        "ax.bar(rec_df.index,np.round(rec_df['Would recommend'], decimals = 1))\n",
        "ax.set_xticks(ax.get_xticks(), ax.get_xticklabels(), rotation=40, ha='right')\n",
        "ax.bar_label(ax.containers[0], label_type='edge')\n",
        "ax.set_ylim(0, 12)\n",
        "plt.show()"
      ],
      "metadata": {
        "colab": {
          "base_uri": "https://localhost:8080/",
          "height": 682
        },
        "id": "uiwaVJveoyXs",
        "outputId": "9a6abd27-63fe-4235-d312-9fbf4370ecc6"
      },
      "execution_count": 7,
      "outputs": [
        {
          "output_type": "display_data",
          "data": {
            "text/plain": [
              "                        Would recommend\n",
              "Occupation                             \n",
              "Academic                       8.666667\n",
              "Agronomist                     8.828571\n",
              "Commercial Rep                 8.173913\n",
              "Farmer                         8.526316\n",
              "Other (please specify)         9.050000"
            ],
            "text/html": [
              "\n",
              "  <div id=\"df-ed69c40f-2c2a-46ae-9240-574e2f364282\">\n",
              "    <div class=\"colab-df-container\">\n",
              "      <div>\n",
              "<style scoped>\n",
              "    .dataframe tbody tr th:only-of-type {\n",
              "        vertical-align: middle;\n",
              "    }\n",
              "\n",
              "    .dataframe tbody tr th {\n",
              "        vertical-align: top;\n",
              "    }\n",
              "\n",
              "    .dataframe thead th {\n",
              "        text-align: right;\n",
              "    }\n",
              "</style>\n",
              "<table border=\"1\" class=\"dataframe\">\n",
              "  <thead>\n",
              "    <tr style=\"text-align: right;\">\n",
              "      <th></th>\n",
              "      <th>Would recommend</th>\n",
              "    </tr>\n",
              "    <tr>\n",
              "      <th>Occupation</th>\n",
              "      <th></th>\n",
              "    </tr>\n",
              "  </thead>\n",
              "  <tbody>\n",
              "    <tr>\n",
              "      <th>Academic</th>\n",
              "      <td>8.666667</td>\n",
              "    </tr>\n",
              "    <tr>\n",
              "      <th>Agronomist</th>\n",
              "      <td>8.828571</td>\n",
              "    </tr>\n",
              "    <tr>\n",
              "      <th>Commercial Rep</th>\n",
              "      <td>8.173913</td>\n",
              "    </tr>\n",
              "    <tr>\n",
              "      <th>Farmer</th>\n",
              "      <td>8.526316</td>\n",
              "    </tr>\n",
              "    <tr>\n",
              "      <th>Other (please specify)</th>\n",
              "      <td>9.050000</td>\n",
              "    </tr>\n",
              "  </tbody>\n",
              "</table>\n",
              "</div>\n",
              "      <button class=\"colab-df-convert\" onclick=\"convertToInteractive('df-ed69c40f-2c2a-46ae-9240-574e2f364282')\"\n",
              "              title=\"Convert this dataframe to an interactive table.\"\n",
              "              style=\"display:none;\">\n",
              "        \n",
              "  <svg xmlns=\"http://www.w3.org/2000/svg\" height=\"24px\"viewBox=\"0 0 24 24\"\n",
              "       width=\"24px\">\n",
              "    <path d=\"M0 0h24v24H0V0z\" fill=\"none\"/>\n",
              "    <path d=\"M18.56 5.44l.94 2.06.94-2.06 2.06-.94-2.06-.94-.94-2.06-.94 2.06-2.06.94zm-11 1L8.5 8.5l.94-2.06 2.06-.94-2.06-.94L8.5 2.5l-.94 2.06-2.06.94zm10 10l.94 2.06.94-2.06 2.06-.94-2.06-.94-.94-2.06-.94 2.06-2.06.94z\"/><path d=\"M17.41 7.96l-1.37-1.37c-.4-.4-.92-.59-1.43-.59-.52 0-1.04.2-1.43.59L10.3 9.45l-7.72 7.72c-.78.78-.78 2.05 0 2.83L4 21.41c.39.39.9.59 1.41.59.51 0 1.02-.2 1.41-.59l7.78-7.78 2.81-2.81c.8-.78.8-2.07 0-2.86zM5.41 20L4 18.59l7.72-7.72 1.47 1.35L5.41 20z\"/>\n",
              "  </svg>\n",
              "      </button>\n",
              "      \n",
              "  <style>\n",
              "    .colab-df-container {\n",
              "      display:flex;\n",
              "      flex-wrap:wrap;\n",
              "      gap: 12px;\n",
              "    }\n",
              "\n",
              "    .colab-df-convert {\n",
              "      background-color: #E8F0FE;\n",
              "      border: none;\n",
              "      border-radius: 50%;\n",
              "      cursor: pointer;\n",
              "      display: none;\n",
              "      fill: #1967D2;\n",
              "      height: 32px;\n",
              "      padding: 0 0 0 0;\n",
              "      width: 32px;\n",
              "    }\n",
              "\n",
              "    .colab-df-convert:hover {\n",
              "      background-color: #E2EBFA;\n",
              "      box-shadow: 0px 1px 2px rgba(60, 64, 67, 0.3), 0px 1px 3px 1px rgba(60, 64, 67, 0.15);\n",
              "      fill: #174EA6;\n",
              "    }\n",
              "\n",
              "    [theme=dark] .colab-df-convert {\n",
              "      background-color: #3B4455;\n",
              "      fill: #D2E3FC;\n",
              "    }\n",
              "\n",
              "    [theme=dark] .colab-df-convert:hover {\n",
              "      background-color: #434B5C;\n",
              "      box-shadow: 0px 1px 3px 1px rgba(0, 0, 0, 0.15);\n",
              "      filter: drop-shadow(0px 1px 2px rgba(0, 0, 0, 0.3));\n",
              "      fill: #FFFFFF;\n",
              "    }\n",
              "  </style>\n",
              "\n",
              "      <script>\n",
              "        const buttonEl =\n",
              "          document.querySelector('#df-ed69c40f-2c2a-46ae-9240-574e2f364282 button.colab-df-convert');\n",
              "        buttonEl.style.display =\n",
              "          google.colab.kernel.accessAllowed ? 'block' : 'none';\n",
              "\n",
              "        async function convertToInteractive(key) {\n",
              "          const element = document.querySelector('#df-ed69c40f-2c2a-46ae-9240-574e2f364282');\n",
              "          const dataTable =\n",
              "            await google.colab.kernel.invokeFunction('convertToInteractive',\n",
              "                                                     [key], {});\n",
              "          if (!dataTable) return;\n",
              "\n",
              "          const docLinkHtml = 'Like what you see? Visit the ' +\n",
              "            '<a target=\"_blank\" href=https://colab.research.google.com/notebooks/data_table.ipynb>data table notebook</a>'\n",
              "            + ' to learn more about interactive tables.';\n",
              "          element.innerHTML = '';\n",
              "          dataTable['output_type'] = 'display_data';\n",
              "          await google.colab.output.renderOutput(dataTable, element);\n",
              "          const docLink = document.createElement('div');\n",
              "          docLink.innerHTML = docLinkHtml;\n",
              "          element.appendChild(docLink);\n",
              "        }\n",
              "      </script>\n",
              "    </div>\n",
              "  </div>\n",
              "  "
            ]
          },
          "metadata": {}
        },
        {
          "output_type": "stream",
          "name": "stdout",
          "text": [
            "\n",
            "\n",
            "\n",
            "\n"
          ]
        },
        {
          "output_type": "display_data",
          "data": {
            "text/plain": [
              "<Figure size 360x360 with 1 Axes>"
            ],
            "image/png": "[encoded data removed]"
          },
          "metadata": {
            "needs_background": "light"
          }
        }
      ]
    },
    {
      "cell_type": "markdown",
      "source": [
        "# Impact to your work if WeedSmart no longer existed?"
      ],
      "metadata": {
        "id": "sOZQn-fcprWb"
      }
    },
    {
      "cell_type": "code",
      "source": [
        "import numpy as np\n",
        "np.round(imp_summary, decimals = 2)"
      ],
      "metadata": {
        "colab": {
          "base_uri": "https://localhost:8080/",
          "height": 269
        },
        "id": "AhqbGvW1uuz1",
        "outputId": "e6618a08-0c17-4a7d-ef51-1b7ede01cd08"
      },
      "execution_count": null,
      "outputs": [
        {
          "output_type": "execute_result",
          "data": {
            "text/plain": [
              "                                           Impact to your work if WeedSmart no longer existed?\n",
              "Occupation                                                                                    \n",
              "Academic                                                                                5.83  \n",
              "Agronomist                                                                              6.37  \n",
              "Commercial rep (e.g. chemical, machinery)                                               6.30  \n",
              "Farm employee                                                                           6.17  \n",
              "Farm owner                                                                              6.35  \n",
              "Other (please specify)                                                                  5.89  "
            ],
            "text/html": [
              "\n",
              "  <div id=\"df-48ddfb2b-a26e-4339-b6cd-26bca80d087b\">\n",
              "    <div class=\"colab-df-container\">\n",
              "      <div>\n",
              "<style scoped>\n",
              "    .dataframe tbody tr th:only-of-type {\n",
              "        vertical-align: middle;\n",
              "    }\n",
              "\n",
              "    .dataframe tbody tr th {\n",
              "        vertical-align: top;\n",
              "    }\n",
              "\n",
              "    .dataframe thead th {\n",
              "        text-align: right;\n",
              "    }\n",
              "</style>\n",
              "<table border=\"1\" class=\"dataframe\">\n",
              "  <thead>\n",
              "    <tr style=\"text-align: right;\">\n",
              "      <th></th>\n",
              "      <th>Impact to your work if WeedSmart no longer existed?</th>\n",
              "    </tr>\n",
              "    <tr>\n",
              "      <th>Occupation</th>\n",
              "      <th></th>\n",
              "    </tr>\n",
              "  </thead>\n",
              "  <tbody>\n",
              "    <tr>\n",
              "      <th>Academic</th>\n",
              "      <td>5.83</td>\n",
              "    </tr>\n",
              "    <tr>\n",
              "      <th>Agronomist</th>\n",
              "      <td>6.37</td>\n",
              "    </tr>\n",
              "    <tr>\n",
              "      <th>Commercial rep (e.g. chemical, machinery)</th>\n",
              "      <td>6.30</td>\n",
              "    </tr>\n",
              "    <tr>\n",
              "      <th>Farm employee</th>\n",
              "      <td>6.17</td>\n",
              "    </tr>\n",
              "    <tr>\n",
              "      <th>Farm owner</th>\n",
              "      <td>6.35</td>\n",
              "    </tr>\n",
              "    <tr>\n",
              "      <th>Other (please specify)</th>\n",
              "      <td>5.89</td>\n",
              "    </tr>\n",
              "  </tbody>\n",
              "</table>\n",
              "</div>\n",
              "      <button class=\"colab-df-convert\" onclick=\"convertToInteractive('df-48ddfb2b-a26e-4339-b6cd-26bca80d087b')\"\n",
              "              title=\"Convert this dataframe to an interactive table.\"\n",
              "              style=\"display:none;\">\n",
              "        \n",
              "  <svg xmlns=\"http://www.w3.org/2000/svg\" height=\"24px\"viewBox=\"0 0 24 24\"\n",
              "       width=\"24px\">\n",
              "    <path d=\"M0 0h24v24H0V0z\" fill=\"none\"/>\n",
              "    <path d=\"M18.56 5.44l.94 2.06.94-2.06 2.06-.94-2.06-.94-.94-2.06-.94 2.06-2.06.94zm-11 1L8.5 8.5l.94-2.06 2.06-.94-2.06-.94L8.5 2.5l-.94 2.06-2.06.94zm10 10l.94 2.06.94-2.06 2.06-.94-2.06-.94-.94-2.06-.94 2.06-2.06.94z\"/><path d=\"M17.41 7.96l-1.37-1.37c-.4-.4-.92-.59-1.43-.59-.52 0-1.04.2-1.43.59L10.3 9.45l-7.72 7.72c-.78.78-.78 2.05 0 2.83L4 21.41c.39.39.9.59 1.41.59.51 0 1.02-.2 1.41-.59l7.78-7.78 2.81-2.81c.8-.78.8-2.07 0-2.86zM5.41 20L4 18.59l7.72-7.72 1.47 1.35L5.41 20z\"/>\n",
              "  </svg>\n",
              "      </button>\n",
              "      \n",
              "  <style>\n",
              "    .colab-df-container {\n",
              "      display:flex;\n",
              "      flex-wrap:wrap;\n",
              "      gap: 12px;\n",
              "    }\n",
              "\n",
              "    .colab-df-convert {\n",
              "      background-color: #E8F0FE;\n",
              "      border: none;\n",
              "      border-radius: 50%;\n",
              "      cursor: pointer;\n",
              "      display: none;\n",
              "      fill: #1967D2;\n",
              "      height: 32px;\n",
              "      padding: 0 0 0 0;\n",
              "      width: 32px;\n",
              "    }\n",
              "\n",
              "    .colab-df-convert:hover {\n",
              "      background-color: #E2EBFA;\n",
              "      box-shadow: 0px 1px 2px rgba(60, 64, 67, 0.3), 0px 1px 3px 1px rgba(60, 64, 67, 0.15);\n",
              "      fill: #174EA6;\n",
              "    }\n",
              "\n",
              "    [theme=dark] .colab-df-convert {\n",
              "      background-color: #3B4455;\n",
              "      fill: #D2E3FC;\n",
              "    }\n",
              "\n",
              "    [theme=dark] .colab-df-convert:hover {\n",
              "      background-color: #434B5C;\n",
              "      box-shadow: 0px 1px 3px 1px rgba(0, 0, 0, 0.15);\n",
              "      filter: drop-shadow(0px 1px 2px rgba(0, 0, 0, 0.3));\n",
              "      fill: #FFFFFF;\n",
              "    }\n",
              "  </style>\n",
              "\n",
              "      <script>\n",
              "        const buttonEl =\n",
              "          document.querySelector('#df-48ddfb2b-a26e-4339-b6cd-26bca80d087b button.colab-df-convert');\n",
              "        buttonEl.style.display =\n",
              "          google.colab.kernel.accessAllowed ? 'block' : 'none';\n",
              "\n",
              "        async function convertToInteractive(key) {\n",
              "          const element = document.querySelector('#df-48ddfb2b-a26e-4339-b6cd-26bca80d087b');\n",
              "          const dataTable =\n",
              "            await google.colab.kernel.invokeFunction('convertToInteractive',\n",
              "                                                     [key], {});\n",
              "          if (!dataTable) return;\n",
              "\n",
              "          const docLinkHtml = 'Like what you see? Visit the ' +\n",
              "            '<a target=\"_blank\" href=https://colab.research.google.com/notebooks/data_table.ipynb>data table notebook</a>'\n",
              "            + ' to learn more about interactive tables.';\n",
              "          element.innerHTML = '';\n",
              "          dataTable['output_type'] = 'display_data';\n",
              "          await google.colab.output.renderOutput(dataTable, element);\n",
              "          const docLink = document.createElement('div');\n",
              "          docLink.innerHTML = docLinkHtml;\n",
              "          element.appendChild(docLink);\n",
              "        }\n",
              "      </script>\n",
              "    </div>\n",
              "  </div>\n",
              "  "
            ]
          },
          "metadata": {},
          "execution_count": 121
        }
      ]
    },
    {
      "cell_type": "code",
      "source": [
        "imp = ['Occupation', 'Impact to your work if WeedSmart no longer existed?']\n",
        "\n",
        "imp_summary = pd.DataFrame(df_clean[imp].groupby('Occupation').mean()) ####\n",
        "#imp['Occupation'].str.rstrip(\"%\").astype(float)/100\n",
        "display(imp_summary) ###\n",
        "pd.options.display.float_format = '{:,.2f}'.format\n",
        "\n",
        "imp_summary = np.round(imp_summary, decimals = 2)\n",
        "\n",
        "print('\\n\\n\\n')\n",
        "fig, ax = plt.subplots(1,1)\n",
        "plt.title('Impact') ###\n",
        "ax.bar(imp_summary.index,imp_summary['Impact to your work if WeedSmart no longer existed?'].round(decimals=1))  ####\n",
        "ax.set_xticks(ax.get_xticks(), ax.get_xticklabels(), rotation=30, ha='right')\n",
        "#ax.xaxis.set_major_formatter(\"{x:.0f}\")\n",
        "ax.bar_label(ax.containers[0], label_type='edge')\n",
        "ax.set_ylim(0, 10)\n",
        "\n",
        "\n",
        "plt.show()"
      ],
      "metadata": {
        "colab": {
          "base_uri": "https://localhost:8080/",
          "height": 625
        },
        "id": "HLSpGxZwoySc",
        "outputId": "e0344be6-efb7-4180-bd36-66748ba4be3d"
      },
      "execution_count": 8,
      "outputs": [
        {
          "output_type": "display_data",
          "data": {
            "text/plain": [
              "                        Impact to your work if WeedSmart no longer existed?\n",
              "Occupation                                                                 \n",
              "Academic                                                         5.833333  \n",
              "Agronomist                                                       6.371429  \n",
              "Commercial Rep                                                   6.304348  \n",
              "Farmer                                                           6.333333  \n",
              "Other (please specify)                                           5.888889  "
            ],
            "text/html": [
              "\n",
              "  <div id=\"df-f0ca4680-9503-48a6-9ce6-3af822617944\">\n",
              "    <div class=\"colab-df-container\">\n",
              "      <div>\n",
              "<style scoped>\n",
              "    .dataframe tbody tr th:only-of-type {\n",
              "        vertical-align: middle;\n",
              "    }\n",
              "\n",
              "    .dataframe tbody tr th {\n",
              "        vertical-align: top;\n",
              "    }\n",
              "\n",
              "    .dataframe thead th {\n",
              "        text-align: right;\n",
              "    }\n",
              "</style>\n",
              "<table border=\"1\" class=\"dataframe\">\n",
              "  <thead>\n",
              "    <tr style=\"text-align: right;\">\n",
              "      <th></th>\n",
              "      <th>Impact to your work if WeedSmart no longer existed?</th>\n",
              "    </tr>\n",
              "    <tr>\n",
              "      <th>Occupation</th>\n",
              "      <th></th>\n",
              "    </tr>\n",
              "  </thead>\n",
              "  <tbody>\n",
              "    <tr>\n",
              "      <th>Academic</th>\n",
              "      <td>5.833333</td>\n",
              "    </tr>\n",
              "    <tr>\n",
              "      <th>Agronomist</th>\n",
              "      <td>6.371429</td>\n",
              "    </tr>\n",
              "    <tr>\n",
              "      <th>Commercial Rep</th>\n",
              "      <td>6.304348</td>\n",
              "    </tr>\n",
              "    <tr>\n",
              "      <th>Farmer</th>\n",
              "      <td>6.333333</td>\n",
              "    </tr>\n",
              "    <tr>\n",
              "      <th>Other (please specify)</th>\n",
              "      <td>5.888889</td>\n",
              "    </tr>\n",
              "  </tbody>\n",
              "</table>\n",
              "</div>\n",
              "      <button class=\"colab-df-convert\" onclick=\"convertToInteractive('df-f0ca4680-9503-48a6-9ce6-3af822617944')\"\n",
              "              title=\"Convert this dataframe to an interactive table.\"\n",
              "              style=\"display:none;\">\n",
              "        \n",
              "  <svg xmlns=\"http://www.w3.org/2000/svg\" height=\"24px\"viewBox=\"0 0 24 24\"\n",
              "       width=\"24px\">\n",
              "    <path d=\"M0 0h24v24H0V0z\" fill=\"none\"/>\n",
              "    <path d=\"M18.56 5.44l.94 2.06.94-2.06 2.06-.94-2.06-.94-.94-2.06-.94 2.06-2.06.94zm-11 1L8.5 8.5l.94-2.06 2.06-.94-2.06-.94L8.5 2.5l-.94 2.06-2.06.94zm10 10l.94 2.06.94-2.06 2.06-.94-2.06-.94-.94-2.06-.94 2.06-2.06.94z\"/><path d=\"M17.41 7.96l-1.37-1.37c-.4-.4-.92-.59-1.43-.59-.52 0-1.04.2-1.43.59L10.3 9.45l-7.72 7.72c-.78.78-.78 2.05 0 2.83L4 21.41c.39.39.9.59 1.41.59.51 0 1.02-.2 1.41-.59l7.78-7.78 2.81-2.81c.8-.78.8-2.07 0-2.86zM5.41 20L4 18.59l7.72-7.72 1.47 1.35L5.41 20z\"/>\n",
              "  </svg>\n",
              "      </button>\n",
              "      \n",
              "  <style>\n",
              "    .colab-df-container {\n",
              "      display:flex;\n",
              "      flex-wrap:wrap;\n",
              "      gap: 12px;\n",
              "    }\n",
              "\n",
              "    .colab-df-convert {\n",
              "      background-color: #E8F0FE;\n",
              "      border: none;\n",
              "      border-radius: 50%;\n",
              "      cursor: pointer;\n",
              "      display: none;\n",
              "      fill: #1967D2;\n",
              "      height: 32px;\n",
              "      padding: 0 0 0 0;\n",
              "      width: 32px;\n",
              "    }\n",
              "\n",
              "    .colab-df-convert:hover {\n",
              "      background-color: #E2EBFA;\n",
              "      box-shadow: 0px 1px 2px rgba(60, 64, 67, 0.3), 0px 1px 3px 1px rgba(60, 64, 67, 0.15);\n",
              "      fill: #174EA6;\n",
              "    }\n",
              "\n",
              "    [theme=dark] .colab-df-convert {\n",
              "      background-color: #3B4455;\n",
              "      fill: #D2E3FC;\n",
              "    }\n",
              "\n",
              "    [theme=dark] .colab-df-convert:hover {\n",
              "      background-color: #434B5C;\n",
              "      box-shadow: 0px 1px 3px 1px rgba(0, 0, 0, 0.15);\n",
              "      filter: drop-shadow(0px 1px 2px rgba(0, 0, 0, 0.3));\n",
              "      fill: #FFFFFF;\n",
              "    }\n",
              "  </style>\n",
              "\n",
              "      <script>\n",
              "        const buttonEl =\n",
              "          document.querySelector('#df-f0ca4680-9503-48a6-9ce6-3af822617944 button.colab-df-convert');\n",
              "        buttonEl.style.display =\n",
              "          google.colab.kernel.accessAllowed ? 'block' : 'none';\n",
              "\n",
              "        async function convertToInteractive(key) {\n",
              "          const element = document.querySelector('#df-f0ca4680-9503-48a6-9ce6-3af822617944');\n",
              "          const dataTable =\n",
              "            await google.colab.kernel.invokeFunction('convertToInteractive',\n",
              "                                                     [key], {});\n",
              "          if (!dataTable) return;\n",
              "\n",
              "          const docLinkHtml = 'Like what you see? Visit the ' +\n",
              "            '<a target=\"_blank\" href=https://colab.research.google.com/notebooks/data_table.ipynb>data table notebook</a>'\n",
              "            + ' to learn more about interactive tables.';\n",
              "          element.innerHTML = '';\n",
              "          dataTable['output_type'] = 'display_data';\n",
              "          await google.colab.output.renderOutput(dataTable, element);\n",
              "          const docLink = document.createElement('div');\n",
              "          docLink.innerHTML = docLinkHtml;\n",
              "          element.appendChild(docLink);\n",
              "        }\n",
              "      </script>\n",
              "    </div>\n",
              "  </div>\n",
              "  "
            ]
          },
          "metadata": {}
        },
        {
          "output_type": "stream",
          "name": "stdout",
          "text": [
            "\n",
            "\n",
            "\n",
            "\n"
          ]
        },
        {
          "output_type": "display_data",
          "data": {
            "text/plain": [
              "<Figure size 432x288 with 1 Axes>"
            ],
            "image/png": "[encoded data removed]"
          },
          "metadata": {
            "needs_background": "light"
          }
        }
      ]
    },
    {
      "cell_type": "markdown",
      "source": [
        "# Regional Analysis"
      ],
      "metadata": {
        "id": "8lTTfOABuSeG"
      }
    },
    {
      "cell_type": "code",
      "source": [
        "df_clean.replace({'Location' : {'QLD Central/ Northern' : 'Northern', 'NSW NE/ QLD SE' : 'Northern', 'NSW NW/ QLD SW' : 'Northern'}}, inplace = True)\n",
        "df_clean.replace({'Location' : {'SA Mid North/ Lower Yorke Eyre' : 'Southern', 'SA/ VIC Bordertown. Wimmera' : 'Southern', 'SA VIC Mallee' : 'Southern',\n",
        "                                'VIC High Rainfall': 'Southern', 'NSW Central': 'Southern','NSW/ VIC Slopes':'Southern' }}, inplace = True)\n",
        "df_clean.replace({'Location' : {'WA Northern (inc Ord)' : 'Western', 'WA Central' : 'Western', 'WA Eastern' : 'Western',\n",
        "                                'WA Mallee/ Sandplain (Esperance)': 'Western'}}, inplace = True)"
      ],
      "metadata": {
        "id": "7AURroPPoyKq"
      },
      "execution_count": 10,
      "outputs": []
    },
    {
      "cell_type": "code",
      "source": [
        "loc_col = [ 'Location','Occupation']\n",
        "loc_summary = pd.DataFrame(df_clean[['Location', 'Occupation']].groupby('Location').count()).rename(columns = {'Occupation':'Number of entries'})\n",
        "pd.DataFrame(loc_summary['Number of entries']/loc_summary['Number of entries'].sum()).applymap('{:.1%}'.format)"
      ],
      "metadata": {
        "colab": {
          "base_uri": "https://localhost:8080/",
          "height": 175
        },
        "id": "Gvqvc52Exqrl",
        "outputId": "5dfa4aaf-330a-4eba-9681-a7d04cddc968"
      },
      "execution_count": null,
      "outputs": [
        {
          "output_type": "execute_result",
          "data": {
            "text/plain": [
              "         Number of entries\n",
              "Location                  \n",
              "Northern             16.0%\n",
              "Southern             63.3%\n",
              "Western              20.7%"
            ],
            "text/html": [
              "\n",
              "  <div id=\"df-cc453fef-c215-4f5a-b4e6-4ca76b673c0b\">\n",
              "    <div class=\"colab-df-container\">\n",
              "      <div>\n",
              "<style scoped>\n",
              "    .dataframe tbody tr th:only-of-type {\n",
              "        vertical-align: middle;\n",
              "    }\n",
              "\n",
              "    .dataframe tbody tr th {\n",
              "        vertical-align: top;\n",
              "    }\n",
              "\n",
              "    .dataframe thead th {\n",
              "        text-align: right;\n",
              "    }\n",
              "</style>\n",
              "<table border=\"1\" class=\"dataframe\">\n",
              "  <thead>\n",
              "    <tr style=\"text-align: right;\">\n",
              "      <th></th>\n",
              "      <th>Number of entries</th>\n",
              "    </tr>\n",
              "    <tr>\n",
              "      <th>Location</th>\n",
              "      <th></th>\n",
              "    </tr>\n",
              "  </thead>\n",
              "  <tbody>\n",
              "    <tr>\n",
              "      <th>Northern</th>\n",
              "      <td>16.0%</td>\n",
              "    </tr>\n",
              "    <tr>\n",
              "      <th>Southern</th>\n",
              "      <td>63.3%</td>\n",
              "    </tr>\n",
              "    <tr>\n",
              "      <th>Western</th>\n",
              "      <td>20.7%</td>\n",
              "    </tr>\n",
              "  </tbody>\n",
              "</table>\n",
              "</div>\n",
              "      <button class=\"colab-df-convert\" onclick=\"convertToInteractive('df-cc453fef-c215-4f5a-b4e6-4ca76b673c0b')\"\n",
              "              title=\"Convert this dataframe to an interactive table.\"\n",
              "              style=\"display:none;\">\n",
              "        \n",
              "  <svg xmlns=\"http://www.w3.org/2000/svg\" height=\"24px\"viewBox=\"0 0 24 24\"\n",
              "       width=\"24px\">\n",
              "    <path d=\"M0 0h24v24H0V0z\" fill=\"none\"/>\n",
              "    <path d=\"M18.56 5.44l.94 2.06.94-2.06 2.06-.94-2.06-.94-.94-2.06-.94 2.06-2.06.94zm-11 1L8.5 8.5l.94-2.06 2.06-.94-2.06-.94L8.5 2.5l-.94 2.06-2.06.94zm10 10l.94 2.06.94-2.06 2.06-.94-2.06-.94-.94-2.06-.94 2.06-2.06.94z\"/><path d=\"M17.41 7.96l-1.37-1.37c-.4-.4-.92-.59-1.43-.59-.52 0-1.04.2-1.43.59L10.3 9.45l-7.72 7.72c-.78.78-.78 2.05 0 2.83L4 21.41c.39.39.9.59 1.41.59.51 0 1.02-.2 1.41-.59l7.78-7.78 2.81-2.81c.8-.78.8-2.07 0-2.86zM5.41 20L4 18.59l7.72-7.72 1.47 1.35L5.41 20z\"/>\n",
              "  </svg>\n",
              "      </button>\n",
              "      \n",
              "  <style>\n",
              "    .colab-df-container {\n",
              "      display:flex;\n",
              "      flex-wrap:wrap;\n",
              "      gap: 12px;\n",
              "    }\n",
              "\n",
              "    .colab-df-convert {\n",
              "      background-color: #E8F0FE;\n",
              "      border: none;\n",
              "      border-radius: 50%;\n",
              "      cursor: pointer;\n",
              "      display: none;\n",
              "      fill: #1967D2;\n",
              "      height: 32px;\n",
              "      padding: 0 0 0 0;\n",
              "      width: 32px;\n",
              "    }\n",
              "\n",
              "    .colab-df-convert:hover {\n",
              "      background-color: #E2EBFA;\n",
              "      box-shadow: 0px 1px 2px rgba(60, 64, 67, 0.3), 0px 1px 3px 1px rgba(60, 64, 67, 0.15);\n",
              "      fill: #174EA6;\n",
              "    }\n",
              "\n",
              "    [theme=dark] .colab-df-convert {\n",
              "      background-color: #3B4455;\n",
              "      fill: #D2E3FC;\n",
              "    }\n",
              "\n",
              "    [theme=dark] .colab-df-convert:hover {\n",
              "      background-color: #434B5C;\n",
              "      box-shadow: 0px 1px 3px 1px rgba(0, 0, 0, 0.15);\n",
              "      filter: drop-shadow(0px 1px 2px rgba(0, 0, 0, 0.3));\n",
              "      fill: #FFFFFF;\n",
              "    }\n",
              "  </style>\n",
              "\n",
              "      <script>\n",
              "        const buttonEl =\n",
              "          document.querySelector('#df-cc453fef-c215-4f5a-b4e6-4ca76b673c0b button.colab-df-convert');\n",
              "        buttonEl.style.display =\n",
              "          google.colab.kernel.accessAllowed ? 'block' : 'none';\n",
              "\n",
              "        async function convertToInteractive(key) {\n",
              "          const element = document.querySelector('#df-cc453fef-c215-4f5a-b4e6-4ca76b673c0b');\n",
              "          const dataTable =\n",
              "            await google.colab.kernel.invokeFunction('convertToInteractive',\n",
              "                                                     [key], {});\n",
              "          if (!dataTable) return;\n",
              "\n",
              "          const docLinkHtml = 'Like what you see? Visit the ' +\n",
              "            '<a target=\"_blank\" href=https://colab.research.google.com/notebooks/data_table.ipynb>data table notebook</a>'\n",
              "            + ' to learn more about interactive tables.';\n",
              "          element.innerHTML = '';\n",
              "          dataTable['output_type'] = 'display_data';\n",
              "          await google.colab.output.renderOutput(dataTable, element);\n",
              "          const docLink = document.createElement('div');\n",
              "          docLink.innerHTML = docLinkHtml;\n",
              "          element.appendChild(docLink);\n",
              "        }\n",
              "      </script>\n",
              "    </div>\n",
              "  </div>\n",
              "  "
            ]
          },
          "metadata": {},
          "execution_count": 176
        }
      ]
    },
    {
      "cell_type": "code",
      "source": [
        "fig, ax = plt.subplots(1,1, figsize = (10,5))\n",
        "#plt.title('Location')\n",
        "ax.bar(loc_summary.index,loc_summary['Number of entries']/loc_summary['Number of entries'].sum()*100)\n",
        "ax.set_xticks(ax.get_xticks(), ax.get_xticklabels(), rotation=40, ha='right')\n",
        "ax.bar_label(ax.containers[0], label_type='edge', fmt='%.0f%%')\n",
        "ax.set_ylim(0, 100)\n",
        "#ax.set_ylabel('%')\n",
        "plt.show()"
      ],
      "metadata": {
        "colab": {
          "base_uri": "https://localhost:8080/",
          "height": 351
        },
        "id": "EH1az0eOxqot",
        "outputId": "2aff187d-5662-4d56-b5b8-3db13363b8ea"
      },
      "execution_count": null,
      "outputs": [
        {
          "output_type": "display_data",
          "data": {
            "text/plain": [
              "<Figure size 720x360 with 1 Axes>"
            ],
            "image/png": "[encoded data removed]"
          },
          "metadata": {
            "needs_background": "light"
          }
        }
      ]
    },
    {
      "cell_type": "code",
      "source": [
        "Q16, 17, 19 and 21 by t"
      ],
      "metadata": {
        "id": "K6CBrs2zxqly"
      },
      "execution_count": null,
      "outputs": []
    },
    {
      "cell_type": "code",
      "source": [
        "\n",
        "\n",
        "cols = ['Relevant', 'Useful', 'Timely']\n",
        "\n",
        "\n",
        "rec_df = pd.DataFrame(df_clean[df_clean['Would recommend']>0].groupby('Location')['Would recommend'].mean())\n",
        "#rec_df['Would recommend'].str.rstrip(\"%\").astype(float)/100\n",
        "display(rec_df)\n",
        "print('\\n\\n\\n')\n",
        "\n",
        "# plt.bar(rec_df.index, rec_df['Would recommend'])\n",
        "# plt.title('Mean Recommendation Score')\n",
        "# plt.xticks(rotation=40, ha = 'right')\n",
        "# plt.show()\n",
        "\n",
        "fig, ax = plt.subplots(1,1, figsize=(5,5))\n",
        "\n",
        "ax.bar(rec_df.index,np.round(rec_df['Would recommend'], decimals = 1))\n",
        "ax.set_xticks(ax.get_xticks(), ax.get_xticklabels(), rotation=40, ha='right')\n",
        "ax.bar_label(ax.containers[0], label_type='edge')\n",
        "ax.set_ylim(0, 12)\n",
        "plt.show()\n",
        "\n",
        "\n",
        "\n",
        "\n",
        "\n",
        "\n",
        "fig, ax = plt.subplots(2,2, figsize=(10,10))\n",
        "fig.suptitle('Relevance of Information',fontsize=16)\n",
        "row=0\n",
        "col=[0,1]*2\n",
        "for i, column in enumerate(cols):\n",
        "    plot_fig = pd.DataFrame(df_clean.loc[:, ['Location', column]].groupby('Location')[column].mean())\n",
        "    if (i!=0)&(i%2==0):\n",
        "        row+=1\n",
        "    axs = ax[row,col[i]]\n",
        "    axs.bar(plot_fig.index,np.round(plot_fig[column], decimals =1))\n",
        "    axs.set_xticks(axs.get_xticks(), axs.get_xticklabels(), rotation=40, ha='right')\n",
        "    axs.set_title(column )\n",
        "    axs.bar_label(axs.containers[0], label_type='edge')\n",
        "    axs.set_ylim(0, 12)\n",
        "fig.tight_layout(pad = 5)"
      ],
      "metadata": {
        "colab": {
          "base_uri": "https://localhost:8080/",
          "height": 1000
        },
        "id": "7u4e8TIXydGc",
        "outputId": "2d800480-d80a-42c5-a381-2c1057df1519"
      },
      "execution_count": 12,
      "outputs": [
        {
          "output_type": "display_data",
          "data": {
            "text/plain": [
              "          Would recommend\n",
              "Location                 \n",
              "Northern             9.00\n",
              "Southern             8.61\n",
              "Western              8.08"
            ],
            "text/html": [
              "\n",
              "  <div id=\"df-2ab64dac-62eb-47a4-976c-f6531c60c2b7\">\n",
              "    <div class=\"colab-df-container\">\n",
              "      <div>\n",
              "<style scoped>\n",
              "    .dataframe tbody tr th:only-of-type {\n",
              "        vertical-align: middle;\n",
              "    }\n",
              "\n",
              "    .dataframe tbody tr th {\n",
              "        vertical-align: top;\n",
              "    }\n",
              "\n",
              "    .dataframe thead th {\n",
              "        text-align: right;\n",
              "    }\n",
              "</style>\n",
              "<table border=\"1\" class=\"dataframe\">\n",
              "  <thead>\n",
              "    <tr style=\"text-align: right;\">\n",
              "      <th></th>\n",
              "      <th>Would recommend</th>\n",
              "    </tr>\n",
              "    <tr>\n",
              "      <th>Location</th>\n",
              "      <th></th>\n",
              "    </tr>\n",
              "  </thead>\n",
              "  <tbody>\n",
              "    <tr>\n",
              "      <th>Northern</th>\n",
              "      <td>9.00</td>\n",
              "    </tr>\n",
              "    <tr>\n",
              "      <th>Southern</th>\n",
              "      <td>8.61</td>\n",
              "    </tr>\n",
              "    <tr>\n",
              "      <th>Western</th>\n",
              "      <td>8.08</td>\n",
              "    </tr>\n",
              "  </tbody>\n",
              "</table>\n",
              "</div>\n",
              "      <button class=\"colab-df-convert\" onclick=\"convertToInteractive('df-2ab64dac-62eb-47a4-976c-f6531c60c2b7')\"\n",
              "              title=\"Convert this dataframe to an interactive table.\"\n",
              "              style=\"display:none;\">\n",
              "        \n",
              "  <svg xmlns=\"http://www.w3.org/2000/svg\" height=\"24px\"viewBox=\"0 0 24 24\"\n",
              "       width=\"24px\">\n",
              "    <path d=\"M0 0h24v24H0V0z\" fill=\"none\"/>\n",
              "    <path d=\"M18.56 5.44l.94 2.06.94-2.06 2.06-.94-2.06-.94-.94-2.06-.94 2.06-2.06.94zm-11 1L8.5 8.5l.94-2.06 2.06-.94-2.06-.94L8.5 2.5l-.94 2.06-2.06.94zm10 10l.94 2.06.94-2.06 2.06-.94-2.06-.94-.94-2.06-.94 2.06-2.06.94z\"/><path d=\"M17.41 7.96l-1.37-1.37c-.4-.4-.92-.59-1.43-.59-.52 0-1.04.2-1.43.59L10.3 9.45l-7.72 7.72c-.78.78-.78 2.05 0 2.83L4 21.41c.39.39.9.59 1.41.59.51 0 1.02-.2 1.41-.59l7.78-7.78 2.81-2.81c.8-.78.8-2.07 0-2.86zM5.41 20L4 18.59l7.72-7.72 1.47 1.35L5.41 20z\"/>\n",
              "  </svg>\n",
              "      </button>\n",
              "      \n",
              "  <style>\n",
              "    .colab-df-container {\n",
              "      display:flex;\n",
              "      flex-wrap:wrap;\n",
              "      gap: 12px;\n",
              "    }\n",
              "\n",
              "    .colab-df-convert {\n",
              "      background-color: #E8F0FE;\n",
              "      border: none;\n",
              "      border-radius: 50%;\n",
              "      cursor: pointer;\n",
              "      display: none;\n",
              "      fill: #1967D2;\n",
              "      height: 32px;\n",
              "      padding: 0 0 0 0;\n",
              "      width: 32px;\n",
              "    }\n",
              "\n",
              "    .colab-df-convert:hover {\n",
              "      background-color: #E2EBFA;\n",
              "      box-shadow: 0px 1px 2px rgba(60, 64, 67, 0.3), 0px 1px 3px 1px rgba(60, 64, 67, 0.15);\n",
              "      fill: #174EA6;\n",
              "    }\n",
              "\n",
              "    [theme=dark] .colab-df-convert {\n",
              "      background-color: #3B4455;\n",
              "      fill: #D2E3FC;\n",
              "    }\n",
              "\n",
              "    [theme=dark] .colab-df-convert:hover {\n",
              "      background-color: #434B5C;\n",
              "      box-shadow: 0px 1px 3px 1px rgba(0, 0, 0, 0.15);\n",
              "      filter: drop-shadow(0px 1px 2px rgba(0, 0, 0, 0.3));\n",
              "      fill: #FFFFFF;\n",
              "    }\n",
              "  </style>\n",
              "\n",
              "      <script>\n",
              "        const buttonEl =\n",
              "          document.querySelector('#df-2ab64dac-62eb-47a4-976c-f6531c60c2b7 button.colab-df-convert');\n",
              "        buttonEl.style.display =\n",
              "          google.colab.kernel.accessAllowed ? 'block' : 'none';\n",
              "\n",
              "        async function convertToInteractive(key) {\n",
              "          const element = document.querySelector('#df-2ab64dac-62eb-47a4-976c-f6531c60c2b7');\n",
              "          const dataTable =\n",
              "            await google.colab.kernel.invokeFunction('convertToInteractive',\n",
              "                                                     [key], {});\n",
              "          if (!dataTable) return;\n",
              "\n",
              "          const docLinkHtml = 'Like what you see? Visit the ' +\n",
              "            '<a target=\"_blank\" href=https://colab.research.google.com/notebooks/data_table.ipynb>data table notebook</a>'\n",
              "            + ' to learn more about interactive tables.';\n",
              "          element.innerHTML = '';\n",
              "          dataTable['output_type'] = 'display_data';\n",
              "          await google.colab.output.renderOutput(dataTable, element);\n",
              "          const docLink = document.createElement('div');\n",
              "          docLink.innerHTML = docLinkHtml;\n",
              "          element.appendChild(docLink);\n",
              "        }\n",
              "      </script>\n",
              "    </div>\n",
              "  </div>\n",
              "  "
            ]
          },
          "metadata": {}
        },
        {
          "output_type": "stream",
          "name": "stdout",
          "text": [
            "\n",
            "\n",
            "\n",
            "\n"
          ]
        },
        {
          "output_type": "display_data",
          "data": {
            "text/plain": [
              "<Figure size 360x360 with 1 Axes>"
            ],
            "image/png": "[encoded data removed]"
          },
          "metadata": {
            "needs_background": "light"
          }
        },
        {
          "output_type": "display_data",
          "data": {
            "text/plain": [
              "<Figure size 720x720 with 4 Axes>"
            ],
            "image/png": "[encoded data removed]"
          },
          "metadata": {
            "needs_background": "light"
          }
        }
      ]
    },
    {
      "cell_type": "code",
      "source": [
        "gain = ['Location', ' Practical crop management strategies',\n",
        " 'Data behind integrated weed management strategies.',\n",
        " 'Information about on-farm practices',\n",
        " 'Improved decision making',\n",
        " 'Updated Information',\n",
        " 'Network with industry professionals',\n",
        " 'Information on weed biology and identification.',\n",
        " 'No benefit',\n",
        " 'Gained: Other']\n",
        "\n",
        "\n",
        "col_sum = gain\n",
        "\n",
        "plots(df_clean = df_clean, col_sum = gain, occ_all =139, title ='Gain', gb ='Location' )\n",
        "\n",
        "\n",
        "# summary_count = pd.DataFrame(df_clean[col_sum].groupby('Location').count().sum(), columns = ['Number of entries'])\n",
        "# sum_table=pd.DataFrame(summary_count['Number of entries']/summary_count['Number of entries'].sum()).applymap('{:.1%}'.format)\n",
        "# sum_df=pd.DataFrame(summary_count['Number of entries']/summary_count['Number of entries'].sum())\n",
        "\n",
        "\n",
        "# display(sum_table)\n",
        "\n",
        "# print('\\n\\n\\n')\n",
        "# fig, ax = plt.subplots(1,1, figsize = (10,5))\n",
        "# #plt.title('Herbicide resistance testing')\n",
        "# ax.bar(sum_df.index,sum_df['Number of entries']*100, align = 'center', width = 0.6)\n",
        "# ax.set_xticks(ax.get_xticks(), ax.get_xticklabels(), rotation=40, ha='right')\n",
        "# ax.bar_label(ax.containers[0], label_type='edge', fmt='%.1f%%')\n",
        "# ax.set_ylim(0, 100)\n",
        "# plt.show()\n",
        "\n",
        "# print('\\n\\n\\n')\n",
        "# print('\\n\\n\\n')\n",
        "\n",
        "# r = math.ceil(len(col_sum)/2)\n",
        "\n",
        "# cols = col_sum[1:]\n",
        "# fig, ax = plt.subplots(r,2, figsize=(10,r*4))\n",
        "# #fig.suptitle('Herbicide resistance testing',fontsize=16)\n",
        "# row=0\n",
        "# col=[0,1]*r\n",
        "# for i, column in enumerate(cols):\n",
        "#     plot_fig = pd.DataFrame(df_clean.loc[:, ['Location', column]].groupby('Location')[column].count())\n",
        "#     if (i!=0)&(i%2==0):\n",
        "#         row+=1\n",
        "#     axs = ax[row,col[i]]\n",
        "#     axs.bar(plot_fig.index,plot_fig[column]/occ_all*100)\n",
        "#     axs.set_xticks(axs.get_xticks(), axs.get_xticklabels(), rotation=40, ha='right')\n",
        "#     axs.set_title(column )\n",
        "#     axs.bar_label(axs.containers[0], label_type='edge', fmt='%.1f%%')\n",
        "#     axs.set_ylim(0, 100)\n",
        "# fig.tight_layout()"
      ],
      "metadata": {
        "id": "N2kf1BthydDm"
      },
      "execution_count": null,
      "outputs": []
    },
    {
      "cell_type": "code",
      "source": [
        "df_clean['Would recommend'].fillna(0, inplace = True)\n",
        "\n",
        "rec_df = pd.DataFrame(np.round(df_clean[df_clean['Would recommend']>0].groupby('Location')['Would recommend'].mean(), decimals = 1))\n",
        "\n",
        "display(rec_df)\n",
        "print('\\n\\n\\n')\n",
        "\n",
        "# plt.bar(rec_df.index, rec_df['Would recommend'])\n",
        "# plt.title('Mean Recommendation Score')\n",
        "# plt.xticks(rotation=40, ha = 'right')\n",
        "# plt.show()\n",
        "\n",
        "fig, ax = plt.subplots(1,1, figsize=(5,5))\n",
        "\n",
        "ax.bar(rec_df.index,np.round(rec_df['Would recommend'], decimals = 1))\n",
        "ax.set_xticks(ax.get_xticks(), ax.get_xticklabels(), rotation=40, ha='right')\n",
        "ax.bar_label(ax.containers[0], label_type='edge')\n",
        "ax.set_ylim(0, 12)\n",
        "plt.show()"
      ],
      "metadata": {
        "colab": {
          "base_uri": "https://localhost:8080/",
          "height": 578
        },
        "id": "nty3j-1yydBB",
        "outputId": "3ff9227e-e2d9-446a-fb9c-706322f5ada4"
      },
      "execution_count": 13,
      "outputs": [
        {
          "output_type": "display_data",
          "data": {
            "text/plain": [
              "          Would recommend\n",
              "Location                 \n",
              "Northern             9.00\n",
              "Southern             8.60\n",
              "Western              8.10"
            ],
            "text/html": [
              "\n",
              "  <div id=\"df-a35f5f1c-c22d-434b-b50a-82373863f01c\">\n",
              "    <div class=\"colab-df-container\">\n",
              "      <div>\n",
              "<style scoped>\n",
              "    .dataframe tbody tr th:only-of-type {\n",
              "        vertical-align: middle;\n",
              "    }\n",
              "\n",
              "    .dataframe tbody tr th {\n",
              "        vertical-align: top;\n",
              "    }\n",
              "\n",
              "    .dataframe thead th {\n",
              "        text-align: right;\n",
              "    }\n",
              "</style>\n",
              "<table border=\"1\" class=\"dataframe\">\n",
              "  <thead>\n",
              "    <tr style=\"text-align: right;\">\n",
              "      <th></th>\n",
              "      <th>Would recommend</th>\n",
              "    </tr>\n",
              "    <tr>\n",
              "      <th>Location</th>\n",
              "      <th></th>\n",
              "    </tr>\n",
              "  </thead>\n",
              "  <tbody>\n",
              "    <tr>\n",
              "      <th>Northern</th>\n",
              "      <td>9.00</td>\n",
              "    </tr>\n",
              "    <tr>\n",
              "      <th>Southern</th>\n",
              "      <td>8.60</td>\n",
              "    </tr>\n",
              "    <tr>\n",
              "      <th>Western</th>\n",
              "      <td>8.10</td>\n",
              "    </tr>\n",
              "  </tbody>\n",
              "</table>\n",
              "</div>\n",
              "      <button class=\"colab-df-convert\" onclick=\"convertToInteractive('df-a35f5f1c-c22d-434b-b50a-82373863f01c')\"\n",
              "              title=\"Convert this dataframe to an interactive table.\"\n",
              "              style=\"display:none;\">\n",
              "        \n",
              "  <svg xmlns=\"http://www.w3.org/2000/svg\" height=\"24px\"viewBox=\"0 0 24 24\"\n",
              "       width=\"24px\">\n",
              "    <path d=\"M0 0h24v24H0V0z\" fill=\"none\"/>\n",
              "    <path d=\"M18.56 5.44l.94 2.06.94-2.06 2.06-.94-2.06-.94-.94-2.06-.94 2.06-2.06.94zm-11 1L8.5 8.5l.94-2.06 2.06-.94-2.06-.94L8.5 2.5l-.94 2.06-2.06.94zm10 10l.94 2.06.94-2.06 2.06-.94-2.06-.94-.94-2.06-.94 2.06-2.06.94z\"/><path d=\"M17.41 7.96l-1.37-1.37c-.4-.4-.92-.59-1.43-.59-.52 0-1.04.2-1.43.59L10.3 9.45l-7.72 7.72c-.78.78-.78 2.05 0 2.83L4 21.41c.39.39.9.59 1.41.59.51 0 1.02-.2 1.41-.59l7.78-7.78 2.81-2.81c.8-.78.8-2.07 0-2.86zM5.41 20L4 18.59l7.72-7.72 1.47 1.35L5.41 20z\"/>\n",
              "  </svg>\n",
              "      </button>\n",
              "      \n",
              "  <style>\n",
              "    .colab-df-container {\n",
              "      display:flex;\n",
              "      flex-wrap:wrap;\n",
              "      gap: 12px;\n",
              "    }\n",
              "\n",
              "    .colab-df-convert {\n",
              "      background-color: #E8F0FE;\n",
              "      border: none;\n",
              "      border-radius: 50%;\n",
              "      cursor: pointer;\n",
              "      display: none;\n",
              "      fill: #1967D2;\n",
              "      height: 32px;\n",
              "      padding: 0 0 0 0;\n",
              "      width: 32px;\n",
              "    }\n",
              "\n",
              "    .colab-df-convert:hover {\n",
              "      background-color: #E2EBFA;\n",
              "      box-shadow: 0px 1px 2px rgba(60, 64, 67, 0.3), 0px 1px 3px 1px rgba(60, 64, 67, 0.15);\n",
              "      fill: #174EA6;\n",
              "    }\n",
              "\n",
              "    [theme=dark] .colab-df-convert {\n",
              "      background-color: #3B4455;\n",
              "      fill: #D2E3FC;\n",
              "    }\n",
              "\n",
              "    [theme=dark] .colab-df-convert:hover {\n",
              "      background-color: #434B5C;\n",
              "      box-shadow: 0px 1px 3px 1px rgba(0, 0, 0, 0.15);\n",
              "      filter: drop-shadow(0px 1px 2px rgba(0, 0, 0, 0.3));\n",
              "      fill: #FFFFFF;\n",
              "    }\n",
              "  </style>\n",
              "\n",
              "      <script>\n",
              "        const buttonEl =\n",
              "          document.querySelector('#df-a35f5f1c-c22d-434b-b50a-82373863f01c button.colab-df-convert');\n",
              "        buttonEl.style.display =\n",
              "          google.colab.kernel.accessAllowed ? 'block' : 'none';\n",
              "\n",
              "        async function convertToInteractive(key) {\n",
              "          const element = document.querySelector('#df-a35f5f1c-c22d-434b-b50a-82373863f01c');\n",
              "          const dataTable =\n",
              "            await google.colab.kernel.invokeFunction('convertToInteractive',\n",
              "                                                     [key], {});\n",
              "          if (!dataTable) return;\n",
              "\n",
              "          const docLinkHtml = 'Like what you see? Visit the ' +\n",
              "            '<a target=\"_blank\" href=https://colab.research.google.com/notebooks/data_table.ipynb>data table notebook</a>'\n",
              "            + ' to learn more about interactive tables.';\n",
              "          element.innerHTML = '';\n",
              "          dataTable['output_type'] = 'display_data';\n",
              "          await google.colab.output.renderOutput(dataTable, element);\n",
              "          const docLink = document.createElement('div');\n",
              "          docLink.innerHTML = docLinkHtml;\n",
              "          element.appendChild(docLink);\n",
              "        }\n",
              "      </script>\n",
              "    </div>\n",
              "  </div>\n",
              "  "
            ]
          },
          "metadata": {}
        },
        {
          "output_type": "stream",
          "name": "stdout",
          "text": [
            "\n",
            "\n",
            "\n",
            "\n"
          ]
        },
        {
          "output_type": "display_data",
          "data": {
            "text/plain": [
              "<Figure size 360x360 with 1 Axes>"
            ],
            "image/png": "[encoded data removed]"
          },
          "metadata": {
            "needs_background": "light"
          }
        }
      ]
    },
    {
      "cell_type": "code",
      "source": [
        "imp = ['Location', 'Impact to your work if WeedSmart no longer existed?']\n",
        "\n",
        "pd.options.display.float_format = '{:,.1f}'.format\n",
        "imp_summary = pd.DataFrame(df_clean[imp].groupby('Location').mean()) ####\n",
        "display(imp_summary) ###\n",
        "\n",
        "\n",
        "imp_summary = np.round(imp_summary, decimals = 2)\n",
        "\n",
        "print('\\n\\n\\n')\n",
        "fig, ax = plt.subplots(1,1)\n",
        "plt.title('Impact') ###\n",
        "ax.bar(imp_summary.index,imp_summary['Impact to your work if WeedSmart no longer existed?'].round(decimals=1))  ####\n",
        "ax.set_xticks(ax.get_xticks(), ax.get_xticklabels(), rotation=30, ha='right')\n",
        "#ax.xaxis.set_major_formatter(\"{x:.2f}\")\n",
        "ax.bar_label(ax.containers[0], label_type='edge')\n",
        "ax.set_ylim(0, 10)\n",
        "\n",
        "\n",
        "plt.show()"
      ],
      "metadata": {
        "colab": {
          "base_uri": "https://localhost:8080/",
          "height": 530
        },
        "id": "EUuLLLDGyc-n",
        "outputId": "cf386281-4ead-413d-cddb-b033c4b3a89e"
      },
      "execution_count": 14,
      "outputs": [
        {
          "output_type": "display_data",
          "data": {
            "text/plain": [
              "          Impact to your work if WeedSmart no longer existed?\n",
              "Location                                                     \n",
              "Northern                                                6.5  \n",
              "Southern                                                6.3  \n",
              "Western                                                 5.8  "
            ],
            "text/html": [
              "\n",
              "  <div id=\"df-000f72a0-78ac-4b7c-8318-7f2c743b877c\">\n",
              "    <div class=\"colab-df-container\">\n",
              "      <div>\n",
              "<style scoped>\n",
              "    .dataframe tbody tr th:only-of-type {\n",
              "        vertical-align: middle;\n",
              "    }\n",
              "\n",
              "    .dataframe tbody tr th {\n",
              "        vertical-align: top;\n",
              "    }\n",
              "\n",
              "    .dataframe thead th {\n",
              "        text-align: right;\n",
              "    }\n",
              "</style>\n",
              "<table border=\"1\" class=\"dataframe\">\n",
              "  <thead>\n",
              "    <tr style=\"text-align: right;\">\n",
              "      <th></th>\n",
              "      <th>Impact to your work if WeedSmart no longer existed?</th>\n",
              "    </tr>\n",
              "    <tr>\n",
              "      <th>Location</th>\n",
              "      <th></th>\n",
              "    </tr>\n",
              "  </thead>\n",
              "  <tbody>\n",
              "    <tr>\n",
              "      <th>Northern</th>\n",
              "      <td>6.5</td>\n",
              "    </tr>\n",
              "    <tr>\n",
              "      <th>Southern</th>\n",
              "      <td>6.3</td>\n",
              "    </tr>\n",
              "    <tr>\n",
              "      <th>Western</th>\n",
              "      <td>5.8</td>\n",
              "    </tr>\n",
              "  </tbody>\n",
              "</table>\n",
              "</div>\n",
              "      <button class=\"colab-df-convert\" onclick=\"convertToInteractive('df-000f72a0-78ac-4b7c-8318-7f2c743b877c')\"\n",
              "              title=\"Convert this dataframe to an interactive table.\"\n",
              "              style=\"display:none;\">\n",
              "        \n",
              "  <svg xmlns=\"http://www.w3.org/2000/svg\" height=\"24px\"viewBox=\"0 0 24 24\"\n",
              "       width=\"24px\">\n",
              "    <path d=\"M0 0h24v24H0V0z\" fill=\"none\"/>\n",
              "    <path d=\"M18.56 5.44l.94 2.06.94-2.06 2.06-.94-2.06-.94-.94-2.06-.94 2.06-2.06.94zm-11 1L8.5 8.5l.94-2.06 2.06-.94-2.06-.94L8.5 2.5l-.94 2.06-2.06.94zm10 10l.94 2.06.94-2.06 2.06-.94-2.06-.94-.94-2.06-.94 2.06-2.06.94z\"/><path d=\"M17.41 7.96l-1.37-1.37c-.4-.4-.92-.59-1.43-.59-.52 0-1.04.2-1.43.59L10.3 9.45l-7.72 7.72c-.78.78-.78 2.05 0 2.83L4 21.41c.39.39.9.59 1.41.59.51 0 1.02-.2 1.41-.59l7.78-7.78 2.81-2.81c.8-.78.8-2.07 0-2.86zM5.41 20L4 18.59l7.72-7.72 1.47 1.35L5.41 20z\"/>\n",
              "  </svg>\n",
              "      </button>\n",
              "      \n",
              "  <style>\n",
              "    .colab-df-container {\n",
              "      display:flex;\n",
              "      flex-wrap:wrap;\n",
              "      gap: 12px;\n",
              "    }\n",
              "\n",
              "    .colab-df-convert {\n",
              "      background-color: #E8F0FE;\n",
              "      border: none;\n",
              "      border-radius: 50%;\n",
              "      cursor: pointer;\n",
              "      display: none;\n",
              "      fill: #1967D2;\n",
              "      height: 32px;\n",
              "      padding: 0 0 0 0;\n",
              "      width: 32px;\n",
              "    }\n",
              "\n",
              "    .colab-df-convert:hover {\n",
              "      background-color: #E2EBFA;\n",
              "      box-shadow: 0px 1px 2px rgba(60, 64, 67, 0.3), 0px 1px 3px 1px rgba(60, 64, 67, 0.15);\n",
              "      fill: #174EA6;\n",
              "    }\n",
              "\n",
              "    [theme=dark] .colab-df-convert {\n",
              "      background-color: #3B4455;\n",
              "      fill: #D2E3FC;\n",
              "    }\n",
              "\n",
              "    [theme=dark] .colab-df-convert:hover {\n",
              "      background-color: #434B5C;\n",
              "      box-shadow: 0px 1px 3px 1px rgba(0, 0, 0, 0.15);\n",
              "      filter: drop-shadow(0px 1px 2px rgba(0, 0, 0, 0.3));\n",
              "      fill: #FFFFFF;\n",
              "    }\n",
              "  </style>\n",
              "\n",
              "      <script>\n",
              "        const buttonEl =\n",
              "          document.querySelector('#df-000f72a0-78ac-4b7c-8318-7f2c743b877c button.colab-df-convert');\n",
              "        buttonEl.style.display =\n",
              "          google.colab.kernel.accessAllowed ? 'block' : 'none';\n",
              "\n",
              "        async function convertToInteractive(key) {\n",
              "          const element = document.querySelector('#df-000f72a0-78ac-4b7c-8318-7f2c743b877c');\n",
              "          const dataTable =\n",
              "            await google.colab.kernel.invokeFunction('convertToInteractive',\n",
              "                                                     [key], {});\n",
              "          if (!dataTable) return;\n",
              "\n",
              "          const docLinkHtml = 'Like what you see? Visit the ' +\n",
              "            '<a target=\"_blank\" href=https://colab.research.google.com/notebooks/data_table.ipynb>data table notebook</a>'\n",
              "            + ' to learn more about interactive tables.';\n",
              "          element.innerHTML = '';\n",
              "          dataTable['output_type'] = 'display_data';\n",
              "          await google.colab.output.renderOutput(dataTable, element);\n",
              "          const docLink = document.createElement('div');\n",
              "          docLink.innerHTML = docLinkHtml;\n",
              "          element.appendChild(docLink);\n",
              "        }\n",
              "      </script>\n",
              "    </div>\n",
              "  </div>\n",
              "  "
            ]
          },
          "metadata": {}
        },
        {
          "output_type": "stream",
          "name": "stdout",
          "text": [
            "\n",
            "\n",
            "\n",
            "\n"
          ]
        },
        {
          "output_type": "display_data",
          "data": {
            "text/plain": [
              "<Figure size 432x288 with 1 Axes>"
            ],
            "image/png": "[encoded data removed]"
          },
          "metadata": {
            "needs_background": "light"
          }
        }
      ]
    },
    {
      "cell_type": "code",
      "source": [],
      "metadata": {
        "id": "6cPofaoPyc7Z"
      },
      "execution_count": null,
      "outputs": []
    },
    {
      "cell_type": "code",
      "source": [
        "%%shell\n",
        "jupyter nbconvert --to html '/content/drive/MyDrive/upwork3/Weedsmart.ipynb'"
      ],
      "metadata": {
        "id": "m_XvqFFN-mJE"
      },
      "execution_count": null,
      "outputs": []
    },
    {
      "cell_type": "code",
      "source": [],
      "metadata": {
        "id": "nRlCSQE06BSR"
      },
      "execution_count": null,
      "outputs": []
    }
  ]
}