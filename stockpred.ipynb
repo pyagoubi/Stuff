{
  "nbformat": 4,
  "nbformat_minor": 0,
  "metadata": {
    "colab": {
      "provenance": [],
      "machine_shape": "hm",
      "gpuType": "V100",
      "authorship_tag": "ABX9TyPpiWmpi3RZFnS21LAjtF3c",
      "include_colab_link": true
    },
    "kernelspec": {
      "name": "python3",
      "display_name": "Python 3"
    },
    "language_info": {
      "name": "python"
    },
    "accelerator": "GPU",
    "gpuClass": "standard"
  },
  "cells": [
    {
      "cell_type": "markdown",
      "metadata": {
        "id": "view-in-github",
        "colab_type": "text"
      },
      "source": [
        "<a href=\"https://colab.research.google.com/github/pyagoubi/Stuff/blob/main/stockpred.ipynb\" target=\"_parent\"><img src=\"https://colab.research.google.com/assets/colab-badge.svg\" alt=\"Open In Colab\"/></a>"
      ]
    },
    {
      "cell_type": "code",
      "execution_count": 1,
      "metadata": {
        "colab": {
          "base_uri": "https://localhost:8080/"
        },
        "id": "5fLfxPOfE4DL",
        "outputId": "358a5fb1-6640-44d6-d3e6-7c50355d0a9e"
      },
      "outputs": [
        {
          "output_type": "stream",
          "name": "stdout",
          "text": [
            "Drive already mounted at /content/drive; to attempt to forcibly remount, call drive.mount(\"/content/drive\", force_remount=True).\n"
          ]
        }
      ],
      "source": [
        "#Mounting Google Drive\n",
        "from google.colab import drive\n",
        "drive.mount('/content/drive')\n"
      ]
    },
    {
      "cell_type": "code",
      "source": [
        "%%capture\n",
        "!pip install bt"
      ],
      "metadata": {
        "id": "SkB6VukkwtQ5"
      },
      "execution_count": null,
      "outputs": []
    },
    {
      "cell_type": "code",
      "source": [
        "%matplotlib inline\n",
        "import torch\n",
        "import torch.nn as nn\n",
        "import torch.optim as optim\n",
        "from torch.utils import data\n",
        "from torch.utils.data import dataloader\n",
        "#import bt as bt\n",
        "import os, sys, itertools, urllib, io\n",
        "import datetime as dt\n",
        "import pandas as pd\n",
        "import pandas_datareader as dr\n",
        "import numpy as np\n",
        "import matplotlib.pyplot as plt\n",
        "import seaborn as sns\n",
        "\n",
        "from sklearn.preprocessing import MinMaxScaler, StandardScaler\n",
        "from torch.utils.data import Dataset"
      ],
      "metadata": {
        "id": "oSKi_kqqwtKb"
      },
      "execution_count": 23,
      "outputs": []
    },
    {
      "cell_type": "code",
      "source": [
        "tech_daily_raw = pd.read_csv('/content/drive/MyDrive/stock predict/technical/1D_technical.csv')\n",
        "features = ['open', 'high', 'low', 'close', 'rsi', 'adx', 'cci', 'ema', 'stoch', 'trend_macd', 'momentum_stoch', 'volatility_atr']\n",
        "tech_daily = tech_daily_raw[features].copy()\n",
        "\n",
        "# init deterministic seed\n",
        "seed_value = 1234\n",
        "np.random.seed(seed_value) # set numpy seed\n",
        "torch.manual_seed(seed_value); # set pytorch seed CPU\n",
        "\n",
        "# set cpu or gpu enabled device\n",
        "device = torch.device('cuda' if torch.cuda.is_available() else 'cpu').type\n",
        "\n",
        "# init deterministic GPU seed\n",
        "torch.cuda.manual_seed(seed_value)\n",
        "\n",
        "# log type of device enabled\n",
        "now = dt.datetime.utcnow().strftime(\"%Y%m%d-%H:%M:%S\")\n",
        "print('[LOG {}] notebook with \\'{}\\' computation enabled'.format(str(now), str(device)))\n",
        "\n",
        "\n",
        "\n"
      ],
      "metadata": {
        "id": "A2x5ZKh-yCSd",
        "colab": {
          "base_uri": "https://localhost:8080/"
        },
        "outputId": "a36b35ed-4819-47af-b7e3-6235455213bb"
      },
      "execution_count": 3,
      "outputs": [
        {
          "output_type": "stream",
          "name": "stdout",
          "text": [
            "[LOG 20230517-03:56:58] notebook with 'cuda' computation enabled\n"
          ]
        }
      ]
    },
    {
      "cell_type": "code",
      "source": [
        "tech_daily['return'] = np.log(tech_daily['close']) - np.log(tech_daily['close'].shift(1))"
      ],
      "metadata": {
        "id": "DaVKZxUTWhzG"
      },
      "execution_count": 4,
      "outputs": []
    },
    {
      "cell_type": "code",
      "source": [
        "features = features + ['return']"
      ],
      "metadata": {
        "id": "Txfyq7B1WhsD"
      },
      "execution_count": 5,
      "outputs": []
    },
    {
      "cell_type": "code",
      "source": [],
      "metadata": {
        "id": "-zDML37OKzwL"
      },
      "execution_count": null,
      "outputs": []
    },
    {
      "cell_type": "code",
      "source": [
        "#scaler = MinMaxScaler()\n",
        "scaler = StandardScaler()\n",
        "tech_daily_scaled = pd.DataFrame(scaler.fit_transform(tech_daily), columns = features)"
      ],
      "metadata": {
        "id": "nsxKS_orrnTP"
      },
      "execution_count": 24,
      "outputs": []
    },
    {
      "cell_type": "code",
      "source": [
        "split_fraction = 0.9\n",
        "split_row = int(tech_daily.shape[0] * split_fraction)\n",
        "train_stock_data_return = tech_daily_scaled.iloc[:split_row]\n",
        "valid_stock_data_return = tech_daily_scaled.iloc[split_row:]"
      ],
      "metadata": {
        "id": "uFDj_0uKWhmK"
      },
      "execution_count": 25,
      "outputs": []
    },
    {
      "cell_type": "code",
      "source": [
        "train_stock_data_return = train_stock_data_return[1:]"
      ],
      "metadata": {
        "id": "M_Q27jUO0hkG"
      },
      "execution_count": 26,
      "outputs": []
    },
    {
      "cell_type": "code",
      "source": [
        "time_steps = 4 # number of predictor timesteps\n",
        "horizon = 1 # number of timesteps to be predicted\n",
        "sequence_length = time_steps + horizon # determine sequence length"
      ],
      "metadata": {
        "id": "3zH0TwSZWhjD"
      },
      "execution_count": 28,
      "outputs": []
    },
    {
      "cell_type": "code",
      "source": [
        "import numpy as np\n",
        "import torch\n",
        "\n",
        "def create_sequences(df, seq_length):\n",
        "    df = df.values  # Convert DataFrame to numpy array\n",
        "    \n",
        "    n = df.shape[0]\n",
        "    xs = np.zeros((n - seq_length, seq_length, df.shape[1]))\n",
        "    ys = np.zeros((n - seq_length, 1))\n",
        "    \n",
        "    for i in range(n - seq_length):\n",
        "        xs[i] = df[i:(i+seq_length)]\n",
        "        ys[i] = df[i+seq_length, -1]  # predict the 'return' column one step ahead\n",
        "    \n",
        "    # Convert to PyTorch tensors\n",
        "    X = torch.from_numpy(xs)\n",
        "    y = torch.from_numpy(ys)\n",
        "    \n",
        "    return X, y"
      ],
      "metadata": {
        "id": "dv-fNAKdqSZn"
      },
      "execution_count": 29,
      "outputs": []
    },
    {
      "cell_type": "code",
      "source": [
        "train, train_target = create_sequences(train_stock_data_return, sequence_length)\n",
        "valid, valid_target = create_sequences(valid_stock_data_return, sequence_length)"
      ],
      "metadata": {
        "id": "_RRAcBi7qSVh"
      },
      "execution_count": 30,
      "outputs": []
    },
    {
      "cell_type": "code",
      "source": [
        "from torch.utils.data import Dataset\n",
        "\n",
        "class SequenceDataset(Dataset):\n",
        "    def __init__(self, sequences, targets):\n",
        "        self.sequences = sequences\n",
        "        self.targets = targets\n",
        "\n",
        "    def __len__(self):\n",
        "        return len(self.targets)\n",
        "\n",
        "    def __getitem__(self, idx):\n",
        "        return self.sequences[idx], self.targets[idx]"
      ],
      "metadata": {
        "id": "4E35iVolqSPS"
      },
      "execution_count": 31,
      "outputs": []
    },
    {
      "cell_type": "code",
      "source": [
        "import torch\n",
        "import torch.nn as nn\n",
        "\n",
        "class MultivariateLSTM(nn.Module):\n",
        "    def __init__(self, input_size, hidden_size, num_layers, output_size):\n",
        "        super(MultivariateLSTM, self).__init__()\n",
        "        \n",
        "        self.hidden_size = hidden_size\n",
        "        self.num_layers = num_layers\n",
        "        \n",
        "        self.lstm = nn.LSTM(input_size, hidden_size, num_layers, batch_first=True)\n",
        "        \n",
        "        self.fc1 = nn.Linear(hidden_size, 20)\n",
        "        self.fc2 = nn.Linear(20, 10)\n",
        "        self.fc3 = nn.Linear(10, output_size)\n",
        "\n",
        "    def forward(self, x):\n",
        "        h0 = torch.zeros(self.num_layers, x.size(0), self.hidden_size).to(x.device)\n",
        "        c0 = torch.zeros(self.num_layers, x.size(0), self.hidden_size).to(x.device)\n",
        "        \n",
        "        out, _ = self.lstm(x, (h0, c0))\n",
        "        \n",
        "        out = self.fc1(out[:, -1, :])\n",
        "        out = self.fc2(out)\n",
        "        out = self.fc3(out)\n",
        "        \n",
        "        return out"
      ],
      "metadata": {
        "id": "JUFx6BgPqSME"
      },
      "execution_count": 45,
      "outputs": []
    },
    {
      "cell_type": "code",
      "source": [
        "class RMSELoss(nn.Module):\n",
        "    def __init__(self):\n",
        "        super().__init__()\n",
        "        self.mse = nn.MSELoss()\n",
        "        \n",
        "    def forward(self,yhat,y):\n",
        "        return torch.sqrt(self.mse(yhat,y))"
      ],
      "metadata": {
        "id": "LRQv4e525jNJ"
      },
      "execution_count": 33,
      "outputs": []
    },
    {
      "cell_type": "code",
      "source": [
        "from torch.utils.data import DataLoader\n",
        "import copy\n",
        "\n",
        "def train_model(model, train, train_target, valid, valid_target, learning_rate, num_epochs):\n",
        "    device = torch.device('cuda' if torch.cuda.is_available() else 'cpu')\n",
        "    model = model.to(device)\n",
        "\n",
        "    #criterion = nn.MSELoss()\n",
        "    criterion = RMSELoss()\n",
        "    optimizer = torch.optim.Adam(model.parameters(), lr=learning_rate)\n",
        "\n",
        "    train_dataset = SequenceDataset(train, train_target)\n",
        "    val_dataset = SequenceDataset(valid, valid_target)\n",
        "\n",
        "    train_loader = DataLoader(train_dataset, batch_size=32, shuffle=True)\n",
        "    val_loader = DataLoader(val_dataset, batch_size=32, shuffle=False)\n",
        "\n",
        "    best_model_wts = copy.deepcopy(model.state_dict())\n",
        "    best_loss = float('inf')\n",
        "\n",
        "    train_losses = []\n",
        "    val_losses = []\n",
        "\n",
        "    for epoch in range(num_epochs):\n",
        "        model.train()\n",
        "        train_epoch_losses = []\n",
        "        for sequences, targets in train_loader:\n",
        "            sequences = sequences.float().to(device)  # Convert to float\n",
        "            targets = targets.float().to(device)  # Convert to float\n",
        "\n",
        "\n",
        "            # Forward pass\n",
        "            outputs = model(sequences)\n",
        "            loss = criterion(outputs, targets)\n",
        "\n",
        "            # Backward pass and optimization\n",
        "            optimizer.zero_grad()\n",
        "            loss.backward()\n",
        "            optimizer.step()\n",
        "\n",
        "            train_epoch_losses.append(loss.item())\n",
        "\n",
        "        model.eval()\n",
        "        val_epoch_losses = []\n",
        "        with torch.no_grad():\n",
        "            for sequences, targets in val_loader:\n",
        "                sequences = sequences.float().to(device)  # Convert to float\n",
        "                targets = targets.float().to(device)  # Convert to float\n",
        "\n",
        "\n",
        "                outputs = model(sequences)\n",
        "                loss = criterion(outputs, targets)\n",
        "                val_epoch_losses.append(loss.item())\n",
        "\n",
        "        \n",
        "        train_loss = np.mean(train_epoch_losses)\n",
        "        val_loss = np.mean(val_epoch_losses)\n",
        "        \n",
        "        train_losses.append(train_loss)\n",
        "        val_losses.append(val_loss)\n",
        "        \n",
        "        \n",
        "        print(f'Epoch {epoch+1}/{num_epochs}, '\n",
        "              f'Train Loss: {train_loss:.4f}, '\n",
        "              f'Validation Loss: {val_loss:.4f}')\n",
        "\n",
        "\n",
        "        if val_loss < best_loss:\n",
        "            best_loss = val_loss\n",
        "            best_model_wts = copy.deepcopy(model.state_dict())\n",
        "            torch.save(model.state_dict(), 'best_model.pth')  # Save the model\n",
        "\n",
        "\n",
        "    # load best model weights\n",
        "    model.load_state_dict(best_model_wts)\n",
        "    \n",
        "    # Plot the train loss and validation loss per epoch\n",
        "    plt.figure(figsize=(12, 8))\n",
        "    plt.plot(train_losses, label='Train Loss')\n",
        "    plt.plot(val_losses, label='Validation Loss')\n",
        "    plt.title('Loss per epoch')\n",
        "    plt.xlabel('Epochs')\n",
        "    plt.ylabel('Loss')\n",
        "    plt.legend()\n",
        "    plt.show()\n",
        "    \n",
        "    return model\n",
        "\n",
        "# Use the function:\n",
        "num_features = train.shape[-1]  # X is your input data\n",
        "model = MultivariateLSTM(input_size=num_features, hidden_size=50, num_layers=2, output_size=1)\n",
        "train_model(model, train, train_target, valid, valid_target, learning_rate=0.001, num_epochs=100)\n"
      ],
      "metadata": {
        "colab": {
          "base_uri": "https://localhost:8080/",
          "height": 1000
        },
        "id": "2gANCFXjqSJA",
        "outputId": "321d5e79-d66a-4c81-d633-fd0c572815f4"
      },
      "execution_count": 46,
      "outputs": [
        {
          "output_type": "stream",
          "name": "stdout",
          "text": [
            "Epoch 1/100, Train Loss: 1.0010, Validation Loss: 0.8051\n",
            "Epoch 2/100, Train Loss: 0.9995, Validation Loss: 0.8045\n",
            "Epoch 3/100, Train Loss: 0.9969, Validation Loss: 0.8039\n",
            "Epoch 4/100, Train Loss: 0.9990, Validation Loss: 0.8059\n",
            "Epoch 5/100, Train Loss: 0.9952, Validation Loss: 0.8038\n",
            "Epoch 6/100, Train Loss: 0.9985, Validation Loss: 0.8048\n",
            "Epoch 7/100, Train Loss: 0.9949, Validation Loss: 0.8047\n",
            "Epoch 8/100, Train Loss: 0.9942, Validation Loss: 0.8048\n",
            "Epoch 9/100, Train Loss: 0.9918, Validation Loss: 0.8051\n",
            "Epoch 10/100, Train Loss: 0.9909, Validation Loss: 0.8060\n",
            "Epoch 11/100, Train Loss: 0.9912, Validation Loss: 0.8041\n",
            "Epoch 12/100, Train Loss: 0.9915, Validation Loss: 0.8076\n",
            "Epoch 13/100, Train Loss: 0.9893, Validation Loss: 0.8043\n",
            "Epoch 14/100, Train Loss: 0.9888, Validation Loss: 0.8071\n",
            "Epoch 15/100, Train Loss: 0.9866, Validation Loss: 0.8110\n",
            "Epoch 16/100, Train Loss: 0.9856, Validation Loss: 0.8064\n",
            "Epoch 17/100, Train Loss: 0.9822, Validation Loss: 0.8083\n",
            "Epoch 18/100, Train Loss: 0.9832, Validation Loss: 0.8087\n",
            "Epoch 19/100, Train Loss: 0.9772, Validation Loss: 0.8119\n",
            "Epoch 20/100, Train Loss: 0.9695, Validation Loss: 0.8086\n",
            "Epoch 21/100, Train Loss: 0.9668, Validation Loss: 0.8058\n",
            "Epoch 22/100, Train Loss: 0.9636, Validation Loss: 0.8239\n",
            "Epoch 23/100, Train Loss: 0.9572, Validation Loss: 0.8135\n",
            "Epoch 24/100, Train Loss: 0.9521, Validation Loss: 0.8071\n",
            "Epoch 25/100, Train Loss: 0.9452, Validation Loss: 0.8293\n",
            "Epoch 26/100, Train Loss: 0.9432, Validation Loss: 0.8210\n",
            "Epoch 27/100, Train Loss: 0.9327, Validation Loss: 0.8201\n",
            "Epoch 28/100, Train Loss: 0.9276, Validation Loss: 0.8249\n",
            "Epoch 29/100, Train Loss: 0.9200, Validation Loss: 0.8315\n",
            "Epoch 30/100, Train Loss: 0.9144, Validation Loss: 0.8321\n",
            "Epoch 31/100, Train Loss: 0.9068, Validation Loss: 0.8324\n",
            "Epoch 32/100, Train Loss: 0.8958, Validation Loss: 0.8398\n",
            "Epoch 33/100, Train Loss: 0.8915, Validation Loss: 0.8389\n",
            "Epoch 34/100, Train Loss: 0.8878, Validation Loss: 0.8345\n",
            "Epoch 35/100, Train Loss: 0.8765, Validation Loss: 0.8381\n",
            "Epoch 36/100, Train Loss: 0.8704, Validation Loss: 0.8448\n",
            "Epoch 37/100, Train Loss: 0.8597, Validation Loss: 0.8511\n",
            "Epoch 38/100, Train Loss: 0.8533, Validation Loss: 0.8590\n",
            "Epoch 39/100, Train Loss: 0.8444, Validation Loss: 0.8507\n",
            "Epoch 40/100, Train Loss: 0.8390, Validation Loss: 0.8713\n",
            "Epoch 41/100, Train Loss: 0.8354, Validation Loss: 0.8586\n",
            "Epoch 42/100, Train Loss: 0.8256, Validation Loss: 0.8733\n",
            "Epoch 43/100, Train Loss: 0.8191, Validation Loss: 0.8723\n",
            "Epoch 44/100, Train Loss: 0.8103, Validation Loss: 0.8810\n",
            "Epoch 45/100, Train Loss: 0.8027, Validation Loss: 0.8881\n",
            "Epoch 46/100, Train Loss: 0.7941, Validation Loss: 0.8922\n",
            "Epoch 47/100, Train Loss: 0.7838, Validation Loss: 0.9035\n",
            "Epoch 48/100, Train Loss: 0.7755, Validation Loss: 0.8818\n",
            "Epoch 49/100, Train Loss: 0.7704, Validation Loss: 0.8895\n",
            "Epoch 50/100, Train Loss: 0.7642, Validation Loss: 0.9126\n",
            "Epoch 51/100, Train Loss: 0.7527, Validation Loss: 0.8962\n",
            "Epoch 52/100, Train Loss: 0.7480, Validation Loss: 0.9083\n",
            "Epoch 53/100, Train Loss: 0.7373, Validation Loss: 0.9230\n",
            "Epoch 54/100, Train Loss: 0.7280, Validation Loss: 0.9176\n",
            "Epoch 55/100, Train Loss: 0.7217, Validation Loss: 0.9486\n",
            "Epoch 56/100, Train Loss: 0.7177, Validation Loss: 0.9196\n",
            "Epoch 57/100, Train Loss: 0.7061, Validation Loss: 0.9345\n",
            "Epoch 58/100, Train Loss: 0.6999, Validation Loss: 0.9320\n",
            "Epoch 59/100, Train Loss: 0.6891, Validation Loss: 0.9314\n",
            "Epoch 60/100, Train Loss: 0.6795, Validation Loss: 0.9581\n",
            "Epoch 61/100, Train Loss: 0.6758, Validation Loss: 0.9521\n",
            "Epoch 62/100, Train Loss: 0.6656, Validation Loss: 0.9434\n",
            "Epoch 63/100, Train Loss: 0.6566, Validation Loss: 0.9495\n",
            "Epoch 64/100, Train Loss: 0.6517, Validation Loss: 0.9718\n",
            "Epoch 65/100, Train Loss: 0.6384, Validation Loss: 0.9534\n",
            "Epoch 66/100, Train Loss: 0.6288, Validation Loss: 0.9588\n",
            "Epoch 67/100, Train Loss: 0.6221, Validation Loss: 0.9500\n",
            "Epoch 68/100, Train Loss: 0.6188, Validation Loss: 0.9668\n",
            "Epoch 69/100, Train Loss: 0.6088, Validation Loss: 0.9761\n",
            "Epoch 70/100, Train Loss: 0.5990, Validation Loss: 0.9881\n",
            "Epoch 71/100, Train Loss: 0.5898, Validation Loss: 1.0000\n",
            "Epoch 72/100, Train Loss: 0.5818, Validation Loss: 0.9986\n",
            "Epoch 73/100, Train Loss: 0.5778, Validation Loss: 1.0023\n",
            "Epoch 74/100, Train Loss: 0.5683, Validation Loss: 1.0021\n",
            "Epoch 75/100, Train Loss: 0.5597, Validation Loss: 1.0045\n",
            "Epoch 76/100, Train Loss: 0.5522, Validation Loss: 1.0020\n",
            "Epoch 77/100, Train Loss: 0.5457, Validation Loss: 1.0125\n",
            "Epoch 78/100, Train Loss: 0.5381, Validation Loss: 1.0178\n",
            "Epoch 79/100, Train Loss: 0.5291, Validation Loss: 1.0102\n",
            "Epoch 80/100, Train Loss: 0.5207, Validation Loss: 1.0294\n",
            "Epoch 81/100, Train Loss: 0.5134, Validation Loss: 1.0197\n",
            "Epoch 82/100, Train Loss: 0.5069, Validation Loss: 1.0304\n",
            "Epoch 83/100, Train Loss: 0.4979, Validation Loss: 1.0609\n",
            "Epoch 84/100, Train Loss: 0.4934, Validation Loss: 1.0605\n",
            "Epoch 85/100, Train Loss: 0.4835, Validation Loss: 1.0258\n",
            "Epoch 86/100, Train Loss: 0.4745, Validation Loss: 1.0600\n",
            "Epoch 87/100, Train Loss: 0.4730, Validation Loss: 1.0581\n",
            "Epoch 88/100, Train Loss: 0.4649, Validation Loss: 1.0679\n",
            "Epoch 89/100, Train Loss: 0.4656, Validation Loss: 1.0993\n",
            "Epoch 90/100, Train Loss: 0.4505, Validation Loss: 1.0627\n",
            "Epoch 91/100, Train Loss: 0.4419, Validation Loss: 1.0667\n",
            "Epoch 92/100, Train Loss: 0.4371, Validation Loss: 1.0815\n",
            "Epoch 93/100, Train Loss: 0.4319, Validation Loss: 1.0686\n",
            "Epoch 94/100, Train Loss: 0.4264, Validation Loss: 1.0760\n",
            "Epoch 95/100, Train Loss: 0.4165, Validation Loss: 1.0841\n",
            "Epoch 96/100, Train Loss: 0.4091, Validation Loss: 1.0859\n",
            "Epoch 97/100, Train Loss: 0.4035, Validation Loss: 1.0896\n",
            "Epoch 98/100, Train Loss: 0.3992, Validation Loss: 1.0883\n",
            "Epoch 99/100, Train Loss: 0.3920, Validation Loss: 1.1002\n",
            "Epoch 100/100, Train Loss: 0.3867, Validation Loss: 1.0874\n"
          ]
        },
        {
          "output_type": "display_data",
          "data": {
            "text/plain": [
              "<Figure size 1200x800 with 1 Axes>"
            ],
            "image/png": "[encoded data removed]"
          },
          "metadata": {}
        },
        {
          "output_type": "execute_result",
          "data": {
            "text/plain": [
              "MultivariateLSTM(\n",
              "  (lstm): LSTM(13, 50, num_layers=2, batch_first=True)\n",
              "  (fc1): Linear(in_features=50, out_features=20, bias=True)\n",
              "  (fc2): Linear(in_features=20, out_features=10, bias=True)\n",
              "  (fc3): Linear(in_features=10, out_features=1, bias=True)\n",
              ")"
            ]
          },
          "metadata": {},
          "execution_count": 46
        }
      ]
    },
    {
      "cell_type": "code",
      "source": [],
      "metadata": {
        "id": "t_pR_JBpqSC6"
      },
      "execution_count": null,
      "outputs": []
    },
    {
      "cell_type": "code",
      "source": [],
      "metadata": {
        "id": "3En8_4PEqR_9"
      },
      "execution_count": null,
      "outputs": []
    },
    {
      "cell_type": "code",
      "source": [],
      "metadata": {
        "id": "p-CD2RWKqR9M"
      },
      "execution_count": null,
      "outputs": []
    },
    {
      "cell_type": "code",
      "source": [],
      "metadata": {
        "id": "dVCzGf3JqR6Q"
      },
      "execution_count": null,
      "outputs": []
    },
    {
      "cell_type": "code",
      "source": [],
      "metadata": {
        "id": "wzqCmQAaqR3K"
      },
      "execution_count": null,
      "outputs": []
    },
    {
      "cell_type": "code",
      "source": [],
      "metadata": {
        "id": "oTv3CbVOqR0T"
      },
      "execution_count": null,
      "outputs": []
    },
    {
      "cell_type": "code",
      "source": [],
      "metadata": {
        "id": "HR7gWfl-qRxU"
      },
      "execution_count": null,
      "outputs": []
    },
    {
      "cell_type": "code",
      "source": [],
      "metadata": {
        "id": "iubr3Q6NqRtc"
      },
      "execution_count": null,
      "outputs": []
    },
    {
      "cell_type": "code",
      "source": [],
      "metadata": {
        "id": "9mx57MjIqRqQ"
      },
      "execution_count": null,
      "outputs": []
    },
    {
      "cell_type": "code",
      "source": [],
      "metadata": {
        "id": "ZtJ4nJaXqRhn"
      },
      "execution_count": null,
      "outputs": []
    },
    {
      "cell_type": "code",
      "source": [
        "import torch\n",
        "import pandas as pd\n",
        "from sklearn.preprocessing import StandardScaler\n",
        "\n",
        "import torch\n",
        "import pandas as pd\n",
        "from sklearn.preprocessing import StandardScaler\n",
        "\n",
        "def preprocess_data(df, sequence_length):\n",
        "    df = df.copy()  # Create a copy of the DataFrame\n",
        "\n",
        "    # Select the columns to be scaled\n",
        "    columns_to_scale = df.columns\n",
        "\n",
        "    # Scale the selected columns using StandardScaler\n",
        "    scaler = MinMaxScaler()\n",
        "    df.loc[:, columns_to_scale] = scaler.fit_transform(df.loc[:, columns_to_scale])\n",
        "\n",
        "    # Shift the 'return' column by one step\n",
        "    df['return_shifted'] = df['return'].shift(-1)\n",
        "\n",
        "    # Drop the last row since it will have NaN values\n",
        "    df = df[:-1]\n",
        "\n",
        "    df=df[1:]\n",
        "\n",
        "    # Initialize empty lists for input sequences and target values\n",
        "    input_sequences = []\n",
        "    targets = []\n",
        "\n",
        "    # Generate input sequences and corresponding targets\n",
        "    for i in range(len(df) - sequence_length):\n",
        "        seq = df.iloc[i : i + sequence_length].values  # Get the sequence of length sequence_length\n",
        "        target = df.iloc[i + sequence_length]['return_shifted']  # Get the target value for the next time step\n",
        "\n",
        "        input_sequences.append(seq)\n",
        "        targets.append(target)\n",
        "\n",
        "    # Convert input sequences and targets to PyTorch tensors\n",
        "    input_sequences = torch.Tensor(input_sequences)\n",
        "    targets = torch.Tensor(targets)\n",
        "\n",
        "    return input_sequences, targets\n",
        "\n",
        "\n",
        "\n",
        "import torch\n",
        "from torch.utils.data import Dataset\n",
        "\n",
        "class MyDataset(Dataset):\n",
        "    def __init__(self, input_sequences, targets):\n",
        "        self.input_sequences = input_sequences\n",
        "        self.targets = targets\n",
        "\n",
        "    def __len__(self):\n",
        "        return len(self.input_sequences)\n",
        "\n",
        "    def __getitem__(self, idx):\n",
        "        x = self.input_sequences[idx]\n",
        "        y = self.targets[idx]\n",
        "        return x, y\n",
        "\n",
        "\n",
        "\n",
        "\n",
        "\n",
        "\n",
        "\n",
        "\n",
        "\n"
      ],
      "metadata": {
        "id": "OOzpxsJGWhdL"
      },
      "execution_count": 10,
      "outputs": []
    },
    {
      "cell_type": "code",
      "source": [
        "train_stock = preprocess_data(train_stock_data_return, sequence_length) \n",
        "valid_stock = preprocess_data(valid_stock_data_return, sequence_length) "
      ],
      "metadata": {
        "id": "525pgRC716_E",
        "colab": {
          "base_uri": "https://localhost:8080/"
        },
        "outputId": "504bc759-636d-4dfa-974f-eb63d8288c10"
      },
      "execution_count": 11,
      "outputs": [
        {
          "output_type": "stream",
          "name": "stderr",
          "text": [
            "<ipython-input-10-f8b6399d43a7>:40: UserWarning: Creating a tensor from a list of numpy.ndarrays is extremely slow. Please consider converting the list to a single numpy.ndarray with numpy.array() before converting to a tensor. (Triggered internally at ../torch/csrc/utils/tensor_new.cpp:245.)\n",
            "  input_sequences = torch.Tensor(input_sequences)\n"
          ]
        }
      ]
    },
    {
      "cell_type": "code",
      "source": [
        "train_dataset = MyDataset(train_stock_data_return)\n",
        "valid_dataset = MyDataset(valid_stock_data_return)"
      ],
      "metadata": {
        "id": "EPnVhTAS16y8"
      },
      "execution_count": 93,
      "outputs": []
    },
    {
      "cell_type": "code",
      "source": [
        "import torch\n",
        "import torch.nn as nn\n",
        "\n",
        "class MyLSTMModel(nn.Module):\n",
        "    def __init__(self, input_size, hidden_size, num_layers, output_size):\n",
        "        super(MyLSTMModel, self).__init__()\n",
        "        self.hidden_size = hidden_size\n",
        "        self.num_layers = num_layers\n",
        "        self.lstm = nn.LSTM(input_size, hidden_size, num_layers, batch_first=True)\n",
        "        self.fc1 = nn.Linear(hidden_size, 64)  # First linear layer\n",
        "        self.fc2 = nn.Linear(64, output_size)  # Second linear layer\n",
        "\n",
        "    def forward(self, x):\n",
        "        h0 = torch.zeros(self.num_layers, x.size(0), self.hidden_size).to(x.device)  # Initialize hidden state\n",
        "        c0 = torch.zeros(self.num_layers, x.size(0), self.hidden_size).to(x.device)  # Initialize cell state\n",
        "        out, _ = self.lstm(x, (h0, c0))  # LSTM layer\n",
        "        out = self.fc1(out[:, -1, :])  # Extract the last time step output and pass it through the first linear layer\n",
        "        out = self.fc2(out)  # Second linear layer\n",
        "        return out\n",
        "\n",
        "# Example usage\n",
        "input_size = 13  # Number of input features (columns except 'return')\n",
        "hidden_size = 128  # Number of hidden units in each LSTM layer\n",
        "num_layers = 2  # Number of LSTM layers\n",
        "output_size = 1  # Number of output units (prediction for 'return')\n",
        "\n",
        "model = MyLSTMModel(input_size, hidden_size, num_layers, output_size)"
      ],
      "metadata": {
        "id": "FXPn7anV16ml"
      },
      "execution_count": null,
      "outputs": []
    },
    {
      "cell_type": "code",
      "source": [
        "import torch\n",
        "import torch.nn as nn\n",
        "import torch.optim as optim\n",
        "\n",
        "def train(model, train_dataset, val_dataset, num_epochs, batch_size, learning_rate, device):\n",
        "    criterion = nn.MSELoss()  # Mean Squared Error loss\n",
        "    optimizer = optim.Adam(model.parameters(), lr=learning_rate)  # Adam optimizer\n",
        "    best_val_loss = float('inf')  # Initialize best validation loss\n",
        "\n",
        "    train_loader = torch.utils.data.DataLoader(train_dataset, batch_size=batch_size, shuffle=True)\n",
        "    val_loader = torch.utils.data.DataLoader(valid_dataset, batch_size=batch_size)\n",
        "\n",
        "    for epoch in range(num_epochs):\n",
        "        model.train()  # Set model to train mode\n",
        "        train_loss = 0.0\n",
        "\n",
        "        for inputs, targets in train_loader:\n",
        "            inputs = inputs.to(device)\n",
        "            targets = targets.to(device)\n",
        "\n",
        "            optimizer.zero_grad()  # Clear gradients\n",
        "\n",
        "            # Forward pass\n",
        "            outputs = model(inputs)\n",
        "            loss = criterion(outputs, targets)\n",
        "\n",
        "            # Backward pass and optimization\n",
        "            loss.backward()\n",
        "            optimizer.step()\n",
        "\n",
        "            train_loss += loss.item() * inputs.size(0)\n",
        "\n",
        "        train_loss /= len(train_dataset)\n",
        "\n",
        "        model.eval()  # Set model to evaluation mode\n",
        "        val_loss = 0.0\n",
        "\n",
        "        with torch.no_grad():\n",
        "            for inputs, targets in val_loader:\n",
        "                inputs = inputs.to(device)\n",
        "                targets = targets.to(device)\n",
        "\n",
        "                # Forward pass\n",
        "                outputs = model(inputs)\n",
        "                loss = criterion(outputs, targets)\n",
        "\n",
        "                val_loss += loss.item() * inputs.size(0)\n",
        "\n",
        "            val_loss /= len(val_dataset)\n",
        "\n",
        "        # Display statistics\n",
        "        print(f\"Epoch [{epoch+1}/{num_epochs}], Train Loss: {train_loss:.4f}, Val Loss: {val_loss:.4f}\")\n",
        "\n",
        "        # Save the best model based on validation loss\n",
        "        if val_loss < best_val_loss:\n",
        "            best_val_loss = val_loss\n",
        "            torch.save(model.state_dict(), 'best_model.pth')\n",
        "\n",
        "    print(\"Training completed!\")\n",
        "\n",
        "# Example usage\n",
        "device = torch.device(\"cuda\" if torch.cuda.is_available() else \"cpu\")\n",
        "\n",
        "# Assuming you have train_dataset and val_dataset objects already defined\n",
        "\n",
        "# Initialize the model\n",
        "model = MyLSTMModel(input_size, hidden_size, num_layers, output_size)\n",
        "model.to(device)\n",
        "\n",
        "# Set hyperparameters\n",
        "num_epochs = 10\n",
        "batch_size = 64\n",
        "learning_rate = 0.001\n",
        "\n",
        "# Train the model\n",
        "train(model, train_dataset, valid_dataset, num_epochs, batch_size, learning_rate, device)\n"
      ],
      "metadata": {
        "colab": {
          "base_uri": "https://localhost:8080/",
          "height": 345
        },
        "id": "MMzwipxY-BJ3",
        "outputId": "d04282bd-5802-41e5-a1a9-6ea9078d04b3"
      },
      "execution_count": 94,
      "outputs": [
        {
          "output_type": "error",
          "ename": "ValueError",
          "evalue": "ignored",
          "traceback": [
            "\u001b[0;31m---------------------------------------------------------------------------\u001b[0m",
            "\u001b[0;31mValueError\u001b[0m                                Traceback (most recent call last)",
            "\u001b[0;32m<ipython-input-94-894e5690bb4e>\u001b[0m in \u001b[0;36m<cell line: 76>\u001b[0;34m()\u001b[0m\n\u001b[1;32m     74\u001b[0m \u001b[0;34m\u001b[0m\u001b[0m\n\u001b[1;32m     75\u001b[0m \u001b[0;31m# Train the model\u001b[0m\u001b[0;34m\u001b[0m\u001b[0;34m\u001b[0m\u001b[0m\n\u001b[0;32m---> 76\u001b[0;31m \u001b[0mtrain\u001b[0m\u001b[0;34m(\u001b[0m\u001b[0mmodel\u001b[0m\u001b[0;34m,\u001b[0m \u001b[0mtrain_dataset\u001b[0m\u001b[0;34m,\u001b[0m \u001b[0mvalid_dataset\u001b[0m\u001b[0;34m,\u001b[0m \u001b[0mnum_epochs\u001b[0m\u001b[0;34m,\u001b[0m \u001b[0mbatch_size\u001b[0m\u001b[0;34m,\u001b[0m \u001b[0mlearning_rate\u001b[0m\u001b[0;34m,\u001b[0m \u001b[0mdevice\u001b[0m\u001b[0;34m)\u001b[0m\u001b[0;34m\u001b[0m\u001b[0;34m\u001b[0m\u001b[0m\n\u001b[0m",
            "\u001b[0;32m<ipython-input-94-894e5690bb4e>\u001b[0m in \u001b[0;36mtrain\u001b[0;34m(model, train_dataset, val_dataset, num_epochs, batch_size, learning_rate, device)\u001b[0m\n\u001b[1;32m     15\u001b[0m         \u001b[0mtrain_loss\u001b[0m \u001b[0;34m=\u001b[0m \u001b[0;36m0.0\u001b[0m\u001b[0;34m\u001b[0m\u001b[0;34m\u001b[0m\u001b[0m\n\u001b[1;32m     16\u001b[0m \u001b[0;34m\u001b[0m\u001b[0m\n\u001b[0;32m---> 17\u001b[0;31m         \u001b[0;32mfor\u001b[0m \u001b[0minputs\u001b[0m\u001b[0;34m,\u001b[0m \u001b[0mtargets\u001b[0m \u001b[0;32min\u001b[0m \u001b[0mtrain_loader\u001b[0m\u001b[0;34m:\u001b[0m\u001b[0;34m\u001b[0m\u001b[0;34m\u001b[0m\u001b[0m\n\u001b[0m\u001b[1;32m     18\u001b[0m             \u001b[0minputs\u001b[0m \u001b[0;34m=\u001b[0m \u001b[0minputs\u001b[0m\u001b[0;34m.\u001b[0m\u001b[0mto\u001b[0m\u001b[0;34m(\u001b[0m\u001b[0mdevice\u001b[0m\u001b[0;34m)\u001b[0m\u001b[0;34m\u001b[0m\u001b[0;34m\u001b[0m\u001b[0m\n\u001b[1;32m     19\u001b[0m             \u001b[0mtargets\u001b[0m \u001b[0;34m=\u001b[0m \u001b[0mtargets\u001b[0m\u001b[0;34m.\u001b[0m\u001b[0mto\u001b[0m\u001b[0;34m(\u001b[0m\u001b[0mdevice\u001b[0m\u001b[0;34m)\u001b[0m\u001b[0;34m\u001b[0m\u001b[0;34m\u001b[0m\u001b[0m\n",
            "\u001b[0;32m/usr/local/lib/python3.10/dist-packages/torch/utils/data/dataloader.py\u001b[0m in \u001b[0;36m__next__\u001b[0;34m(self)\u001b[0m\n\u001b[1;32m    632\u001b[0m                 \u001b[0;31m# TODO(https://github.com/pytorch/pytorch/issues/76750)\u001b[0m\u001b[0;34m\u001b[0m\u001b[0;34m\u001b[0m\u001b[0m\n\u001b[1;32m    633\u001b[0m                 \u001b[0mself\u001b[0m\u001b[0;34m.\u001b[0m\u001b[0m_reset\u001b[0m\u001b[0;34m(\u001b[0m\u001b[0;34m)\u001b[0m  \u001b[0;31m# type: ignore[call-arg]\u001b[0m\u001b[0;34m\u001b[0m\u001b[0;34m\u001b[0m\u001b[0m\n\u001b[0;32m--> 634\u001b[0;31m             \u001b[0mdata\u001b[0m \u001b[0;34m=\u001b[0m \u001b[0mself\u001b[0m\u001b[0;34m.\u001b[0m\u001b[0m_next_data\u001b[0m\u001b[0;34m(\u001b[0m\u001b[0;34m)\u001b[0m\u001b[0;34m\u001b[0m\u001b[0;34m\u001b[0m\u001b[0m\n\u001b[0m\u001b[1;32m    635\u001b[0m             \u001b[0mself\u001b[0m\u001b[0;34m.\u001b[0m\u001b[0m_num_yielded\u001b[0m \u001b[0;34m+=\u001b[0m \u001b[0;36m1\u001b[0m\u001b[0;34m\u001b[0m\u001b[0;34m\u001b[0m\u001b[0m\n\u001b[1;32m    636\u001b[0m             \u001b[0;32mif\u001b[0m \u001b[0mself\u001b[0m\u001b[0;34m.\u001b[0m\u001b[0m_dataset_kind\u001b[0m \u001b[0;34m==\u001b[0m \u001b[0m_DatasetKind\u001b[0m\u001b[0;34m.\u001b[0m\u001b[0mIterable\u001b[0m \u001b[0;32mand\u001b[0m\u001b[0;31m \u001b[0m\u001b[0;31m\\\u001b[0m\u001b[0;34m\u001b[0m\u001b[0;34m\u001b[0m\u001b[0m\n",
            "\u001b[0;32m/usr/local/lib/python3.10/dist-packages/torch/utils/data/dataloader.py\u001b[0m in \u001b[0;36m_next_data\u001b[0;34m(self)\u001b[0m\n\u001b[1;32m    676\u001b[0m     \u001b[0;32mdef\u001b[0m \u001b[0m_next_data\u001b[0m\u001b[0;34m(\u001b[0m\u001b[0mself\u001b[0m\u001b[0;34m)\u001b[0m\u001b[0;34m:\u001b[0m\u001b[0;34m\u001b[0m\u001b[0;34m\u001b[0m\u001b[0m\n\u001b[1;32m    677\u001b[0m         \u001b[0mindex\u001b[0m \u001b[0;34m=\u001b[0m \u001b[0mself\u001b[0m\u001b[0;34m.\u001b[0m\u001b[0m_next_index\u001b[0m\u001b[0;34m(\u001b[0m\u001b[0;34m)\u001b[0m  \u001b[0;31m# may raise StopIteration\u001b[0m\u001b[0;34m\u001b[0m\u001b[0;34m\u001b[0m\u001b[0m\n\u001b[0;32m--> 678\u001b[0;31m         \u001b[0mdata\u001b[0m \u001b[0;34m=\u001b[0m \u001b[0mself\u001b[0m\u001b[0;34m.\u001b[0m\u001b[0m_dataset_fetcher\u001b[0m\u001b[0;34m.\u001b[0m\u001b[0mfetch\u001b[0m\u001b[0;34m(\u001b[0m\u001b[0mindex\u001b[0m\u001b[0;34m)\u001b[0m  \u001b[0;31m# may raise StopIteration\u001b[0m\u001b[0;34m\u001b[0m\u001b[0;34m\u001b[0m\u001b[0m\n\u001b[0m\u001b[1;32m    679\u001b[0m         \u001b[0;32mif\u001b[0m \u001b[0mself\u001b[0m\u001b[0;34m.\u001b[0m\u001b[0m_pin_memory\u001b[0m\u001b[0;34m:\u001b[0m\u001b[0;34m\u001b[0m\u001b[0;34m\u001b[0m\u001b[0m\n\u001b[1;32m    680\u001b[0m             \u001b[0mdata\u001b[0m \u001b[0;34m=\u001b[0m \u001b[0m_utils\u001b[0m\u001b[0;34m.\u001b[0m\u001b[0mpin_memory\u001b[0m\u001b[0;34m.\u001b[0m\u001b[0mpin_memory\u001b[0m\u001b[0;34m(\u001b[0m\u001b[0mdata\u001b[0m\u001b[0;34m,\u001b[0m \u001b[0mself\u001b[0m\u001b[0;34m.\u001b[0m\u001b[0m_pin_memory_device\u001b[0m\u001b[0;34m)\u001b[0m\u001b[0;34m\u001b[0m\u001b[0;34m\u001b[0m\u001b[0m\n",
            "\u001b[0;32m/usr/local/lib/python3.10/dist-packages/torch/utils/data/_utils/fetch.py\u001b[0m in \u001b[0;36mfetch\u001b[0;34m(self, possibly_batched_index)\u001b[0m\n\u001b[1;32m     49\u001b[0m                 \u001b[0mdata\u001b[0m \u001b[0;34m=\u001b[0m \u001b[0mself\u001b[0m\u001b[0;34m.\u001b[0m\u001b[0mdataset\u001b[0m\u001b[0;34m.\u001b[0m\u001b[0m__getitems__\u001b[0m\u001b[0;34m(\u001b[0m\u001b[0mpossibly_batched_index\u001b[0m\u001b[0;34m)\u001b[0m\u001b[0;34m\u001b[0m\u001b[0;34m\u001b[0m\u001b[0m\n\u001b[1;32m     50\u001b[0m             \u001b[0;32melse\u001b[0m\u001b[0;34m:\u001b[0m\u001b[0;34m\u001b[0m\u001b[0;34m\u001b[0m\u001b[0m\n\u001b[0;32m---> 51\u001b[0;31m                 \u001b[0mdata\u001b[0m \u001b[0;34m=\u001b[0m \u001b[0;34m[\u001b[0m\u001b[0mself\u001b[0m\u001b[0;34m.\u001b[0m\u001b[0mdataset\u001b[0m\u001b[0;34m[\u001b[0m\u001b[0midx\u001b[0m\u001b[0;34m]\u001b[0m \u001b[0;32mfor\u001b[0m \u001b[0midx\u001b[0m \u001b[0;32min\u001b[0m \u001b[0mpossibly_batched_index\u001b[0m\u001b[0;34m]\u001b[0m\u001b[0;34m\u001b[0m\u001b[0;34m\u001b[0m\u001b[0m\n\u001b[0m\u001b[1;32m     52\u001b[0m         \u001b[0;32melse\u001b[0m\u001b[0;34m:\u001b[0m\u001b[0;34m\u001b[0m\u001b[0;34m\u001b[0m\u001b[0m\n\u001b[1;32m     53\u001b[0m             \u001b[0mdata\u001b[0m \u001b[0;34m=\u001b[0m \u001b[0mself\u001b[0m\u001b[0;34m.\u001b[0m\u001b[0mdataset\u001b[0m\u001b[0;34m[\u001b[0m\u001b[0mpossibly_batched_index\u001b[0m\u001b[0;34m]\u001b[0m\u001b[0;34m\u001b[0m\u001b[0;34m\u001b[0m\u001b[0m\n",
            "\u001b[0;32m/usr/local/lib/python3.10/dist-packages/torch/utils/data/_utils/fetch.py\u001b[0m in \u001b[0;36m<listcomp>\u001b[0;34m(.0)\u001b[0m\n\u001b[1;32m     49\u001b[0m                 \u001b[0mdata\u001b[0m \u001b[0;34m=\u001b[0m \u001b[0mself\u001b[0m\u001b[0;34m.\u001b[0m\u001b[0mdataset\u001b[0m\u001b[0;34m.\u001b[0m\u001b[0m__getitems__\u001b[0m\u001b[0;34m(\u001b[0m\u001b[0mpossibly_batched_index\u001b[0m\u001b[0;34m)\u001b[0m\u001b[0;34m\u001b[0m\u001b[0;34m\u001b[0m\u001b[0m\n\u001b[1;32m     50\u001b[0m             \u001b[0;32melse\u001b[0m\u001b[0;34m:\u001b[0m\u001b[0;34m\u001b[0m\u001b[0;34m\u001b[0m\u001b[0m\n\u001b[0;32m---> 51\u001b[0;31m                 \u001b[0mdata\u001b[0m \u001b[0;34m=\u001b[0m \u001b[0;34m[\u001b[0m\u001b[0mself\u001b[0m\u001b[0;34m.\u001b[0m\u001b[0mdataset\u001b[0m\u001b[0;34m[\u001b[0m\u001b[0midx\u001b[0m\u001b[0;34m]\u001b[0m \u001b[0;32mfor\u001b[0m \u001b[0midx\u001b[0m \u001b[0;32min\u001b[0m \u001b[0mpossibly_batched_index\u001b[0m\u001b[0;34m]\u001b[0m\u001b[0;34m\u001b[0m\u001b[0;34m\u001b[0m\u001b[0m\n\u001b[0m\u001b[1;32m     52\u001b[0m         \u001b[0;32melse\u001b[0m\u001b[0;34m:\u001b[0m\u001b[0;34m\u001b[0m\u001b[0;34m\u001b[0m\u001b[0m\n\u001b[1;32m     53\u001b[0m             \u001b[0mdata\u001b[0m \u001b[0;34m=\u001b[0m \u001b[0mself\u001b[0m\u001b[0;34m.\u001b[0m\u001b[0mdataset\u001b[0m\u001b[0;34m[\u001b[0m\u001b[0mpossibly_batched_index\u001b[0m\u001b[0;34m]\u001b[0m\u001b[0;34m\u001b[0m\u001b[0;34m\u001b[0m\u001b[0m\n",
            "\u001b[0;32m<ipython-input-92-858f956fa5e4>\u001b[0m in \u001b[0;36m__getitem__\u001b[0;34m(self, idx)\u001b[0m\n\u001b[1;32m     32\u001b[0m     \u001b[0;32mdef\u001b[0m \u001b[0m__getitem__\u001b[0m\u001b[0;34m(\u001b[0m\u001b[0mself\u001b[0m\u001b[0;34m,\u001b[0m \u001b[0midx\u001b[0m\u001b[0;34m)\u001b[0m\u001b[0;34m:\u001b[0m\u001b[0;34m\u001b[0m\u001b[0;34m\u001b[0m\u001b[0m\n\u001b[1;32m     33\u001b[0m         \u001b[0mx\u001b[0m \u001b[0;34m=\u001b[0m \u001b[0mtorch\u001b[0m\u001b[0;34m.\u001b[0m\u001b[0mTensor\u001b[0m\u001b[0;34m(\u001b[0m\u001b[0mself\u001b[0m\u001b[0;34m.\u001b[0m\u001b[0mdata\u001b[0m\u001b[0;34m[\u001b[0m\u001b[0midx\u001b[0m\u001b[0;34m,\u001b[0m \u001b[0;34m:\u001b[0m\u001b[0;34m-\u001b[0m\u001b[0;36m1\u001b[0m\u001b[0;34m]\u001b[0m\u001b[0;34m)\u001b[0m  \u001b[0;31m# Input features (all columns except the last one)\u001b[0m\u001b[0;34m\u001b[0m\u001b[0;34m\u001b[0m\u001b[0m\n\u001b[0;32m---> 34\u001b[0;31m         \u001b[0my\u001b[0m \u001b[0;34m=\u001b[0m \u001b[0mtorch\u001b[0m\u001b[0;34m.\u001b[0m\u001b[0mTensor\u001b[0m\u001b[0;34m(\u001b[0m\u001b[0;34m[\u001b[0m\u001b[0mself\u001b[0m\u001b[0;34m.\u001b[0m\u001b[0mdata\u001b[0m\u001b[0;34m[\u001b[0m\u001b[0midx\u001b[0m \u001b[0;34m+\u001b[0m \u001b[0;36m1\u001b[0m\u001b[0;34m,\u001b[0m \u001b[0;34m-\u001b[0m\u001b[0;36m1\u001b[0m\u001b[0;34m]\u001b[0m\u001b[0;34m]\u001b[0m\u001b[0;34m)\u001b[0m  \u001b[0;31m# Target variable ('return' column for the next time step)\u001b[0m\u001b[0;34m\u001b[0m\u001b[0;34m\u001b[0m\u001b[0m\n\u001b[0m\u001b[1;32m     35\u001b[0m         \u001b[0;32mreturn\u001b[0m \u001b[0mx\u001b[0m\u001b[0;34m,\u001b[0m \u001b[0my\u001b[0m\u001b[0;34m\u001b[0m\u001b[0;34m\u001b[0m\u001b[0m\n\u001b[1;32m     36\u001b[0m \u001b[0;34m\u001b[0m\u001b[0m\n",
            "\u001b[0;31mValueError\u001b[0m: only one element tensors can be converted to Python scalars"
          ]
        }
      ]
    },
    {
      "cell_type": "code",
      "source": [],
      "metadata": {
        "id": "4ef29Fyr-Avp"
      },
      "execution_count": null,
      "outputs": []
    },
    {
      "cell_type": "code",
      "source": [],
      "metadata": {
        "id": "1K6L-hlF-AUP"
      },
      "execution_count": null,
      "outputs": []
    },
    {
      "cell_type": "code",
      "source": [],
      "metadata": {
        "id": "ZWPy6Kte9_67"
      },
      "execution_count": null,
      "outputs": []
    },
    {
      "cell_type": "code",
      "source": [],
      "metadata": {
        "id": "il3PZrLAWg8x"
      },
      "execution_count": null,
      "outputs": []
    },
    {
      "cell_type": "code",
      "source": [],
      "metadata": {
        "id": "CaPkLqYOWg1i"
      },
      "execution_count": null,
      "outputs": []
    }
  ]
}